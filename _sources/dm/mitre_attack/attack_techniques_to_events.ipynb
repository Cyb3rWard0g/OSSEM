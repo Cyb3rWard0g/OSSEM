{
 "cells": [
  {
   "cell_type": "markdown",
   "metadata": {},
   "source": [
    "# ATT&CK Techniques to Security Events\n",
    "\n",
    "-----------------------------------"
   ]
  },
  {
   "cell_type": "markdown",
   "metadata": {},
   "source": [
    "* **Author**: Jose Luis Rodriguez - [@Cyb3rPandaH](https://twitter.com/Cyb3rPandaH)\n",
    "* **Organization**: [Open Threat Research (OTR)](https://github.com/OTRF)\n",
    "* **References**: \n",
    " - [OSSEM - ATT&CK Event Mapping](https://github.com/OTRF/OSSEM-DM/blob/main/docs/mitre_attack/techniques_to_events_mapping.yaml)\n",
    " - [Defining ATT&CK Data Sources, Part I: Enhancing the Current State](https://medium.com/mitre-attack/defining-attack-data-sources-part-i-4c39e581454f)\n",
    " - [Defining ATT&CK Data Sources, Part II: Operationalizing the Methodology](https://medium.com/mitre-attack/defining-attack-data-sources-part-ii-1fc98738ba5b)\n",
    " - [ATT&CK - Data Sources Definition](https://github.com/mitre-attack/attack-datasources/tree/main/contribution)"
   ]
  },
  {
   "cell_type": "markdown",
   "metadata": {},
   "source": [
    "## Importing Python Libraries"
   ]
  },
  {
   "cell_type": "code",
   "execution_count": 1,
   "metadata": {},
   "outputs": [],
   "source": [
    "# Importing library to manipulate data\n",
    "import pandas as pd\n",
    "\n",
    "# Importing library to manipulate yaml data\n",
    "import yaml\n",
    "import requests\n",
    "\n",
    "# Importing library for visualizations\n",
    "import plotly.graph_objects as go"
   ]
  },
  {
   "cell_type": "markdown",
   "metadata": {},
   "source": [
    "## Importing (Sub)Techniques to Security Events Mapping Yaml File"
   ]
  },
  {
   "source": [
    "Using the **[attackcti](https://attackcti.com/intro.html)** Python library, we were able to collect all the techniques within the Enterprise matrix. After that, we have mapped several security events to each data source/component/relationship. Here is the result:"
   ],
   "cell_type": "markdown",
   "metadata": {}
  },
  {
   "cell_type": "code",
   "execution_count": 2,
   "metadata": {},
   "outputs": [
    {
     "output_type": "execute_result",
     "data": {
      "text/plain": [
       "  technique_id  x_mitre_is_subtechnique                         technique  \\\n",
       "0    T1553.006                     True  Code Signing Policy Modification   \n",
       "1    T1553.006                     True  Code Signing Policy Modification   \n",
       "2    T1553.006                     True  Code Signing Policy Modification   \n",
       "3    T1553.006                     True  Code Signing Policy Modification   \n",
       "4    T1553.006                     True  Code Signing Policy Modification   \n",
       "\n",
       "              tactic          platform       data_source  \\\n",
       "0  [defense-evasion]  [Windows, macOS]  windows registry   \n",
       "1  [defense-evasion]  [Windows, macOS]  windows registry   \n",
       "2  [defense-evasion]  [Windows, macOS]  windows registry   \n",
       "3  [defense-evasion]  [Windows, macOS]  windows registry   \n",
       "4  [defense-evasion]  [Windows, macOS]  windows registry   \n",
       "\n",
       "                      data_component  \\\n",
       "0  windows registry key modification   \n",
       "1  windows registry key modification   \n",
       "2  windows registry key modification   \n",
       "3  windows registry key modification   \n",
       "4  windows registry key modification   \n",
       "\n",
       "                                          name   source relationship  \\\n",
       "0        Process modified Windows registry key  process     modified   \n",
       "1        Process modified Windows registry key  process     modified   \n",
       "2        Process modified Windows registry key  process     modified   \n",
       "3        Process modified Windows registry key  process     modified   \n",
       "4  Process modified Windows registry key value  process     modified   \n",
       "\n",
       "                       target              event_id  \\\n",
       "0        windows registry key                    13   \n",
       "1        windows registry key                    14   \n",
       "2        windows registry key                  4670   \n",
       "3        windows registry key  DeviceRegistryEvents   \n",
       "4  windows registry key value                    13   \n",
       "\n",
       "                               event_name event_platform audit_category  \\\n",
       "0              RegistryEvent (Value Set).        Windows  RegistryEvent   \n",
       "1   RegistryEvent (Key and Value Rename).        Windows  RegistryEvent   \n",
       "2  Permissions on an object were changed.        Windows  Object Access   \n",
       "3                    DeviceRegistryEvents        Windows           None   \n",
       "4              RegistryEvent (Value Set).        Windows  RegistryEvent   \n",
       "\n",
       "  audit_sub_category                           log_channel  \\\n",
       "0                NaN  Microsoft-Windows-Sysmon/Operational   \n",
       "1                NaN  Microsoft-Windows-Sysmon/Operational   \n",
       "2           Registry                              Security   \n",
       "3                NaN                                  None   \n",
       "4                NaN  Microsoft-Windows-Sysmon/Operational   \n",
       "\n",
       "                                  log_provider  \n",
       "0                     Microsoft-Windows-Sysmon  \n",
       "1                     Microsoft-Windows-Sysmon  \n",
       "2          Microsoft-Windows-Security-Auditing  \n",
       "3  Windows Defender Advanced Threat Protection  \n",
       "4                     Microsoft-Windows-Sysmon  "
      ],
      "text/html": "<div>\n<style scoped>\n    .dataframe tbody tr th:only-of-type {\n        vertical-align: middle;\n    }\n\n    .dataframe tbody tr th {\n        vertical-align: top;\n    }\n\n    .dataframe thead th {\n        text-align: right;\n    }\n</style>\n<table border=\"1\" class=\"dataframe\">\n  <thead>\n    <tr style=\"text-align: right;\">\n      <th></th>\n      <th>technique_id</th>\n      <th>x_mitre_is_subtechnique</th>\n      <th>technique</th>\n      <th>tactic</th>\n      <th>platform</th>\n      <th>data_source</th>\n      <th>data_component</th>\n      <th>name</th>\n      <th>source</th>\n      <th>relationship</th>\n      <th>target</th>\n      <th>event_id</th>\n      <th>event_name</th>\n      <th>event_platform</th>\n      <th>audit_category</th>\n      <th>audit_sub_category</th>\n      <th>log_channel</th>\n      <th>log_provider</th>\n    </tr>\n  </thead>\n  <tbody>\n    <tr>\n      <th>0</th>\n      <td>T1553.006</td>\n      <td>True</td>\n      <td>Code Signing Policy Modification</td>\n      <td>[defense-evasion]</td>\n      <td>[Windows, macOS]</td>\n      <td>windows registry</td>\n      <td>windows registry key modification</td>\n      <td>Process modified Windows registry key</td>\n      <td>process</td>\n      <td>modified</td>\n      <td>windows registry key</td>\n      <td>13</td>\n      <td>RegistryEvent (Value Set).</td>\n      <td>Windows</td>\n      <td>RegistryEvent</td>\n      <td>NaN</td>\n      <td>Microsoft-Windows-Sysmon/Operational</td>\n      <td>Microsoft-Windows-Sysmon</td>\n    </tr>\n    <tr>\n      <th>1</th>\n      <td>T1553.006</td>\n      <td>True</td>\n      <td>Code Signing Policy Modification</td>\n      <td>[defense-evasion]</td>\n      <td>[Windows, macOS]</td>\n      <td>windows registry</td>\n      <td>windows registry key modification</td>\n      <td>Process modified Windows registry key</td>\n      <td>process</td>\n      <td>modified</td>\n      <td>windows registry key</td>\n      <td>14</td>\n      <td>RegistryEvent (Key and Value Rename).</td>\n      <td>Windows</td>\n      <td>RegistryEvent</td>\n      <td>NaN</td>\n      <td>Microsoft-Windows-Sysmon/Operational</td>\n      <td>Microsoft-Windows-Sysmon</td>\n    </tr>\n    <tr>\n      <th>2</th>\n      <td>T1553.006</td>\n      <td>True</td>\n      <td>Code Signing Policy Modification</td>\n      <td>[defense-evasion]</td>\n      <td>[Windows, macOS]</td>\n      <td>windows registry</td>\n      <td>windows registry key modification</td>\n      <td>Process modified Windows registry key</td>\n      <td>process</td>\n      <td>modified</td>\n      <td>windows registry key</td>\n      <td>4670</td>\n      <td>Permissions on an object were changed.</td>\n      <td>Windows</td>\n      <td>Object Access</td>\n      <td>Registry</td>\n      <td>Security</td>\n      <td>Microsoft-Windows-Security-Auditing</td>\n    </tr>\n    <tr>\n      <th>3</th>\n      <td>T1553.006</td>\n      <td>True</td>\n      <td>Code Signing Policy Modification</td>\n      <td>[defense-evasion]</td>\n      <td>[Windows, macOS]</td>\n      <td>windows registry</td>\n      <td>windows registry key modification</td>\n      <td>Process modified Windows registry key</td>\n      <td>process</td>\n      <td>modified</td>\n      <td>windows registry key</td>\n      <td>DeviceRegistryEvents</td>\n      <td>DeviceRegistryEvents</td>\n      <td>Windows</td>\n      <td>None</td>\n      <td>NaN</td>\n      <td>None</td>\n      <td>Windows Defender Advanced Threat Protection</td>\n    </tr>\n    <tr>\n      <th>4</th>\n      <td>T1553.006</td>\n      <td>True</td>\n      <td>Code Signing Policy Modification</td>\n      <td>[defense-evasion]</td>\n      <td>[Windows, macOS]</td>\n      <td>windows registry</td>\n      <td>windows registry key modification</td>\n      <td>Process modified Windows registry key value</td>\n      <td>process</td>\n      <td>modified</td>\n      <td>windows registry key value</td>\n      <td>13</td>\n      <td>RegistryEvent (Value Set).</td>\n      <td>Windows</td>\n      <td>RegistryEvent</td>\n      <td>NaN</td>\n      <td>Microsoft-Windows-Sysmon/Operational</td>\n      <td>Microsoft-Windows-Sysmon</td>\n    </tr>\n  </tbody>\n</table>\n</div>"
     },
     "metadata": {},
     "execution_count": 2
    }
   ],
   "source": [
    "yamlUrl = 'https://raw.githubusercontent.com/OTRF/OSSEM-DM/main/use-cases/mitre_attack/techniques_to_events_mapping.yaml'\n",
    "yamlContent = requests.get(yamlUrl)\n",
    "yamlMapping = yaml.safe_load(yamlContent.text)\n",
    "mapping = pd.json_normalize(yamlMapping)\n",
    "mapping.head()"
   ]
  },
  {
   "source": [
    "### Which are the most relevant data sources for Sub-Technqiues within the Enterprise Matrix?"
   ],
   "cell_type": "markdown",
   "metadata": {}
  },
  {
   "cell_type": "code",
   "execution_count": 3,
   "metadata": {},
   "outputs": [
    {
     "output_type": "display_data",
     "data": {
      "application/vnd.plotly.v1+json": {
       "config": {
        "plotlyServerURL": "https://plot.ly"
       },
       "data": [
        {
         "orientation": "v",
         "type": "bar",
         "x": [
          "process",
          "file",
          "command",
          "network traffic",
          "windows registry",
          "module",
          "application log",
          "user account",
          "logon session",
          "service",
          "active directory",
          "sensor health",
          "script",
          "scheduled job",
          "instance"
         ],
         "y": [
          176,
          173,
          155,
          121,
          49,
          35,
          28,
          24,
          22,
          18,
          15,
          10,
          10,
          9,
          7
         ]
        }
       ],
       "layout": {
        "template": {
         "data": {
          "bar": [
           {
            "error_x": {
             "color": "#2a3f5f"
            },
            "error_y": {
             "color": "#2a3f5f"
            },
            "marker": {
             "line": {
              "color": "#E5ECF6",
              "width": 0.5
             }
            },
            "type": "bar"
           }
          ],
          "barpolar": [
           {
            "marker": {
             "line": {
              "color": "#E5ECF6",
              "width": 0.5
             }
            },
            "type": "barpolar"
           }
          ],
          "carpet": [
           {
            "aaxis": {
             "endlinecolor": "#2a3f5f",
             "gridcolor": "white",
             "linecolor": "white",
             "minorgridcolor": "white",
             "startlinecolor": "#2a3f5f"
            },
            "baxis": {
             "endlinecolor": "#2a3f5f",
             "gridcolor": "white",
             "linecolor": "white",
             "minorgridcolor": "white",
             "startlinecolor": "#2a3f5f"
            },
            "type": "carpet"
           }
          ],
          "choropleth": [
           {
            "colorbar": {
             "outlinewidth": 0,
             "ticks": ""
            },
            "type": "choropleth"
           }
          ],
          "contour": [
           {
            "colorbar": {
             "outlinewidth": 0,
             "ticks": ""
            },
            "colorscale": [
             [
              0,
              "#0d0887"
             ],
             [
              0.1111111111111111,
              "#46039f"
             ],
             [
              0.2222222222222222,
              "#7201a8"
             ],
             [
              0.3333333333333333,
              "#9c179e"
             ],
             [
              0.4444444444444444,
              "#bd3786"
             ],
             [
              0.5555555555555556,
              "#d8576b"
             ],
             [
              0.6666666666666666,
              "#ed7953"
             ],
             [
              0.7777777777777778,
              "#fb9f3a"
             ],
             [
              0.8888888888888888,
              "#fdca26"
             ],
             [
              1,
              "#f0f921"
             ]
            ],
            "type": "contour"
           }
          ],
          "contourcarpet": [
           {
            "colorbar": {
             "outlinewidth": 0,
             "ticks": ""
            },
            "type": "contourcarpet"
           }
          ],
          "heatmap": [
           {
            "colorbar": {
             "outlinewidth": 0,
             "ticks": ""
            },
            "colorscale": [
             [
              0,
              "#0d0887"
             ],
             [
              0.1111111111111111,
              "#46039f"
             ],
             [
              0.2222222222222222,
              "#7201a8"
             ],
             [
              0.3333333333333333,
              "#9c179e"
             ],
             [
              0.4444444444444444,
              "#bd3786"
             ],
             [
              0.5555555555555556,
              "#d8576b"
             ],
             [
              0.6666666666666666,
              "#ed7953"
             ],
             [
              0.7777777777777778,
              "#fb9f3a"
             ],
             [
              0.8888888888888888,
              "#fdca26"
             ],
             [
              1,
              "#f0f921"
             ]
            ],
            "type": "heatmap"
           }
          ],
          "heatmapgl": [
           {
            "colorbar": {
             "outlinewidth": 0,
             "ticks": ""
            },
            "colorscale": [
             [
              0,
              "#0d0887"
             ],
             [
              0.1111111111111111,
              "#46039f"
             ],
             [
              0.2222222222222222,
              "#7201a8"
             ],
             [
              0.3333333333333333,
              "#9c179e"
             ],
             [
              0.4444444444444444,
              "#bd3786"
             ],
             [
              0.5555555555555556,
              "#d8576b"
             ],
             [
              0.6666666666666666,
              "#ed7953"
             ],
             [
              0.7777777777777778,
              "#fb9f3a"
             ],
             [
              0.8888888888888888,
              "#fdca26"
             ],
             [
              1,
              "#f0f921"
             ]
            ],
            "type": "heatmapgl"
           }
          ],
          "histogram": [
           {
            "marker": {
             "colorbar": {
              "outlinewidth": 0,
              "ticks": ""
             }
            },
            "type": "histogram"
           }
          ],
          "histogram2d": [
           {
            "colorbar": {
             "outlinewidth": 0,
             "ticks": ""
            },
            "colorscale": [
             [
              0,
              "#0d0887"
             ],
             [
              0.1111111111111111,
              "#46039f"
             ],
             [
              0.2222222222222222,
              "#7201a8"
             ],
             [
              0.3333333333333333,
              "#9c179e"
             ],
             [
              0.4444444444444444,
              "#bd3786"
             ],
             [
              0.5555555555555556,
              "#d8576b"
             ],
             [
              0.6666666666666666,
              "#ed7953"
             ],
             [
              0.7777777777777778,
              "#fb9f3a"
             ],
             [
              0.8888888888888888,
              "#fdca26"
             ],
             [
              1,
              "#f0f921"
             ]
            ],
            "type": "histogram2d"
           }
          ],
          "histogram2dcontour": [
           {
            "colorbar": {
             "outlinewidth": 0,
             "ticks": ""
            },
            "colorscale": [
             [
              0,
              "#0d0887"
             ],
             [
              0.1111111111111111,
              "#46039f"
             ],
             [
              0.2222222222222222,
              "#7201a8"
             ],
             [
              0.3333333333333333,
              "#9c179e"
             ],
             [
              0.4444444444444444,
              "#bd3786"
             ],
             [
              0.5555555555555556,
              "#d8576b"
             ],
             [
              0.6666666666666666,
              "#ed7953"
             ],
             [
              0.7777777777777778,
              "#fb9f3a"
             ],
             [
              0.8888888888888888,
              "#fdca26"
             ],
             [
              1,
              "#f0f921"
             ]
            ],
            "type": "histogram2dcontour"
           }
          ],
          "mesh3d": [
           {
            "colorbar": {
             "outlinewidth": 0,
             "ticks": ""
            },
            "type": "mesh3d"
           }
          ],
          "parcoords": [
           {
            "line": {
             "colorbar": {
              "outlinewidth": 0,
              "ticks": ""
             }
            },
            "type": "parcoords"
           }
          ],
          "pie": [
           {
            "automargin": true,
            "type": "pie"
           }
          ],
          "scatter": [
           {
            "marker": {
             "colorbar": {
              "outlinewidth": 0,
              "ticks": ""
             }
            },
            "type": "scatter"
           }
          ],
          "scatter3d": [
           {
            "line": {
             "colorbar": {
              "outlinewidth": 0,
              "ticks": ""
             }
            },
            "marker": {
             "colorbar": {
              "outlinewidth": 0,
              "ticks": ""
             }
            },
            "type": "scatter3d"
           }
          ],
          "scattercarpet": [
           {
            "marker": {
             "colorbar": {
              "outlinewidth": 0,
              "ticks": ""
             }
            },
            "type": "scattercarpet"
           }
          ],
          "scattergeo": [
           {
            "marker": {
             "colorbar": {
              "outlinewidth": 0,
              "ticks": ""
             }
            },
            "type": "scattergeo"
           }
          ],
          "scattergl": [
           {
            "marker": {
             "colorbar": {
              "outlinewidth": 0,
              "ticks": ""
             }
            },
            "type": "scattergl"
           }
          ],
          "scattermapbox": [
           {
            "marker": {
             "colorbar": {
              "outlinewidth": 0,
              "ticks": ""
             }
            },
            "type": "scattermapbox"
           }
          ],
          "scatterpolar": [
           {
            "marker": {
             "colorbar": {
              "outlinewidth": 0,
              "ticks": ""
             }
            },
            "type": "scatterpolar"
           }
          ],
          "scatterpolargl": [
           {
            "marker": {
             "colorbar": {
              "outlinewidth": 0,
              "ticks": ""
             }
            },
            "type": "scatterpolargl"
           }
          ],
          "scatterternary": [
           {
            "marker": {
             "colorbar": {
              "outlinewidth": 0,
              "ticks": ""
             }
            },
            "type": "scatterternary"
           }
          ],
          "surface": [
           {
            "colorbar": {
             "outlinewidth": 0,
             "ticks": ""
            },
            "colorscale": [
             [
              0,
              "#0d0887"
             ],
             [
              0.1111111111111111,
              "#46039f"
             ],
             [
              0.2222222222222222,
              "#7201a8"
             ],
             [
              0.3333333333333333,
              "#9c179e"
             ],
             [
              0.4444444444444444,
              "#bd3786"
             ],
             [
              0.5555555555555556,
              "#d8576b"
             ],
             [
              0.6666666666666666,
              "#ed7953"
             ],
             [
              0.7777777777777778,
              "#fb9f3a"
             ],
             [
              0.8888888888888888,
              "#fdca26"
             ],
             [
              1,
              "#f0f921"
             ]
            ],
            "type": "surface"
           }
          ],
          "table": [
           {
            "cells": {
             "fill": {
              "color": "#EBF0F8"
             },
             "line": {
              "color": "white"
             }
            },
            "header": {
             "fill": {
              "color": "#C8D4E3"
             },
             "line": {
              "color": "white"
             }
            },
            "type": "table"
           }
          ]
         },
         "layout": {
          "annotationdefaults": {
           "arrowcolor": "#2a3f5f",
           "arrowhead": 0,
           "arrowwidth": 1
          },
          "autotypenumbers": "strict",
          "coloraxis": {
           "colorbar": {
            "outlinewidth": 0,
            "ticks": ""
           }
          },
          "colorscale": {
           "diverging": [
            [
             0,
             "#8e0152"
            ],
            [
             0.1,
             "#c51b7d"
            ],
            [
             0.2,
             "#de77ae"
            ],
            [
             0.3,
             "#f1b6da"
            ],
            [
             0.4,
             "#fde0ef"
            ],
            [
             0.5,
             "#f7f7f7"
            ],
            [
             0.6,
             "#e6f5d0"
            ],
            [
             0.7,
             "#b8e186"
            ],
            [
             0.8,
             "#7fbc41"
            ],
            [
             0.9,
             "#4d9221"
            ],
            [
             1,
             "#276419"
            ]
           ],
           "sequential": [
            [
             0,
             "#0d0887"
            ],
            [
             0.1111111111111111,
             "#46039f"
            ],
            [
             0.2222222222222222,
             "#7201a8"
            ],
            [
             0.3333333333333333,
             "#9c179e"
            ],
            [
             0.4444444444444444,
             "#bd3786"
            ],
            [
             0.5555555555555556,
             "#d8576b"
            ],
            [
             0.6666666666666666,
             "#ed7953"
            ],
            [
             0.7777777777777778,
             "#fb9f3a"
            ],
            [
             0.8888888888888888,
             "#fdca26"
            ],
            [
             1,
             "#f0f921"
            ]
           ],
           "sequentialminus": [
            [
             0,
             "#0d0887"
            ],
            [
             0.1111111111111111,
             "#46039f"
            ],
            [
             0.2222222222222222,
             "#7201a8"
            ],
            [
             0.3333333333333333,
             "#9c179e"
            ],
            [
             0.4444444444444444,
             "#bd3786"
            ],
            [
             0.5555555555555556,
             "#d8576b"
            ],
            [
             0.6666666666666666,
             "#ed7953"
            ],
            [
             0.7777777777777778,
             "#fb9f3a"
            ],
            [
             0.8888888888888888,
             "#fdca26"
            ],
            [
             1,
             "#f0f921"
            ]
           ]
          },
          "colorway": [
           "#636efa",
           "#EF553B",
           "#00cc96",
           "#ab63fa",
           "#FFA15A",
           "#19d3f3",
           "#FF6692",
           "#B6E880",
           "#FF97FF",
           "#FECB52"
          ],
          "font": {
           "color": "#2a3f5f"
          },
          "geo": {
           "bgcolor": "white",
           "lakecolor": "white",
           "landcolor": "#E5ECF6",
           "showlakes": true,
           "showland": true,
           "subunitcolor": "white"
          },
          "hoverlabel": {
           "align": "left"
          },
          "hovermode": "closest",
          "mapbox": {
           "style": "light"
          },
          "paper_bgcolor": "white",
          "plot_bgcolor": "#E5ECF6",
          "polar": {
           "angularaxis": {
            "gridcolor": "white",
            "linecolor": "white",
            "ticks": ""
           },
           "bgcolor": "#E5ECF6",
           "radialaxis": {
            "gridcolor": "white",
            "linecolor": "white",
            "ticks": ""
           }
          },
          "scene": {
           "xaxis": {
            "backgroundcolor": "#E5ECF6",
            "gridcolor": "white",
            "gridwidth": 2,
            "linecolor": "white",
            "showbackground": true,
            "ticks": "",
            "zerolinecolor": "white"
           },
           "yaxis": {
            "backgroundcolor": "#E5ECF6",
            "gridcolor": "white",
            "gridwidth": 2,
            "linecolor": "white",
            "showbackground": true,
            "ticks": "",
            "zerolinecolor": "white"
           },
           "zaxis": {
            "backgroundcolor": "#E5ECF6",
            "gridcolor": "white",
            "gridwidth": 2,
            "linecolor": "white",
            "showbackground": true,
            "ticks": "",
            "zerolinecolor": "white"
           }
          },
          "shapedefaults": {
           "line": {
            "color": "#2a3f5f"
           }
          },
          "ternary": {
           "aaxis": {
            "gridcolor": "white",
            "linecolor": "white",
            "ticks": ""
           },
           "baxis": {
            "gridcolor": "white",
            "linecolor": "white",
            "ticks": ""
           },
           "bgcolor": "#E5ECF6",
           "caxis": {
            "gridcolor": "white",
            "linecolor": "white",
            "ticks": ""
           }
          },
          "title": {
           "x": 0.05
          },
          "xaxis": {
           "automargin": true,
           "gridcolor": "white",
           "linecolor": "white",
           "ticks": "",
           "title": {
            "standoff": 15
           },
           "zerolinecolor": "white",
           "zerolinewidth": 2
          },
          "yaxis": {
           "automargin": true,
           "gridcolor": "white",
           "linecolor": "white",
           "ticks": "",
           "title": {
            "standoff": 15
           },
           "zerolinecolor": "white",
           "zerolinewidth": 2
          }
         }
        },
        "title": {
         "text": "Count of sub-techniques per Data Source (Top 15)",
         "x": 0.5,
         "xanchor": "center",
         "y": 0.85
        }
       }
      }
     },
     "metadata": {}
    }
   ],
   "source": [
    "enterprise_sub = mapping[mapping['x_mitre_is_subtechnique'] == True][['technique_id','data_source','data_component']].drop_duplicates()\n",
    "top15_data_source = enterprise_sub['data_source'].value_counts().nlargest(15)\n",
    "\n",
    "fig = go.Figure()\n",
    "fig.add_trace(go.Bar(y = top15_data_source.values.tolist(), x = top15_data_source.index.tolist(),orientation = 'v'))\n",
    "fig.update_layout(title = {'text':\"Count of sub-techniques per Data Source (Top 15)\",'y': 0.85,'x': 0.5,'xanchor':'center'})\n",
    "fig.show()"
   ]
  },
  {
   "source": [
    "### Which are the most relevant data components for Sub-Technqiues within the Enterprise Matrix?"
   ],
   "cell_type": "markdown",
   "metadata": {}
  },
  {
   "cell_type": "code",
   "execution_count": 4,
   "metadata": {},
   "outputs": [
    {
     "output_type": "display_data",
     "data": {
      "application/vnd.plotly.v1+json": {
       "config": {
        "plotlyServerURL": "https://plot.ly"
       },
       "data": [
        {
         "orientation": "v",
         "type": "bar",
         "x": [
          "command execution",
          "process creation",
          "file modification",
          "file creation",
          "network traffic content",
          "network traffic flow",
          "os api execution",
          "windows registry key modification",
          "module load",
          "application log content",
          "network connection creation",
          "file access",
          "file metadata",
          "logon session creation",
          "user account authentication"
         ],
         "y": [
          155,
          119,
          66,
          54,
          49,
          44,
          38,
          37,
          35,
          28,
          28,
          24,
          20,
          20,
          13
         ]
        }
       ],
       "layout": {
        "template": {
         "data": {
          "bar": [
           {
            "error_x": {
             "color": "#2a3f5f"
            },
            "error_y": {
             "color": "#2a3f5f"
            },
            "marker": {
             "line": {
              "color": "#E5ECF6",
              "width": 0.5
             }
            },
            "type": "bar"
           }
          ],
          "barpolar": [
           {
            "marker": {
             "line": {
              "color": "#E5ECF6",
              "width": 0.5
             }
            },
            "type": "barpolar"
           }
          ],
          "carpet": [
           {
            "aaxis": {
             "endlinecolor": "#2a3f5f",
             "gridcolor": "white",
             "linecolor": "white",
             "minorgridcolor": "white",
             "startlinecolor": "#2a3f5f"
            },
            "baxis": {
             "endlinecolor": "#2a3f5f",
             "gridcolor": "white",
             "linecolor": "white",
             "minorgridcolor": "white",
             "startlinecolor": "#2a3f5f"
            },
            "type": "carpet"
           }
          ],
          "choropleth": [
           {
            "colorbar": {
             "outlinewidth": 0,
             "ticks": ""
            },
            "type": "choropleth"
           }
          ],
          "contour": [
           {
            "colorbar": {
             "outlinewidth": 0,
             "ticks": ""
            },
            "colorscale": [
             [
              0,
              "#0d0887"
             ],
             [
              0.1111111111111111,
              "#46039f"
             ],
             [
              0.2222222222222222,
              "#7201a8"
             ],
             [
              0.3333333333333333,
              "#9c179e"
             ],
             [
              0.4444444444444444,
              "#bd3786"
             ],
             [
              0.5555555555555556,
              "#d8576b"
             ],
             [
              0.6666666666666666,
              "#ed7953"
             ],
             [
              0.7777777777777778,
              "#fb9f3a"
             ],
             [
              0.8888888888888888,
              "#fdca26"
             ],
             [
              1,
              "#f0f921"
             ]
            ],
            "type": "contour"
           }
          ],
          "contourcarpet": [
           {
            "colorbar": {
             "outlinewidth": 0,
             "ticks": ""
            },
            "type": "contourcarpet"
           }
          ],
          "heatmap": [
           {
            "colorbar": {
             "outlinewidth": 0,
             "ticks": ""
            },
            "colorscale": [
             [
              0,
              "#0d0887"
             ],
             [
              0.1111111111111111,
              "#46039f"
             ],
             [
              0.2222222222222222,
              "#7201a8"
             ],
             [
              0.3333333333333333,
              "#9c179e"
             ],
             [
              0.4444444444444444,
              "#bd3786"
             ],
             [
              0.5555555555555556,
              "#d8576b"
             ],
             [
              0.6666666666666666,
              "#ed7953"
             ],
             [
              0.7777777777777778,
              "#fb9f3a"
             ],
             [
              0.8888888888888888,
              "#fdca26"
             ],
             [
              1,
              "#f0f921"
             ]
            ],
            "type": "heatmap"
           }
          ],
          "heatmapgl": [
           {
            "colorbar": {
             "outlinewidth": 0,
             "ticks": ""
            },
            "colorscale": [
             [
              0,
              "#0d0887"
             ],
             [
              0.1111111111111111,
              "#46039f"
             ],
             [
              0.2222222222222222,
              "#7201a8"
             ],
             [
              0.3333333333333333,
              "#9c179e"
             ],
             [
              0.4444444444444444,
              "#bd3786"
             ],
             [
              0.5555555555555556,
              "#d8576b"
             ],
             [
              0.6666666666666666,
              "#ed7953"
             ],
             [
              0.7777777777777778,
              "#fb9f3a"
             ],
             [
              0.8888888888888888,
              "#fdca26"
             ],
             [
              1,
              "#f0f921"
             ]
            ],
            "type": "heatmapgl"
           }
          ],
          "histogram": [
           {
            "marker": {
             "colorbar": {
              "outlinewidth": 0,
              "ticks": ""
             }
            },
            "type": "histogram"
           }
          ],
          "histogram2d": [
           {
            "colorbar": {
             "outlinewidth": 0,
             "ticks": ""
            },
            "colorscale": [
             [
              0,
              "#0d0887"
             ],
             [
              0.1111111111111111,
              "#46039f"
             ],
             [
              0.2222222222222222,
              "#7201a8"
             ],
             [
              0.3333333333333333,
              "#9c179e"
             ],
             [
              0.4444444444444444,
              "#bd3786"
             ],
             [
              0.5555555555555556,
              "#d8576b"
             ],
             [
              0.6666666666666666,
              "#ed7953"
             ],
             [
              0.7777777777777778,
              "#fb9f3a"
             ],
             [
              0.8888888888888888,
              "#fdca26"
             ],
             [
              1,
              "#f0f921"
             ]
            ],
            "type": "histogram2d"
           }
          ],
          "histogram2dcontour": [
           {
            "colorbar": {
             "outlinewidth": 0,
             "ticks": ""
            },
            "colorscale": [
             [
              0,
              "#0d0887"
             ],
             [
              0.1111111111111111,
              "#46039f"
             ],
             [
              0.2222222222222222,
              "#7201a8"
             ],
             [
              0.3333333333333333,
              "#9c179e"
             ],
             [
              0.4444444444444444,
              "#bd3786"
             ],
             [
              0.5555555555555556,
              "#d8576b"
             ],
             [
              0.6666666666666666,
              "#ed7953"
             ],
             [
              0.7777777777777778,
              "#fb9f3a"
             ],
             [
              0.8888888888888888,
              "#fdca26"
             ],
             [
              1,
              "#f0f921"
             ]
            ],
            "type": "histogram2dcontour"
           }
          ],
          "mesh3d": [
           {
            "colorbar": {
             "outlinewidth": 0,
             "ticks": ""
            },
            "type": "mesh3d"
           }
          ],
          "parcoords": [
           {
            "line": {
             "colorbar": {
              "outlinewidth": 0,
              "ticks": ""
             }
            },
            "type": "parcoords"
           }
          ],
          "pie": [
           {
            "automargin": true,
            "type": "pie"
           }
          ],
          "scatter": [
           {
            "marker": {
             "colorbar": {
              "outlinewidth": 0,
              "ticks": ""
             }
            },
            "type": "scatter"
           }
          ],
          "scatter3d": [
           {
            "line": {
             "colorbar": {
              "outlinewidth": 0,
              "ticks": ""
             }
            },
            "marker": {
             "colorbar": {
              "outlinewidth": 0,
              "ticks": ""
             }
            },
            "type": "scatter3d"
           }
          ],
          "scattercarpet": [
           {
            "marker": {
             "colorbar": {
              "outlinewidth": 0,
              "ticks": ""
             }
            },
            "type": "scattercarpet"
           }
          ],
          "scattergeo": [
           {
            "marker": {
             "colorbar": {
              "outlinewidth": 0,
              "ticks": ""
             }
            },
            "type": "scattergeo"
           }
          ],
          "scattergl": [
           {
            "marker": {
             "colorbar": {
              "outlinewidth": 0,
              "ticks": ""
             }
            },
            "type": "scattergl"
           }
          ],
          "scattermapbox": [
           {
            "marker": {
             "colorbar": {
              "outlinewidth": 0,
              "ticks": ""
             }
            },
            "type": "scattermapbox"
           }
          ],
          "scatterpolar": [
           {
            "marker": {
             "colorbar": {
              "outlinewidth": 0,
              "ticks": ""
             }
            },
            "type": "scatterpolar"
           }
          ],
          "scatterpolargl": [
           {
            "marker": {
             "colorbar": {
              "outlinewidth": 0,
              "ticks": ""
             }
            },
            "type": "scatterpolargl"
           }
          ],
          "scatterternary": [
           {
            "marker": {
             "colorbar": {
              "outlinewidth": 0,
              "ticks": ""
             }
            },
            "type": "scatterternary"
           }
          ],
          "surface": [
           {
            "colorbar": {
             "outlinewidth": 0,
             "ticks": ""
            },
            "colorscale": [
             [
              0,
              "#0d0887"
             ],
             [
              0.1111111111111111,
              "#46039f"
             ],
             [
              0.2222222222222222,
              "#7201a8"
             ],
             [
              0.3333333333333333,
              "#9c179e"
             ],
             [
              0.4444444444444444,
              "#bd3786"
             ],
             [
              0.5555555555555556,
              "#d8576b"
             ],
             [
              0.6666666666666666,
              "#ed7953"
             ],
             [
              0.7777777777777778,
              "#fb9f3a"
             ],
             [
              0.8888888888888888,
              "#fdca26"
             ],
             [
              1,
              "#f0f921"
             ]
            ],
            "type": "surface"
           }
          ],
          "table": [
           {
            "cells": {
             "fill": {
              "color": "#EBF0F8"
             },
             "line": {
              "color": "white"
             }
            },
            "header": {
             "fill": {
              "color": "#C8D4E3"
             },
             "line": {
              "color": "white"
             }
            },
            "type": "table"
           }
          ]
         },
         "layout": {
          "annotationdefaults": {
           "arrowcolor": "#2a3f5f",
           "arrowhead": 0,
           "arrowwidth": 1
          },
          "autotypenumbers": "strict",
          "coloraxis": {
           "colorbar": {
            "outlinewidth": 0,
            "ticks": ""
           }
          },
          "colorscale": {
           "diverging": [
            [
             0,
             "#8e0152"
            ],
            [
             0.1,
             "#c51b7d"
            ],
            [
             0.2,
             "#de77ae"
            ],
            [
             0.3,
             "#f1b6da"
            ],
            [
             0.4,
             "#fde0ef"
            ],
            [
             0.5,
             "#f7f7f7"
            ],
            [
             0.6,
             "#e6f5d0"
            ],
            [
             0.7,
             "#b8e186"
            ],
            [
             0.8,
             "#7fbc41"
            ],
            [
             0.9,
             "#4d9221"
            ],
            [
             1,
             "#276419"
            ]
           ],
           "sequential": [
            [
             0,
             "#0d0887"
            ],
            [
             0.1111111111111111,
             "#46039f"
            ],
            [
             0.2222222222222222,
             "#7201a8"
            ],
            [
             0.3333333333333333,
             "#9c179e"
            ],
            [
             0.4444444444444444,
             "#bd3786"
            ],
            [
             0.5555555555555556,
             "#d8576b"
            ],
            [
             0.6666666666666666,
             "#ed7953"
            ],
            [
             0.7777777777777778,
             "#fb9f3a"
            ],
            [
             0.8888888888888888,
             "#fdca26"
            ],
            [
             1,
             "#f0f921"
            ]
           ],
           "sequentialminus": [
            [
             0,
             "#0d0887"
            ],
            [
             0.1111111111111111,
             "#46039f"
            ],
            [
             0.2222222222222222,
             "#7201a8"
            ],
            [
             0.3333333333333333,
             "#9c179e"
            ],
            [
             0.4444444444444444,
             "#bd3786"
            ],
            [
             0.5555555555555556,
             "#d8576b"
            ],
            [
             0.6666666666666666,
             "#ed7953"
            ],
            [
             0.7777777777777778,
             "#fb9f3a"
            ],
            [
             0.8888888888888888,
             "#fdca26"
            ],
            [
             1,
             "#f0f921"
            ]
           ]
          },
          "colorway": [
           "#636efa",
           "#EF553B",
           "#00cc96",
           "#ab63fa",
           "#FFA15A",
           "#19d3f3",
           "#FF6692",
           "#B6E880",
           "#FF97FF",
           "#FECB52"
          ],
          "font": {
           "color": "#2a3f5f"
          },
          "geo": {
           "bgcolor": "white",
           "lakecolor": "white",
           "landcolor": "#E5ECF6",
           "showlakes": true,
           "showland": true,
           "subunitcolor": "white"
          },
          "hoverlabel": {
           "align": "left"
          },
          "hovermode": "closest",
          "mapbox": {
           "style": "light"
          },
          "paper_bgcolor": "white",
          "plot_bgcolor": "#E5ECF6",
          "polar": {
           "angularaxis": {
            "gridcolor": "white",
            "linecolor": "white",
            "ticks": ""
           },
           "bgcolor": "#E5ECF6",
           "radialaxis": {
            "gridcolor": "white",
            "linecolor": "white",
            "ticks": ""
           }
          },
          "scene": {
           "xaxis": {
            "backgroundcolor": "#E5ECF6",
            "gridcolor": "white",
            "gridwidth": 2,
            "linecolor": "white",
            "showbackground": true,
            "ticks": "",
            "zerolinecolor": "white"
           },
           "yaxis": {
            "backgroundcolor": "#E5ECF6",
            "gridcolor": "white",
            "gridwidth": 2,
            "linecolor": "white",
            "showbackground": true,
            "ticks": "",
            "zerolinecolor": "white"
           },
           "zaxis": {
            "backgroundcolor": "#E5ECF6",
            "gridcolor": "white",
            "gridwidth": 2,
            "linecolor": "white",
            "showbackground": true,
            "ticks": "",
            "zerolinecolor": "white"
           }
          },
          "shapedefaults": {
           "line": {
            "color": "#2a3f5f"
           }
          },
          "ternary": {
           "aaxis": {
            "gridcolor": "white",
            "linecolor": "white",
            "ticks": ""
           },
           "baxis": {
            "gridcolor": "white",
            "linecolor": "white",
            "ticks": ""
           },
           "bgcolor": "#E5ECF6",
           "caxis": {
            "gridcolor": "white",
            "linecolor": "white",
            "ticks": ""
           }
          },
          "title": {
           "x": 0.05
          },
          "xaxis": {
           "automargin": true,
           "gridcolor": "white",
           "linecolor": "white",
           "ticks": "",
           "title": {
            "standoff": 15
           },
           "zerolinecolor": "white",
           "zerolinewidth": 2
          },
          "yaxis": {
           "automargin": true,
           "gridcolor": "white",
           "linecolor": "white",
           "ticks": "",
           "title": {
            "standoff": 15
           },
           "zerolinecolor": "white",
           "zerolinewidth": 2
          }
         }
        },
        "title": {
         "text": "Count of sub-techniques per Data Component (Top 15)",
         "x": 0.5,
         "xanchor": "center",
         "y": 0.85
        }
       }
      }
     },
     "metadata": {}
    }
   ],
   "source": [
    "top15_data_component = enterprise_sub['data_component'].value_counts().nlargest(15)\n",
    "\n",
    "fig = go.Figure()\n",
    "fig.add_trace(go.Bar(y = top15_data_component.values.tolist(), x = top15_data_component.index.tolist(),orientation = 'v'))\n",
    "fig.update_layout(title = {'text':\"Count of sub-techniques per Data Component (Top 15)\",'y': 0.85,'x': 0.5,'xanchor':'center'})\n",
    "fig.show()"
   ]
  },
  {
   "cell_type": "markdown",
   "metadata": {},
   "source": [
    "## Visualizing Relationships Among Data Elements: Network Graph"
   ]
  },
  {
   "cell_type": "markdown",
   "metadata": {},
   "source": [
    "* Getting dataframe of relationships among data elements"
   ]
  },
  {
   "cell_type": "code",
   "execution_count": 5,
   "metadata": {
    "scrolled": false
   },
   "outputs": [
    {
     "output_type": "execute_result",
     "data": {
      "text/plain": [
       "    source                      target relationship\n",
       "0  process        windows registry key     modified\n",
       "1  process  windows registry key value     modified\n",
       "2     user        windows registry key     modified\n",
       "3     user  windows registry key value     modified\n",
       "4  process                     command     executed"
      ],
      "text/html": "<div>\n<style scoped>\n    .dataframe tbody tr th:only-of-type {\n        vertical-align: middle;\n    }\n\n    .dataframe tbody tr th {\n        vertical-align: top;\n    }\n\n    .dataframe thead th {\n        text-align: right;\n    }\n</style>\n<table border=\"1\" class=\"dataframe\">\n  <thead>\n    <tr style=\"text-align: right;\">\n      <th></th>\n      <th>source</th>\n      <th>target</th>\n      <th>relationship</th>\n    </tr>\n  </thead>\n  <tbody>\n    <tr>\n      <th>0</th>\n      <td>process</td>\n      <td>windows registry key</td>\n      <td>modified</td>\n    </tr>\n    <tr>\n      <th>1</th>\n      <td>process</td>\n      <td>windows registry key value</td>\n      <td>modified</td>\n    </tr>\n    <tr>\n      <th>2</th>\n      <td>user</td>\n      <td>windows registry key</td>\n      <td>modified</td>\n    </tr>\n    <tr>\n      <th>3</th>\n      <td>user</td>\n      <td>windows registry key value</td>\n      <td>modified</td>\n    </tr>\n    <tr>\n      <th>4</th>\n      <td>process</td>\n      <td>command</td>\n      <td>executed</td>\n    </tr>\n  </tbody>\n</table>\n</div>"
     },
     "metadata": {},
     "execution_count": 5
    }
   ],
   "source": [
    "relationships = mapping[['source','target','relationship']]\\\n",
    "      .drop_duplicates()\\\n",
    "      .dropna().reset_index(drop = True)\n",
    "relationships.head()"
   ]
  },
  {
   "cell_type": "markdown",
   "metadata": {},
   "source": [
    "* Importing libraries"
   ]
  },
  {
   "cell_type": "code",
   "execution_count": 6,
   "metadata": {},
   "outputs": [
    {
     "output_type": "display_data",
     "data": {
      "text/html": "\n    <div class=\"bk-root\">\n        <a href=\"https://bokeh.org\" target=\"_blank\" class=\"bk-logo bk-logo-small bk-logo-notebook\"></a>\n        <span id=\"1002\">Loading BokehJS ...</span>\n    </div>"
     },
     "metadata": {}
    },
    {
     "output_type": "display_data",
     "data": {
      "application/javascript": "\n(function(root) {\n  function now() {\n    return new Date();\n  }\n\n  var force = true;\n\n  if (typeof root._bokeh_onload_callbacks === \"undefined\" || force === true) {\n    root._bokeh_onload_callbacks = [];\n    root._bokeh_is_loading = undefined;\n  }\n\n  var JS_MIME_TYPE = 'application/javascript';\n  var HTML_MIME_TYPE = 'text/html';\n  var EXEC_MIME_TYPE = 'application/vnd.bokehjs_exec.v0+json';\n  var CLASS_NAME = 'output_bokeh rendered_html';\n\n  /**\n   * Render data to the DOM node\n   */\n  function render(props, node) {\n    var script = document.createElement(\"script\");\n    node.appendChild(script);\n  }\n\n  /**\n   * Handle when an output is cleared or removed\n   */\n  function handleClearOutput(event, handle) {\n    var cell = handle.cell;\n\n    var id = cell.output_area._bokeh_element_id;\n    var server_id = cell.output_area._bokeh_server_id;\n    // Clean up Bokeh references\n    if (id != null && id in Bokeh.index) {\n      Bokeh.index[id].model.document.clear();\n      delete Bokeh.index[id];\n    }\n\n    if (server_id !== undefined) {\n      // Clean up Bokeh references\n      var cmd = \"from bokeh.io.state import curstate; print(curstate().uuid_to_server['\" + server_id + \"'].get_sessions()[0].document.roots[0]._id)\";\n      cell.notebook.kernel.execute(cmd, {\n        iopub: {\n          output: function(msg) {\n            var id = msg.content.text.trim();\n            if (id in Bokeh.index) {\n              Bokeh.index[id].model.document.clear();\n              delete Bokeh.index[id];\n            }\n          }\n        }\n      });\n      // Destroy server and session\n      var cmd = \"import bokeh.io.notebook as ion; ion.destroy_server('\" + server_id + \"')\";\n      cell.notebook.kernel.execute(cmd);\n    }\n  }\n\n  /**\n   * Handle when a new output is added\n   */\n  function handleAddOutput(event, handle) {\n    var output_area = handle.output_area;\n    var output = handle.output;\n\n    // limit handleAddOutput to display_data with EXEC_MIME_TYPE content only\n    if ((output.output_type != \"display_data\") || (!Object.prototype.hasOwnProperty.call(output.data, EXEC_MIME_TYPE))) {\n      return\n    }\n\n    var toinsert = output_area.element.find(\".\" + CLASS_NAME.split(' ')[0]);\n\n    if (output.metadata[EXEC_MIME_TYPE][\"id\"] !== undefined) {\n      toinsert[toinsert.length - 1].firstChild.textContent = output.data[JS_MIME_TYPE];\n      // store reference to embed id on output_area\n      output_area._bokeh_element_id = output.metadata[EXEC_MIME_TYPE][\"id\"];\n    }\n    if (output.metadata[EXEC_MIME_TYPE][\"server_id\"] !== undefined) {\n      var bk_div = document.createElement(\"div\");\n      bk_div.innerHTML = output.data[HTML_MIME_TYPE];\n      var script_attrs = bk_div.children[0].attributes;\n      for (var i = 0; i < script_attrs.length; i++) {\n        toinsert[toinsert.length - 1].firstChild.setAttribute(script_attrs[i].name, script_attrs[i].value);\n        toinsert[toinsert.length - 1].firstChild.textContent = bk_div.children[0].textContent\n      }\n      // store reference to server id on output_area\n      output_area._bokeh_server_id = output.metadata[EXEC_MIME_TYPE][\"server_id\"];\n    }\n  }\n\n  function register_renderer(events, OutputArea) {\n\n    function append_mime(data, metadata, element) {\n      // create a DOM node to render to\n      var toinsert = this.create_output_subarea(\n        metadata,\n        CLASS_NAME,\n        EXEC_MIME_TYPE\n      );\n      this.keyboard_manager.register_events(toinsert);\n      // Render to node\n      var props = {data: data, metadata: metadata[EXEC_MIME_TYPE]};\n      render(props, toinsert[toinsert.length - 1]);\n      element.append(toinsert);\n      return toinsert\n    }\n\n    /* Handle when an output is cleared or removed */\n    events.on('clear_output.CodeCell', handleClearOutput);\n    events.on('delete.Cell', handleClearOutput);\n\n    /* Handle when a new output is added */\n    events.on('output_added.OutputArea', handleAddOutput);\n\n    /**\n     * Register the mime type and append_mime function with output_area\n     */\n    OutputArea.prototype.register_mime_type(EXEC_MIME_TYPE, append_mime, {\n      /* Is output safe? */\n      safe: true,\n      /* Index of renderer in `output_area.display_order` */\n      index: 0\n    });\n  }\n\n  // register the mime type if in Jupyter Notebook environment and previously unregistered\n  if (root.Jupyter !== undefined) {\n    var events = require('base/js/events');\n    var OutputArea = require('notebook/js/outputarea').OutputArea;\n\n    if (OutputArea.prototype.mime_types().indexOf(EXEC_MIME_TYPE) == -1) {\n      register_renderer(events, OutputArea);\n    }\n  }\n\n  \n  if (typeof (root._bokeh_timeout) === \"undefined\" || force === true) {\n    root._bokeh_timeout = Date.now() + 5000;\n    root._bokeh_failed_load = false;\n  }\n\n  var NB_LOAD_WARNING = {'data': {'text/html':\n     \"<div style='background-color: #fdd'>\\n\"+\n     \"<p>\\n\"+\n     \"BokehJS does not appear to have successfully loaded. If loading BokehJS from CDN, this \\n\"+\n     \"may be due to a slow or bad network connection. Possible fixes:\\n\"+\n     \"</p>\\n\"+\n     \"<ul>\\n\"+\n     \"<li>re-rerun `output_notebook()` to attempt to load from CDN again, or</li>\\n\"+\n     \"<li>use INLINE resources instead, as so:</li>\\n\"+\n     \"</ul>\\n\"+\n     \"<code>\\n\"+\n     \"from bokeh.resources import INLINE\\n\"+\n     \"output_notebook(resources=INLINE)\\n\"+\n     \"</code>\\n\"+\n     \"</div>\"}};\n\n  function display_loaded() {\n    var el = document.getElementById(\"1002\");\n    if (el != null) {\n      el.textContent = \"BokehJS is loading...\";\n    }\n    if (root.Bokeh !== undefined) {\n      if (el != null) {\n        el.textContent = \"BokehJS \" + root.Bokeh.version + \" successfully loaded.\";\n      }\n    } else if (Date.now() < root._bokeh_timeout) {\n      setTimeout(display_loaded, 100)\n    }\n  }\n\n\n  function run_callbacks() {\n    try {\n      root._bokeh_onload_callbacks.forEach(function(callback) {\n        if (callback != null)\n          callback();\n      });\n    } finally {\n      delete root._bokeh_onload_callbacks\n    }\n    console.debug(\"Bokeh: all callbacks have finished\");\n  }\n\n  function load_libs(css_urls, js_urls, callback) {\n    if (css_urls == null) css_urls = [];\n    if (js_urls == null) js_urls = [];\n\n    root._bokeh_onload_callbacks.push(callback);\n    if (root._bokeh_is_loading > 0) {\n      console.debug(\"Bokeh: BokehJS is being loaded, scheduling callback at\", now());\n      return null;\n    }\n    if (js_urls == null || js_urls.length === 0) {\n      run_callbacks();\n      return null;\n    }\n    console.debug(\"Bokeh: BokehJS not loaded, scheduling load and callback at\", now());\n    root._bokeh_is_loading = css_urls.length + js_urls.length;\n\n    function on_load() {\n      root._bokeh_is_loading--;\n      if (root._bokeh_is_loading === 0) {\n        console.debug(\"Bokeh: all BokehJS libraries/stylesheets loaded\");\n        run_callbacks()\n      }\n    }\n\n    function on_error(url) {\n      console.error(\"failed to load \" + url);\n    }\n\n    for (let i = 0; i < css_urls.length; i++) {\n      const url = css_urls[i];\n      const element = document.createElement(\"link\");\n      element.onload = on_load;\n      element.onerror = on_error.bind(null, url);\n      element.rel = \"stylesheet\";\n      element.type = \"text/css\";\n      element.href = url;\n      console.debug(\"Bokeh: injecting link tag for BokehJS stylesheet: \", url);\n      document.body.appendChild(element);\n    }\n\n    const hashes = {\"https://cdn.bokeh.org/bokeh/release/bokeh-2.3.1.min.js\": \"YF85VygJKMVnHE+lLv2AM93Vbstr0yo2TbIu5v8se5Rq3UQAUmcuh4aaJwNlpKwa\", \"https://cdn.bokeh.org/bokeh/release/bokeh-widgets-2.3.1.min.js\": \"KKuas3gevv3PvrlkyCMzffFeaMq5we/a2QsP5AUoS3mJ0jmaCL7jirFJN3GoE/lM\", \"https://cdn.bokeh.org/bokeh/release/bokeh-tables-2.3.1.min.js\": \"MK/uFc3YT18pkvvXRl66tTHjP0/dxoSH2e/eiNMFIguKlun2+WVqaPTWmUy/zvh4\"};\n\n    for (let i = 0; i < js_urls.length; i++) {\n      const url = js_urls[i];\n      const element = document.createElement('script');\n      element.onload = on_load;\n      element.onerror = on_error.bind(null, url);\n      element.async = false;\n      element.src = url;\n      if (url in hashes) {\n        element.crossOrigin = \"anonymous\";\n        element.integrity = \"sha384-\" + hashes[url];\n      }\n      console.debug(\"Bokeh: injecting script tag for BokehJS library: \", url);\n      document.head.appendChild(element);\n    }\n  };\n\n  function inject_raw_css(css) {\n    const element = document.createElement(\"style\");\n    element.appendChild(document.createTextNode(css));\n    document.body.appendChild(element);\n  }\n\n  \n  var js_urls = [\"https://cdn.bokeh.org/bokeh/release/bokeh-2.3.1.min.js\", \"https://cdn.bokeh.org/bokeh/release/bokeh-widgets-2.3.1.min.js\", \"https://cdn.bokeh.org/bokeh/release/bokeh-tables-2.3.1.min.js\"];\n  var css_urls = [];\n  \n\n  var inline_js = [\n    function(Bokeh) {\n      Bokeh.set_log_level(\"info\");\n    },\n    function(Bokeh) {\n    \n    \n    }\n  ];\n\n  function run_inline_js() {\n    \n    if (root.Bokeh !== undefined || force === true) {\n      \n    for (var i = 0; i < inline_js.length; i++) {\n      inline_js[i].call(root, root.Bokeh);\n    }\n    if (force === true) {\n        display_loaded();\n      }} else if (Date.now() < root._bokeh_timeout) {\n      setTimeout(run_inline_js, 100);\n    } else if (!root._bokeh_failed_load) {\n      console.log(\"Bokeh: BokehJS failed to load within specified timeout.\");\n      root._bokeh_failed_load = true;\n    } else if (force !== true) {\n      var cell = $(document.getElementById(\"1002\")).parents('.cell').data().cell;\n      cell.output_area.append_execute_result(NB_LOAD_WARNING)\n    }\n\n  }\n\n  if (root._bokeh_is_loading === 0) {\n    console.debug(\"Bokeh: BokehJS loaded, going straight to plotting\");\n    run_inline_js();\n  } else {\n    load_libs(css_urls, js_urls, function() {\n      console.debug(\"Bokeh: BokehJS plotting callback run at\", now());\n      run_inline_js();\n    });\n  }\n}(window));",
      "application/vnd.bokehjs_load.v0+json": "\n(function(root) {\n  function now() {\n    return new Date();\n  }\n\n  var force = true;\n\n  if (typeof root._bokeh_onload_callbacks === \"undefined\" || force === true) {\n    root._bokeh_onload_callbacks = [];\n    root._bokeh_is_loading = undefined;\n  }\n\n  \n\n  \n  if (typeof (root._bokeh_timeout) === \"undefined\" || force === true) {\n    root._bokeh_timeout = Date.now() + 5000;\n    root._bokeh_failed_load = false;\n  }\n\n  var NB_LOAD_WARNING = {'data': {'text/html':\n     \"<div style='background-color: #fdd'>\\n\"+\n     \"<p>\\n\"+\n     \"BokehJS does not appear to have successfully loaded. If loading BokehJS from CDN, this \\n\"+\n     \"may be due to a slow or bad network connection. Possible fixes:\\n\"+\n     \"</p>\\n\"+\n     \"<ul>\\n\"+\n     \"<li>re-rerun `output_notebook()` to attempt to load from CDN again, or</li>\\n\"+\n     \"<li>use INLINE resources instead, as so:</li>\\n\"+\n     \"</ul>\\n\"+\n     \"<code>\\n\"+\n     \"from bokeh.resources import INLINE\\n\"+\n     \"output_notebook(resources=INLINE)\\n\"+\n     \"</code>\\n\"+\n     \"</div>\"}};\n\n  function display_loaded() {\n    var el = document.getElementById(\"1002\");\n    if (el != null) {\n      el.textContent = \"BokehJS is loading...\";\n    }\n    if (root.Bokeh !== undefined) {\n      if (el != null) {\n        el.textContent = \"BokehJS \" + root.Bokeh.version + \" successfully loaded.\";\n      }\n    } else if (Date.now() < root._bokeh_timeout) {\n      setTimeout(display_loaded, 100)\n    }\n  }\n\n\n  function run_callbacks() {\n    try {\n      root._bokeh_onload_callbacks.forEach(function(callback) {\n        if (callback != null)\n          callback();\n      });\n    } finally {\n      delete root._bokeh_onload_callbacks\n    }\n    console.debug(\"Bokeh: all callbacks have finished\");\n  }\n\n  function load_libs(css_urls, js_urls, callback) {\n    if (css_urls == null) css_urls = [];\n    if (js_urls == null) js_urls = [];\n\n    root._bokeh_onload_callbacks.push(callback);\n    if (root._bokeh_is_loading > 0) {\n      console.debug(\"Bokeh: BokehJS is being loaded, scheduling callback at\", now());\n      return null;\n    }\n    if (js_urls == null || js_urls.length === 0) {\n      run_callbacks();\n      return null;\n    }\n    console.debug(\"Bokeh: BokehJS not loaded, scheduling load and callback at\", now());\n    root._bokeh_is_loading = css_urls.length + js_urls.length;\n\n    function on_load() {\n      root._bokeh_is_loading--;\n      if (root._bokeh_is_loading === 0) {\n        console.debug(\"Bokeh: all BokehJS libraries/stylesheets loaded\");\n        run_callbacks()\n      }\n    }\n\n    function on_error(url) {\n      console.error(\"failed to load \" + url);\n    }\n\n    for (let i = 0; i < css_urls.length; i++) {\n      const url = css_urls[i];\n      const element = document.createElement(\"link\");\n      element.onload = on_load;\n      element.onerror = on_error.bind(null, url);\n      element.rel = \"stylesheet\";\n      element.type = \"text/css\";\n      element.href = url;\n      console.debug(\"Bokeh: injecting link tag for BokehJS stylesheet: \", url);\n      document.body.appendChild(element);\n    }\n\n    const hashes = {\"https://cdn.bokeh.org/bokeh/release/bokeh-2.3.1.min.js\": \"YF85VygJKMVnHE+lLv2AM93Vbstr0yo2TbIu5v8se5Rq3UQAUmcuh4aaJwNlpKwa\", \"https://cdn.bokeh.org/bokeh/release/bokeh-widgets-2.3.1.min.js\": \"KKuas3gevv3PvrlkyCMzffFeaMq5we/a2QsP5AUoS3mJ0jmaCL7jirFJN3GoE/lM\", \"https://cdn.bokeh.org/bokeh/release/bokeh-tables-2.3.1.min.js\": \"MK/uFc3YT18pkvvXRl66tTHjP0/dxoSH2e/eiNMFIguKlun2+WVqaPTWmUy/zvh4\"};\n\n    for (let i = 0; i < js_urls.length; i++) {\n      const url = js_urls[i];\n      const element = document.createElement('script');\n      element.onload = on_load;\n      element.onerror = on_error.bind(null, url);\n      element.async = false;\n      element.src = url;\n      if (url in hashes) {\n        element.crossOrigin = \"anonymous\";\n        element.integrity = \"sha384-\" + hashes[url];\n      }\n      console.debug(\"Bokeh: injecting script tag for BokehJS library: \", url);\n      document.head.appendChild(element);\n    }\n  };\n\n  function inject_raw_css(css) {\n    const element = document.createElement(\"style\");\n    element.appendChild(document.createTextNode(css));\n    document.body.appendChild(element);\n  }\n\n  \n  var js_urls = [\"https://cdn.bokeh.org/bokeh/release/bokeh-2.3.1.min.js\", \"https://cdn.bokeh.org/bokeh/release/bokeh-widgets-2.3.1.min.js\", \"https://cdn.bokeh.org/bokeh/release/bokeh-tables-2.3.1.min.js\"];\n  var css_urls = [];\n  \n\n  var inline_js = [\n    function(Bokeh) {\n      Bokeh.set_log_level(\"info\");\n    },\n    function(Bokeh) {\n    \n    \n    }\n  ];\n\n  function run_inline_js() {\n    \n    if (root.Bokeh !== undefined || force === true) {\n      \n    for (var i = 0; i < inline_js.length; i++) {\n      inline_js[i].call(root, root.Bokeh);\n    }\n    if (force === true) {\n        display_loaded();\n      }} else if (Date.now() < root._bokeh_timeout) {\n      setTimeout(run_inline_js, 100);\n    } else if (!root._bokeh_failed_load) {\n      console.log(\"Bokeh: BokehJS failed to load within specified timeout.\");\n      root._bokeh_failed_load = true;\n    } else if (force !== true) {\n      var cell = $(document.getElementById(\"1002\")).parents('.cell').data().cell;\n      cell.output_area.append_execute_result(NB_LOAD_WARNING)\n    }\n\n  }\n\n  if (root._bokeh_is_loading === 0) {\n    console.debug(\"Bokeh: BokehJS loaded, going straight to plotting\");\n    run_inline_js();\n  } else {\n    load_libs(css_urls, js_urls, function() {\n      console.debug(\"Bokeh: BokehJS plotting callback run at\", now());\n      run_inline_js();\n    });\n  }\n}(window));"
     },
     "metadata": {}
    }
   ],
   "source": [
    "import networkx as nx\n",
    "\n",
    "from bokeh.io import output_notebook, show\n",
    "from bokeh.models import (BoxSelectTool,LassoSelectTool,PanTool,BoxZoomTool,ResetTool,TapTool,\n",
    "                          WheelZoomTool,HoverTool,Circle, MultiLine,Plot, Range1d,ColumnDataSource,\n",
    "                          PointDrawTool,LabelSet,EdgesAndLinkedNodes, NodesAndLinkedEdges,HoverTool)\n",
    "from bokeh.palettes import Spectral5\n",
    "from bokeh.plotting import from_networkx\n",
    "\n",
    "output_notebook()"
   ]
  },
  {
   "cell_type": "markdown",
   "metadata": {},
   "source": [
    "* Visualizing network graph"
   ]
  },
  {
   "cell_type": "code",
   "execution_count": 7,
   "metadata": {
    "scrolled": false
   },
   "outputs": [
    {
     "output_type": "display_data",
     "data": {
      "text/html": "\n\n\n\n\n\n  <div class=\"bk-root\" id=\"39d025bf-0b5f-4b00-8430-311b8b27bbcc\" data-root-id=\"1005\"></div>\n"
     },
     "metadata": {}
    },
    {
     "output_type": "display_data",
     "data": {
      "application/javascript": "(function(root) {\n  function embed_document(root) {\n    \n  var docs_json = {\"cbd864ec-0e8b-419a-b6a2-b9e294f53cef\":{\"defs\":[],\"roots\":{\"references\":[{\"attributes\":{\"height\":500,\"renderers\":[{\"id\":\"1011\"},{\"id\":\"1056\"}],\"title\":{\"id\":\"1008\"},\"toolbar\":{\"id\":\"1066\"},\"width\":800,\"x_range\":{\"id\":\"1003\"},\"x_scale\":{\"id\":\"1074\"},\"y_range\":{\"id\":\"1004\"},\"y_scale\":{\"id\":\"1077\"}},\"id\":\"1005\",\"type\":\"Plot\"},{\"attributes\":{\"active_multi\":null,\"tools\":[{\"id\":\"1058\"},{\"id\":\"1059\"},{\"id\":\"1060\"},{\"id\":\"1061\"},{\"id\":\"1062\"},{\"id\":\"1063\"},{\"id\":\"1064\"},{\"id\":\"1065\"}]},\"id\":\"1066\",\"type\":\"Toolbar\"},{\"attributes\":{\"line_color\":{\"value\":\"#abdda4\"},\"line_width\":{\"value\":4}},\"id\":\"1046\",\"type\":\"MultiLine\"},{\"attributes\":{\"fill_alpha\":0.5,\"fill_color\":\"lightgrey\",\"level\":\"overlay\",\"line_alpha\":1.0,\"line_color\":\"black\",\"line_dash\":[4,4],\"line_width\":2,\"syncable\":false,\"xs_units\":\"screen\",\"ys_units\":\"screen\"},\"id\":\"1090\",\"type\":\"PolyAnnotation\"},{\"attributes\":{},\"id\":\"1091\",\"type\":\"Selection\"},{\"attributes\":{},\"id\":\"1086\",\"type\":\"Selection\"},{\"attributes\":{},\"id\":\"1087\",\"type\":\"UnionRenderers\"},{\"attributes\":{\"bottom_units\":\"screen\",\"fill_alpha\":0.5,\"fill_color\":\"lightgrey\",\"left_units\":\"screen\",\"level\":\"overlay\",\"line_alpha\":1.0,\"line_color\":\"black\",\"line_dash\":[4,4],\"line_width\":2,\"right_units\":\"screen\",\"syncable\":false,\"top_units\":\"screen\"},\"id\":\"1089\",\"type\":\"BoxAnnotation\"},{\"attributes\":{},\"id\":\"1094\",\"type\":\"UnionRenderers\"},{\"attributes\":{\"graph_layout\":{\"Script\":[0.011843969790689024,0.46852106353776873],\"ad object\":[0.7001359172012925,0.16064668589703113],\"application\":[0.3511641919130025,-0.6048858193846122],\"cloud service\":[0.6838225412304657,-0.28548858532386795],\"command\":[-0.0454634418755301,-0.2029879252564651],\"file\":[-0.0841974624295955,0.22102984070838158],\"firewall\":[0.7413144879720229,-0.06492986585867545],\"firewall rule\":[0.555782530058419,-0.47864645254458366],\"host\":[-0.25846436168115233,-0.12660674457207344],\"instance\":[0.346621478715672,0.5578862970397709],\"ip\":[-0.2170307449567456,-0.3385376649627606],\"logon session\":[0.06980169410932921,-0.659020225502511],\"module\":[-0.9999999999999999,0.04517908921140082],\"port\":[-0.4544228463743101,-0.10579076975183219],\"process\":[-0.39946798789302723,0.08204691942619183],\"service\":[0.578768720502566,0.36364610040608486],\"thread\":[-0.9008232951096922,0.4061644774095485],\"user\":[0.14135080420700838,-0.04299437240948268],\"windows registry key\":[-0.3056976560460258,0.3331388566822297],\"windows registry key value\":[-0.4135873414208086,-0.3230043019944085],\"wmi object\":[-0.10145119791357943,0.5946333972428663]}},\"id\":\"1020\",\"type\":\"StaticLayoutProvider\"},{\"attributes\":{},\"id\":\"1051\",\"type\":\"NodesAndLinkedEdges\"},{\"attributes\":{\"end\":1.1,\"start\":-1.1},\"id\":\"1003\",\"type\":\"Range1d\"},{\"attributes\":{\"end\":1.1,\"start\":-1.1},\"id\":\"1004\",\"type\":\"Range1d\"},{\"attributes\":{\"edge_renderer\":{\"id\":\"1018\"},\"inspection_policy\":{\"id\":\"1053\"},\"layout_provider\":{\"id\":\"1020\"},\"node_renderer\":{\"id\":\"1014\"},\"selection_policy\":{\"id\":\"1051\"}},\"id\":\"1011\",\"type\":\"GraphRenderer\"},{\"attributes\":{\"align\":\"center\",\"text\":\"Relationships among Data Elements\",\"text_font_size\":\"30px\"},\"id\":\"1008\",\"type\":\"Title\"},{\"attributes\":{\"line_alpha\":{\"value\":0.9},\"line_color\":{\"value\":\"gray\"}},\"id\":\"1036\",\"type\":\"MultiLine\"},{\"attributes\":{\"data\":{\"name\":[\"process\",\"windows registry key\",\"windows registry key value\",\"user\",\"command\",\"thread\",\"file\",\"ip\",\"port\",\"application\",\"host\",\"instance\",\"ad object\",\"logon session\",\"cloud service\",\"module\",\"Script\",\"service\",\"firewall rule\",\"firewall\",\"wmi object\"],\"x\":[-0.39946798789302723,-0.3056976560460258,-0.4135873414208086,0.14135080420700838,-0.0454634418755301,-0.9008232951096922,-0.0841974624295955,-0.2170307449567456,-0.4544228463743101,0.3511641919130025,-0.25846436168115233,0.346621478715672,0.7001359172012925,0.06980169410932921,0.6838225412304657,-0.9999999999999999,0.011843969790689024,0.578768720502566,0.555782530058419,0.7413144879720229,-0.10145119791357943],\"y\":[0.08204691942619183,0.3331388566822297,-0.3230043019944085,-0.04299437240948268,-0.2029879252564651,0.4061644774095485,0.22102984070838158,-0.3385376649627606,-0.10579076975183219,-0.6048858193846122,-0.12660674457207344,0.5578862970397709,0.16064668589703113,-0.659020225502511,-0.28548858532386795,0.04517908921140082,0.46852106353776873,0.36364610040608486,-0.47864645254458366,-0.06492986585867545,0.5946333972428663]},\"selected\":{\"id\":\"1086\"},\"selection_policy\":{\"id\":\"1087\"}},\"id\":\"1055\",\"type\":\"ColumnDataSource\"},{\"attributes\":{\"line_color\":{\"value\":\"#fdae61\"},\"line_width\":{\"value\":4}},\"id\":\"1041\",\"type\":\"MultiLine\"},{\"attributes\":{\"callback\":null,\"tooltips\":null},\"id\":\"1058\",\"type\":\"HoverTool\"},{\"attributes\":{},\"id\":\"1077\",\"type\":\"LinearScale\"},{\"attributes\":{\"data_source\":{\"id\":\"1017\"},\"glyph\":{\"id\":\"1036\"},\"hover_glyph\":{\"id\":\"1046\"},\"muted_glyph\":null,\"selection_glyph\":{\"id\":\"1041\"},\"view\":{\"id\":\"1019\"}},\"id\":\"1018\",\"type\":\"GlyphRenderer\"},{\"attributes\":{\"overlay\":{\"id\":\"1088\"}},\"id\":\"1061\",\"type\":\"BoxSelectTool\"},{\"attributes\":{\"bottom_units\":\"screen\",\"fill_alpha\":0.5,\"fill_color\":\"lightgrey\",\"left_units\":\"screen\",\"level\":\"overlay\",\"line_alpha\":1.0,\"line_color\":\"black\",\"line_dash\":[4,4],\"line_width\":2,\"right_units\":\"screen\",\"syncable\":false,\"top_units\":\"screen\"},\"id\":\"1088\",\"type\":\"BoxAnnotation\"},{\"attributes\":{\"source\":{\"id\":\"1017\"}},\"id\":\"1019\",\"type\":\"CDSView\"},{\"attributes\":{},\"id\":\"1093\",\"type\":\"Selection\"},{\"attributes\":{\"source\":{\"id\":\"1013\"}},\"id\":\"1015\",\"type\":\"CDSView\"},{\"attributes\":{\"fill_color\":{\"value\":\"#abdda4\"},\"size\":{\"value\":15}},\"id\":\"1031\",\"type\":\"Circle\"},{\"attributes\":{\"overlay\":{\"id\":\"1090\"}},\"id\":\"1064\",\"type\":\"LassoSelectTool\"},{\"attributes\":{\"data\":{\"index\":[\"process\",\"windows registry key\",\"windows registry key value\",\"user\",\"command\",\"thread\",\"file\",\"ip\",\"port\",\"application\",\"host\",\"instance\",\"ad object\",\"logon session\",\"cloud service\",\"module\",\"Script\",\"service\",\"firewall rule\",\"firewall\",\"wmi object\"]},\"selected\":{\"id\":\"1091\"},\"selection_policy\":{\"id\":\"1092\"}},\"id\":\"1013\",\"type\":\"ColumnDataSource\"},{\"attributes\":{},\"id\":\"1063\",\"type\":\"PanTool\"},{\"attributes\":{},\"id\":\"1074\",\"type\":\"LinearScale\"},{\"attributes\":{\"data\":{\"end\":[\"windows registry key\",\"windows registry key value\",\"command\",\"process\",\"thread\",\"user\",\"file\",\"host\",\"ip\",\"port\",\"module\",\"Script\",\"user\",\"user\",\"command\",\"file\",\"ip\",\"port\",\"application\",\"host\",\"instance\",\"ad object\",\"logon session\",\"cloud service\",\"service\",\"firewall rule\",\"user\",\"firewall\",\"wmi object\",\"host\",\"host\"],\"relationship\":[\"requested access to\",\"deleted\",\"executed\",\"requested access to\",\"created\",\"terminated\",\"deleted\",\"connected to\",\"connected to\",\"listened on\",\"loaded\",\"executed\",\"requested access to\",\"modified\",\"executed\",\"deleted\",\"retrieved information about cloud service from\",\"created logon session from\",\"attempted to authenticate to\",\"connected to\",\"modified\",\"requested access to\",\"created\",\"retrieved information about\",\"created\",\"listed\",\"deleted\",\"retrieved information about\",\"created\",\"permitted listener on\",\"permitted listener on\"],\"start\":[\"process\",\"process\",\"process\",\"process\",\"process\",\"process\",\"process\",\"process\",\"process\",\"process\",\"process\",\"process\",\"windows registry key\",\"windows registry key value\",\"user\",\"user\",\"user\",\"user\",\"user\",\"user\",\"user\",\"user\",\"user\",\"user\",\"user\",\"user\",\"user\",\"user\",\"user\",\"ip\",\"port\"]},\"selected\":{\"id\":\"1093\"},\"selection_policy\":{\"id\":\"1094\"}},\"id\":\"1017\",\"type\":\"ColumnDataSource\"},{\"attributes\":{\"data_source\":{\"id\":\"1013\"},\"glyph\":{\"id\":\"1021\"},\"hover_glyph\":{\"id\":\"1031\"},\"muted_glyph\":null,\"selection_glyph\":{\"id\":\"1026\"},\"view\":{\"id\":\"1015\"}},\"id\":\"1014\",\"type\":\"GlyphRenderer\"},{\"attributes\":{},\"id\":\"1065\",\"type\":\"ResetTool\"},{\"attributes\":{\"fill_color\":{\"value\":\"#2b83ba\"},\"size\":{\"value\":60}},\"id\":\"1021\",\"type\":\"Circle\"},{\"attributes\":{},\"id\":\"1053\",\"type\":\"NodesAndLinkedEdges\"},{\"attributes\":{},\"id\":\"1059\",\"type\":\"WheelZoomTool\"},{\"attributes\":{\"overlay\":{\"id\":\"1089\"}},\"id\":\"1062\",\"type\":\"BoxZoomTool\"},{\"attributes\":{\"fill_color\":{\"value\":\"#fdae61\"},\"size\":{\"value\":15}},\"id\":\"1026\",\"type\":\"Circle\"},{\"attributes\":{},\"id\":\"1092\",\"type\":\"UnionRenderers\"},{\"attributes\":{\"callback\":null},\"id\":\"1060\",\"type\":\"TapTool\"},{\"attributes\":{\"source\":{\"id\":\"1055\"},\"text\":{\"field\":\"name\"},\"text_align\":{\"value\":\"center\"},\"text_color\":{\"value\":\"black\"},\"text_font_size\":{\"value\":\"12px\"},\"x\":{\"field\":\"x\"},\"y\":{\"field\":\"y\"},\"y_offset\":{\"value\":-10}},\"id\":\"1056\",\"type\":\"LabelSet\"}],\"root_ids\":[\"1005\"]},\"title\":\"Bokeh Application\",\"version\":\"2.3.1\"}};\n  var render_items = [{\"docid\":\"cbd864ec-0e8b-419a-b6a2-b9e294f53cef\",\"root_ids\":[\"1005\"],\"roots\":{\"1005\":\"39d025bf-0b5f-4b00-8430-311b8b27bbcc\"}}];\n  root.Bokeh.embed.embed_items_notebook(docs_json, render_items);\n\n  }\n  if (root.Bokeh !== undefined) {\n    embed_document(root);\n  } else {\n    var attempts = 0;\n    var timer = setInterval(function(root) {\n      if (root.Bokeh !== undefined) {\n        clearInterval(timer);\n        embed_document(root);\n      } else {\n        attempts++;\n        if (attempts > 100) {\n          clearInterval(timer);\n          console.log(\"Bokeh: ERROR: Unable to run BokehJS code because BokehJS library is missing\");\n        }\n      }\n    }, 10, root)\n  }\n})(window);",
      "application/vnd.bokehjs_exec.v0+json": ""
     },
     "metadata": {
      "application/vnd.bokehjs_exec.v0+json": {
       "id": "1005"
      }
     }
    }
   ],
   "source": [
    "# Creating networkx graph object\n",
    "G = nx.from_pandas_edgelist(relationships, source = 'source', target = 'target',edge_attr = 'relationship')\n",
    "\n",
    "# Creating plot object\n",
    "plot = Plot(plot_width=800, plot_height=500,\n",
    "            x_range=Range1d(-1.1, 1.1), y_range=Range1d(-1.1, 1.1))\n",
    "plot.title.text = \"Relationships among Data Elements\"\n",
    "plot.title.align = \"center\"\n",
    "plot.title.text_font_size = \"30px\"\n",
    "\n",
    "# Creating renderer objects\n",
    "graph_renderer = from_networkx(G, nx.spring_layout, scale=1, center=(0, 0))\n",
    "\n",
    "graph_renderer.node_renderer.glyph = Circle(size=60, fill_color=Spectral5[0])\n",
    "graph_renderer.node_renderer.selection_glyph = Circle(size=15, fill_color=Spectral5[3])\n",
    "graph_renderer.node_renderer.hover_glyph = Circle(size=15, fill_color=Spectral5[1])\n",
    "\n",
    "graph_renderer.edge_renderer.glyph = MultiLine(line_color=\"gray\", line_alpha=0.9, line_width=1)\n",
    "graph_renderer.edge_renderer.selection_glyph = MultiLine(line_color=Spectral5[3], line_width=4)\n",
    "graph_renderer.edge_renderer.hover_glyph = MultiLine(line_color=Spectral5[1], line_width=4)\n",
    "\n",
    "graph_renderer.selection_policy = NodesAndLinkedEdges()\n",
    "graph_renderer.inspection_policy = NodesAndLinkedEdges()\n",
    "plot.renderers.append(graph_renderer)\n",
    "\n",
    "# Adding nodes labels\n",
    "x,y = zip(*graph_renderer.layout_provider.graph_layout.values())\n",
    "\n",
    "names = []\n",
    "for i in nx.nodes(G): names.append(i) \n",
    "    \n",
    "nodes_table = ColumnDataSource({'x': x, 'y': y,'name': names})\n",
    "labels = LabelSet(x='x',y='y',text='name',render_mode='canvas',y_offset=-10,text_align='center',\n",
    "                  text_font_size='12px',source = nodes_table, background_fill_color=None,text_color = 'black')\n",
    "\n",
    "plot.renderers.append(labels)\n",
    "\n",
    "# Adding tools\n",
    "plot.add_tools(HoverTool(tooltips=None),WheelZoomTool(),TapTool(),BoxSelectTool(),BoxZoomTool(),\n",
    "               PanTool(),LassoSelectTool(),ResetTool())\n",
    "\n",
    "# Showing graph\n",
    "show(plot)"
   ]
  },
  {
   "cell_type": "markdown",
   "metadata": {},
   "source": [
    "## Mapping (sub)techniques to data components & relationships & event logs"
   ]
  },
  {
   "cell_type": "markdown",
   "metadata": {},
   "source": [
    "### Use Case: OS Credential Dumping: LSASS Memory (T1003.001)"
   ]
  },
  {
   "cell_type": "markdown",
   "metadata": {},
   "source": [
    "* What are the recommended data sources?"
   ]
  },
  {
   "cell_type": "code",
   "execution_count": 8,
   "metadata": {},
   "outputs": [
    {
     "output_type": "execute_result",
     "data": {
      "text/plain": [
       "     data_source     data_component\n",
       "3448     process   process creation\n",
       "3455     process     process access\n",
       "3457     command  command execution\n",
       "3465     process   os api execution"
      ],
      "text/html": "<div>\n<style scoped>\n    .dataframe tbody tr th:only-of-type {\n        vertical-align: middle;\n    }\n\n    .dataframe tbody tr th {\n        vertical-align: top;\n    }\n\n    .dataframe thead th {\n        text-align: right;\n    }\n</style>\n<table border=\"1\" class=\"dataframe\">\n  <thead>\n    <tr style=\"text-align: right;\">\n      <th></th>\n      <th>data_source</th>\n      <th>data_component</th>\n    </tr>\n  </thead>\n  <tbody>\n    <tr>\n      <th>3448</th>\n      <td>process</td>\n      <td>process creation</td>\n    </tr>\n    <tr>\n      <th>3455</th>\n      <td>process</td>\n      <td>process access</td>\n    </tr>\n    <tr>\n      <th>3457</th>\n      <td>command</td>\n      <td>command execution</td>\n    </tr>\n    <tr>\n      <th>3465</th>\n      <td>process</td>\n      <td>os api execution</td>\n    </tr>\n  </tbody>\n</table>\n</div>"
     },
     "metadata": {},
     "execution_count": 8
    }
   ],
   "source": [
    "mapping[mapping['technique_id']=='T1003.001'][['data_source', 'data_component']].drop_duplicates()"
   ]
  },
  {
   "source": [
    "* What security events have we identified so far??"
   ],
   "cell_type": "markdown",
   "metadata": {}
  },
  {
   "cell_type": "code",
   "execution_count": 9,
   "metadata": {},
   "outputs": [
    {
     "output_type": "execute_result",
     "data": {
      "text/plain": [
       "     technique_id  x_mitre_is_subtechnique     technique               tactic  \\\n",
       "3448    T1003.001                     True  LSASS Memory  [credential-access]   \n",
       "3449    T1003.001                     True  LSASS Memory  [credential-access]   \n",
       "3450    T1003.001                     True  LSASS Memory  [credential-access]   \n",
       "3451    T1003.001                     True  LSASS Memory  [credential-access]   \n",
       "3452    T1003.001                     True  LSASS Memory  [credential-access]   \n",
       "3453    T1003.001                     True  LSASS Memory  [credential-access]   \n",
       "3454    T1003.001                     True  LSASS Memory  [credential-access]   \n",
       "3455    T1003.001                     True  LSASS Memory  [credential-access]   \n",
       "3456    T1003.001                     True  LSASS Memory  [credential-access]   \n",
       "3457    T1003.001                     True  LSASS Memory  [credential-access]   \n",
       "3458    T1003.001                     True  LSASS Memory  [credential-access]   \n",
       "3459    T1003.001                     True  LSASS Memory  [credential-access]   \n",
       "3460    T1003.001                     True  LSASS Memory  [credential-access]   \n",
       "3461    T1003.001                     True  LSASS Memory  [credential-access]   \n",
       "3462    T1003.001                     True  LSASS Memory  [credential-access]   \n",
       "3463    T1003.001                     True  LSASS Memory  [credential-access]   \n",
       "3464    T1003.001                     True  LSASS Memory  [credential-access]   \n",
       "3465    T1003.001                     True  LSASS Memory  [credential-access]   \n",
       "\n",
       "       platform data_source     data_component  \\\n",
       "3448  [Windows]     process   process creation   \n",
       "3449  [Windows]     process   process creation   \n",
       "3450  [Windows]     process   process creation   \n",
       "3451  [Windows]     process   process creation   \n",
       "3452  [Windows]     process   process creation   \n",
       "3453  [Windows]     process   process creation   \n",
       "3454  [Windows]     process   process creation   \n",
       "3455  [Windows]     process     process access   \n",
       "3456  [Windows]     process     process access   \n",
       "3457  [Windows]     command  command execution   \n",
       "3458  [Windows]     command  command execution   \n",
       "3459  [Windows]     command  command execution   \n",
       "3460  [Windows]     command  command execution   \n",
       "3461  [Windows]     command  command execution   \n",
       "3462  [Windows]     command  command execution   \n",
       "3463  [Windows]     command  command execution   \n",
       "3464  [Windows]     command  command execution   \n",
       "3465  [Windows]     process   os api execution   \n",
       "\n",
       "                                     name   source         relationship  \\\n",
       "3448              Process created Process  process              created   \n",
       "3449              Process created Process  process              created   \n",
       "3450              Process created Process  process              created   \n",
       "3451               Process created Thread  process              created   \n",
       "3452                 User created Process     user              created   \n",
       "3453                 User created Process     user              created   \n",
       "3454                 User created Process     user              created   \n",
       "3455             Process accessed Process  process             accessed   \n",
       "3456  Process requested access to Process  process  requested access to   \n",
       "3457             Process executed Command  process             executed   \n",
       "3458             Process executed Command  process             executed   \n",
       "3459             Process executed Command  process             executed   \n",
       "3460             Process executed Command  process             executed   \n",
       "3461                User executed Command     user             executed   \n",
       "3462                User executed Command     user             executed   \n",
       "3463                User executed Command     user             executed   \n",
       "3464                User executed Command     user             executed   \n",
       "3465                                  NaN      NaN                  NaN   \n",
       "\n",
       "       target             event_id                            event_name  \\\n",
       "3448  process                 4688       A new process has been created.   \n",
       "3449  process                    1                     Process Creation.   \n",
       "3450  process  DeviceProcessEvents                   DeviceProcessEvents   \n",
       "3451   thread                    8                   CreateRemoteThread.   \n",
       "3452  process                 4688       A new process has been created.   \n",
       "3453  process                    1                     Process Creation.   \n",
       "3454  process  DeviceProcessEvents                   DeviceProcessEvents   \n",
       "3455  process                   10                        ProcessAccess.   \n",
       "3456  process                 4656  A handle to an object was requested.   \n",
       "3457  command                 4688       A new process has been created.   \n",
       "3458  command                    1                     Process Creation.   \n",
       "3459  command                 4103                       Module logging.   \n",
       "3460  command  DeviceProcessEvents                   DeviceProcessEvents   \n",
       "3461  command                 4688       A new process has been created.   \n",
       "3462  command                    1                     Process Creation.   \n",
       "3463  command                 4103                       Module logging.   \n",
       "3464  command  DeviceProcessEvents                   DeviceProcessEvents   \n",
       "3465      NaN                  NaN                                   NaN   \n",
       "\n",
       "     event_platform      audit_category audit_sub_category  \\\n",
       "3448        Windows   Detailed Tracking   Process Creation   \n",
       "3449        Windows       ProcessCreate                NaN   \n",
       "3450        Windows                None                NaN   \n",
       "3451        Windows  CreateRemoteThread                NaN   \n",
       "3452        Windows   Detailed Tracking   Process Creation   \n",
       "3453        Windows       ProcessCreate                NaN   \n",
       "3454        Windows                None                NaN   \n",
       "3455        Windows       ProcessAccess                NaN   \n",
       "3456        Windows       Object Access      Kernel Object   \n",
       "3457        Windows   Detailed Tracking   Process Creation   \n",
       "3458        Windows       ProcessCreate                NaN   \n",
       "3459        Windows  Executing Pipeline                NaN   \n",
       "3460        Windows                None                NaN   \n",
       "3461        Windows   Detailed Tracking   Process Creation   \n",
       "3462        Windows       ProcessCreate                NaN   \n",
       "3463        Windows  Executing Pipeline                NaN   \n",
       "3464        Windows                None                NaN   \n",
       "3465            NaN                 NaN                NaN   \n",
       "\n",
       "                                   log_channel  \\\n",
       "3448                                  Security   \n",
       "3449      Microsoft-Windows-Sysmon/Operational   \n",
       "3450                                      None   \n",
       "3451      Microsoft-Windows-Sysmon/Operational   \n",
       "3452                                  Security   \n",
       "3453      Microsoft-Windows-Sysmon/Operational   \n",
       "3454                                      None   \n",
       "3455      Microsoft-Windows-Sysmon/Operational   \n",
       "3456                                  Security   \n",
       "3457                                  Security   \n",
       "3458      Microsoft-Windows-Sysmon/Operational   \n",
       "3459  Microsoft-Windows-PowerShell/Operational   \n",
       "3460                                      None   \n",
       "3461                                  Security   \n",
       "3462      Microsoft-Windows-Sysmon/Operational   \n",
       "3463  Microsoft-Windows-PowerShell/Operational   \n",
       "3464                                      None   \n",
       "3465                                       NaN   \n",
       "\n",
       "                                     log_provider  \n",
       "3448          Microsoft-Windows-Security-Auditing  \n",
       "3449                     Microsoft-Windows-Sysmon  \n",
       "3450  Windows Defender Advanced Threat Protection  \n",
       "3451                     Microsoft-Windows-Sysmon  \n",
       "3452          Microsoft-Windows-Security-Auditing  \n",
       "3453                     Microsoft-Windows-Sysmon  \n",
       "3454  Windows Defender Advanced Threat Protection  \n",
       "3455                     Microsoft-Windows-Sysmon  \n",
       "3456          Microsoft-Windows-Security-Auditing  \n",
       "3457          Microsoft-Windows-Security-Auditing  \n",
       "3458                     Microsoft-Windows-Sysmon  \n",
       "3459                 Microsoft-Windows-PowerShell  \n",
       "3460  Windows Defender Advanced Threat Protection  \n",
       "3461          Microsoft-Windows-Security-Auditing  \n",
       "3462                     Microsoft-Windows-Sysmon  \n",
       "3463                 Microsoft-Windows-PowerShell  \n",
       "3464  Windows Defender Advanced Threat Protection  \n",
       "3465                                          NaN  "
      ],
      "text/html": "<div>\n<style scoped>\n    .dataframe tbody tr th:only-of-type {\n        vertical-align: middle;\n    }\n\n    .dataframe tbody tr th {\n        vertical-align: top;\n    }\n\n    .dataframe thead th {\n        text-align: right;\n    }\n</style>\n<table border=\"1\" class=\"dataframe\">\n  <thead>\n    <tr style=\"text-align: right;\">\n      <th></th>\n      <th>technique_id</th>\n      <th>x_mitre_is_subtechnique</th>\n      <th>technique</th>\n      <th>tactic</th>\n      <th>platform</th>\n      <th>data_source</th>\n      <th>data_component</th>\n      <th>name</th>\n      <th>source</th>\n      <th>relationship</th>\n      <th>target</th>\n      <th>event_id</th>\n      <th>event_name</th>\n      <th>event_platform</th>\n      <th>audit_category</th>\n      <th>audit_sub_category</th>\n      <th>log_channel</th>\n      <th>log_provider</th>\n    </tr>\n  </thead>\n  <tbody>\n    <tr>\n      <th>3448</th>\n      <td>T1003.001</td>\n      <td>True</td>\n      <td>LSASS Memory</td>\n      <td>[credential-access]</td>\n      <td>[Windows]</td>\n      <td>process</td>\n      <td>process creation</td>\n      <td>Process created Process</td>\n      <td>process</td>\n      <td>created</td>\n      <td>process</td>\n      <td>4688</td>\n      <td>A new process has been created.</td>\n      <td>Windows</td>\n      <td>Detailed Tracking</td>\n      <td>Process Creation</td>\n      <td>Security</td>\n      <td>Microsoft-Windows-Security-Auditing</td>\n    </tr>\n    <tr>\n      <th>3449</th>\n      <td>T1003.001</td>\n      <td>True</td>\n      <td>LSASS Memory</td>\n      <td>[credential-access]</td>\n      <td>[Windows]</td>\n      <td>process</td>\n      <td>process creation</td>\n      <td>Process created Process</td>\n      <td>process</td>\n      <td>created</td>\n      <td>process</td>\n      <td>1</td>\n      <td>Process Creation.</td>\n      <td>Windows</td>\n      <td>ProcessCreate</td>\n      <td>NaN</td>\n      <td>Microsoft-Windows-Sysmon/Operational</td>\n      <td>Microsoft-Windows-Sysmon</td>\n    </tr>\n    <tr>\n      <th>3450</th>\n      <td>T1003.001</td>\n      <td>True</td>\n      <td>LSASS Memory</td>\n      <td>[credential-access]</td>\n      <td>[Windows]</td>\n      <td>process</td>\n      <td>process creation</td>\n      <td>Process created Process</td>\n      <td>process</td>\n      <td>created</td>\n      <td>process</td>\n      <td>DeviceProcessEvents</td>\n      <td>DeviceProcessEvents</td>\n      <td>Windows</td>\n      <td>None</td>\n      <td>NaN</td>\n      <td>None</td>\n      <td>Windows Defender Advanced Threat Protection</td>\n    </tr>\n    <tr>\n      <th>3451</th>\n      <td>T1003.001</td>\n      <td>True</td>\n      <td>LSASS Memory</td>\n      <td>[credential-access]</td>\n      <td>[Windows]</td>\n      <td>process</td>\n      <td>process creation</td>\n      <td>Process created Thread</td>\n      <td>process</td>\n      <td>created</td>\n      <td>thread</td>\n      <td>8</td>\n      <td>CreateRemoteThread.</td>\n      <td>Windows</td>\n      <td>CreateRemoteThread</td>\n      <td>NaN</td>\n      <td>Microsoft-Windows-Sysmon/Operational</td>\n      <td>Microsoft-Windows-Sysmon</td>\n    </tr>\n    <tr>\n      <th>3452</th>\n      <td>T1003.001</td>\n      <td>True</td>\n      <td>LSASS Memory</td>\n      <td>[credential-access]</td>\n      <td>[Windows]</td>\n      <td>process</td>\n      <td>process creation</td>\n      <td>User created Process</td>\n      <td>user</td>\n      <td>created</td>\n      <td>process</td>\n      <td>4688</td>\n      <td>A new process has been created.</td>\n      <td>Windows</td>\n      <td>Detailed Tracking</td>\n      <td>Process Creation</td>\n      <td>Security</td>\n      <td>Microsoft-Windows-Security-Auditing</td>\n    </tr>\n    <tr>\n      <th>3453</th>\n      <td>T1003.001</td>\n      <td>True</td>\n      <td>LSASS Memory</td>\n      <td>[credential-access]</td>\n      <td>[Windows]</td>\n      <td>process</td>\n      <td>process creation</td>\n      <td>User created Process</td>\n      <td>user</td>\n      <td>created</td>\n      <td>process</td>\n      <td>1</td>\n      <td>Process Creation.</td>\n      <td>Windows</td>\n      <td>ProcessCreate</td>\n      <td>NaN</td>\n      <td>Microsoft-Windows-Sysmon/Operational</td>\n      <td>Microsoft-Windows-Sysmon</td>\n    </tr>\n    <tr>\n      <th>3454</th>\n      <td>T1003.001</td>\n      <td>True</td>\n      <td>LSASS Memory</td>\n      <td>[credential-access]</td>\n      <td>[Windows]</td>\n      <td>process</td>\n      <td>process creation</td>\n      <td>User created Process</td>\n      <td>user</td>\n      <td>created</td>\n      <td>process</td>\n      <td>DeviceProcessEvents</td>\n      <td>DeviceProcessEvents</td>\n      <td>Windows</td>\n      <td>None</td>\n      <td>NaN</td>\n      <td>None</td>\n      <td>Windows Defender Advanced Threat Protection</td>\n    </tr>\n    <tr>\n      <th>3455</th>\n      <td>T1003.001</td>\n      <td>True</td>\n      <td>LSASS Memory</td>\n      <td>[credential-access]</td>\n      <td>[Windows]</td>\n      <td>process</td>\n      <td>process access</td>\n      <td>Process accessed Process</td>\n      <td>process</td>\n      <td>accessed</td>\n      <td>process</td>\n      <td>10</td>\n      <td>ProcessAccess.</td>\n      <td>Windows</td>\n      <td>ProcessAccess</td>\n      <td>NaN</td>\n      <td>Microsoft-Windows-Sysmon/Operational</td>\n      <td>Microsoft-Windows-Sysmon</td>\n    </tr>\n    <tr>\n      <th>3456</th>\n      <td>T1003.001</td>\n      <td>True</td>\n      <td>LSASS Memory</td>\n      <td>[credential-access]</td>\n      <td>[Windows]</td>\n      <td>process</td>\n      <td>process access</td>\n      <td>Process requested access to Process</td>\n      <td>process</td>\n      <td>requested access to</td>\n      <td>process</td>\n      <td>4656</td>\n      <td>A handle to an object was requested.</td>\n      <td>Windows</td>\n      <td>Object Access</td>\n      <td>Kernel Object</td>\n      <td>Security</td>\n      <td>Microsoft-Windows-Security-Auditing</td>\n    </tr>\n    <tr>\n      <th>3457</th>\n      <td>T1003.001</td>\n      <td>True</td>\n      <td>LSASS Memory</td>\n      <td>[credential-access]</td>\n      <td>[Windows]</td>\n      <td>command</td>\n      <td>command execution</td>\n      <td>Process executed Command</td>\n      <td>process</td>\n      <td>executed</td>\n      <td>command</td>\n      <td>4688</td>\n      <td>A new process has been created.</td>\n      <td>Windows</td>\n      <td>Detailed Tracking</td>\n      <td>Process Creation</td>\n      <td>Security</td>\n      <td>Microsoft-Windows-Security-Auditing</td>\n    </tr>\n    <tr>\n      <th>3458</th>\n      <td>T1003.001</td>\n      <td>True</td>\n      <td>LSASS Memory</td>\n      <td>[credential-access]</td>\n      <td>[Windows]</td>\n      <td>command</td>\n      <td>command execution</td>\n      <td>Process executed Command</td>\n      <td>process</td>\n      <td>executed</td>\n      <td>command</td>\n      <td>1</td>\n      <td>Process Creation.</td>\n      <td>Windows</td>\n      <td>ProcessCreate</td>\n      <td>NaN</td>\n      <td>Microsoft-Windows-Sysmon/Operational</td>\n      <td>Microsoft-Windows-Sysmon</td>\n    </tr>\n    <tr>\n      <th>3459</th>\n      <td>T1003.001</td>\n      <td>True</td>\n      <td>LSASS Memory</td>\n      <td>[credential-access]</td>\n      <td>[Windows]</td>\n      <td>command</td>\n      <td>command execution</td>\n      <td>Process executed Command</td>\n      <td>process</td>\n      <td>executed</td>\n      <td>command</td>\n      <td>4103</td>\n      <td>Module logging.</td>\n      <td>Windows</td>\n      <td>Executing Pipeline</td>\n      <td>NaN</td>\n      <td>Microsoft-Windows-PowerShell/Operational</td>\n      <td>Microsoft-Windows-PowerShell</td>\n    </tr>\n    <tr>\n      <th>3460</th>\n      <td>T1003.001</td>\n      <td>True</td>\n      <td>LSASS Memory</td>\n      <td>[credential-access]</td>\n      <td>[Windows]</td>\n      <td>command</td>\n      <td>command execution</td>\n      <td>Process executed Command</td>\n      <td>process</td>\n      <td>executed</td>\n      <td>command</td>\n      <td>DeviceProcessEvents</td>\n      <td>DeviceProcessEvents</td>\n      <td>Windows</td>\n      <td>None</td>\n      <td>NaN</td>\n      <td>None</td>\n      <td>Windows Defender Advanced Threat Protection</td>\n    </tr>\n    <tr>\n      <th>3461</th>\n      <td>T1003.001</td>\n      <td>True</td>\n      <td>LSASS Memory</td>\n      <td>[credential-access]</td>\n      <td>[Windows]</td>\n      <td>command</td>\n      <td>command execution</td>\n      <td>User executed Command</td>\n      <td>user</td>\n      <td>executed</td>\n      <td>command</td>\n      <td>4688</td>\n      <td>A new process has been created.</td>\n      <td>Windows</td>\n      <td>Detailed Tracking</td>\n      <td>Process Creation</td>\n      <td>Security</td>\n      <td>Microsoft-Windows-Security-Auditing</td>\n    </tr>\n    <tr>\n      <th>3462</th>\n      <td>T1003.001</td>\n      <td>True</td>\n      <td>LSASS Memory</td>\n      <td>[credential-access]</td>\n      <td>[Windows]</td>\n      <td>command</td>\n      <td>command execution</td>\n      <td>User executed Command</td>\n      <td>user</td>\n      <td>executed</td>\n      <td>command</td>\n      <td>1</td>\n      <td>Process Creation.</td>\n      <td>Windows</td>\n      <td>ProcessCreate</td>\n      <td>NaN</td>\n      <td>Microsoft-Windows-Sysmon/Operational</td>\n      <td>Microsoft-Windows-Sysmon</td>\n    </tr>\n    <tr>\n      <th>3463</th>\n      <td>T1003.001</td>\n      <td>True</td>\n      <td>LSASS Memory</td>\n      <td>[credential-access]</td>\n      <td>[Windows]</td>\n      <td>command</td>\n      <td>command execution</td>\n      <td>User executed Command</td>\n      <td>user</td>\n      <td>executed</td>\n      <td>command</td>\n      <td>4103</td>\n      <td>Module logging.</td>\n      <td>Windows</td>\n      <td>Executing Pipeline</td>\n      <td>NaN</td>\n      <td>Microsoft-Windows-PowerShell/Operational</td>\n      <td>Microsoft-Windows-PowerShell</td>\n    </tr>\n    <tr>\n      <th>3464</th>\n      <td>T1003.001</td>\n      <td>True</td>\n      <td>LSASS Memory</td>\n      <td>[credential-access]</td>\n      <td>[Windows]</td>\n      <td>command</td>\n      <td>command execution</td>\n      <td>User executed Command</td>\n      <td>user</td>\n      <td>executed</td>\n      <td>command</td>\n      <td>DeviceProcessEvents</td>\n      <td>DeviceProcessEvents</td>\n      <td>Windows</td>\n      <td>None</td>\n      <td>NaN</td>\n      <td>None</td>\n      <td>Windows Defender Advanced Threat Protection</td>\n    </tr>\n    <tr>\n      <th>3465</th>\n      <td>T1003.001</td>\n      <td>True</td>\n      <td>LSASS Memory</td>\n      <td>[credential-access]</td>\n      <td>[Windows]</td>\n      <td>process</td>\n      <td>os api execution</td>\n      <td>NaN</td>\n      <td>NaN</td>\n      <td>NaN</td>\n      <td>NaN</td>\n      <td>NaN</td>\n      <td>NaN</td>\n      <td>NaN</td>\n      <td>NaN</td>\n      <td>NaN</td>\n      <td>NaN</td>\n      <td>NaN</td>\n    </tr>\n  </tbody>\n</table>\n</div>"
     },
     "metadata": {},
     "execution_count": 9
    }
   ],
   "source": [
    "mapping[mapping['technique_id']=='T1003.001']"
   ]
  },
  {
   "cell_type": "markdown",
   "metadata": {},
   "source": [
    "## This is really cool!!! We have covered most of the recommended data sources/components, however we have not identified security events for one data component: Process / OS Api Execution :(\n",
    "    \n",
    "## What security event logs would you recommend for this data source/component? Contribute to the community through OSSEM :D\n",
    "\n",
    "## You can contribute and map more security events [here](https://github.com/OTRF/OSSEM-DM/tree/main/relationships)"
   ]
  }
 ],
 "metadata": {
  "file_extension": ".py",
  "kernelspec": {
   "name": "python3",
   "display_name": "Python 3"
  },
  "language_info": {
   "codemirror_mode": {
    "name": "ipython",
    "version": 3
   },
   "file_extension": ".py",
   "mimetype": "text/x-python",
   "name": "python",
   "nbconvert_exporter": "python",
   "pygments_lexer": "ipython3",
   "version": "3.9.2"
  },
  "mimetype": "text/x-python",
  "name": "python",
  "npconvert_exporter": "python",
  "pygments_lexer": "ipython3",
  "version": 3,
  "metadata": {
   "interpreter": {
    "hash": "01ff218a1150c63991e192507b67669b395017327636807f98fdac9b0b091f04"
   }
  }
 },
 "nbformat": 4,
 "nbformat_minor": 2
}
