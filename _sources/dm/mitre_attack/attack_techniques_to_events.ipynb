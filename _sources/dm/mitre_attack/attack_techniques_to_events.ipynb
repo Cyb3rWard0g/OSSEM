{
 "cells": [
  {
   "cell_type": "markdown",
   "metadata": {},
   "source": [
    "# ATT&CK Techniques to Security Events\n",
    "\n",
    "-----------------------------------"
   ]
  },
  {
   "cell_type": "markdown",
   "metadata": {},
   "source": [
    "* **Author**: Jose Luis Rodriguez - [@Cyb3rPandaH](https://twitter.com/Cyb3rPandaH)\n",
    "* **Organization**: [Open Threat Research (OTR)](https://github.com/OTRF)\n",
    "* **References**: \n",
    " - [OSSEM - ATT&CK Event Mapping](https://github.com/OTRF/OSSEM-DM/blob/main/use-cases/mitre_attack/techniques_to_events_mapping.yaml)\n",
    " - [Data Sources, Containers, Cloud, and More: What's New in ATT&CK v9?](https://medium.com/mitre-attack/attack-april-2021-release-39accaf23c81)\n",
    " - [Defining ATT&CK Data Sources, Part I: Enhancing the Current State](https://medium.com/mitre-attack/defining-attack-data-sources-part-i-4c39e581454f)\n",
    " - [Defining ATT&CK Data Sources, Part II: Operationalizing the Methodology](https://medium.com/mitre-attack/defining-attack-data-sources-part-ii-1fc98738ba5b)\n",
    " - [ATT&CK - Data Sources Definition](https://github.com/mitre-attack/attack-datasources/tree/main/contribution)"
   ]
  },
  {
   "cell_type": "markdown",
   "metadata": {},
   "source": [
    "## Importing Python Libraries"
   ]
  },
  {
   "cell_type": "code",
   "execution_count": 1,
   "metadata": {},
   "outputs": [],
   "source": [
    "# Importing library to manipulate data\n",
    "import pandas as pd\n",
    "\n",
    "# Importing library to manipulate yaml data\n",
    "import yaml\n",
    "import requests\n",
    "\n",
    "# Importing library for visualizations\n",
    "import plotly.graph_objects as go\n",
    "from openhunt import visualizations as vis"
   ]
  },
  {
   "cell_type": "markdown",
   "metadata": {},
   "source": [
    "## Importing (Sub)Techniques to Security Events Mapping Yaml File"
   ]
  },
  {
   "source": [
    "Using the **[attackcti](https://attackcti.com/intro.html)** Python library, we were able to collect all the techniques within the Enterprise matrix. After that, we mapped several security events to each data source/component/relationship. Here is the result:"
   ],
   "cell_type": "markdown",
   "metadata": {}
  },
  {
   "cell_type": "code",
   "execution_count": 2,
   "metadata": {},
   "outputs": [
    {
     "output_type": "execute_result",
     "data": {
      "text/plain": [
       "  technique_id  x_mitre_is_subtechnique                         technique  \\\n",
       "0    T1553.006                     True  Code Signing Policy Modification   \n",
       "1    T1553.006                     True  Code Signing Policy Modification   \n",
       "2    T1553.006                     True  Code Signing Policy Modification   \n",
       "3    T1553.006                     True  Code Signing Policy Modification   \n",
       "4    T1553.006                     True  Code Signing Policy Modification   \n",
       "\n",
       "              tactic          platform       data_source  \\\n",
       "0  [defense-evasion]  [Windows, macOS]  windows registry   \n",
       "1  [defense-evasion]  [Windows, macOS]  windows registry   \n",
       "2  [defense-evasion]  [Windows, macOS]  windows registry   \n",
       "3  [defense-evasion]  [Windows, macOS]  windows registry   \n",
       "4  [defense-evasion]  [Windows, macOS]  windows registry   \n",
       "\n",
       "                      data_component  \\\n",
       "0  windows registry key modification   \n",
       "1  windows registry key modification   \n",
       "2  windows registry key modification   \n",
       "3  windows registry key modification   \n",
       "4  windows registry key modification   \n",
       "\n",
       "                                          name   source relationship  \\\n",
       "0        Process modified Windows registry key  process     modified   \n",
       "1        Process modified Windows registry key  process     modified   \n",
       "2        Process modified Windows registry key  process     modified   \n",
       "3        Process modified Windows registry key  process     modified   \n",
       "4  Process modified Windows registry key value  process     modified   \n",
       "\n",
       "                       target              event_id  \\\n",
       "0        windows registry key                    13   \n",
       "1        windows registry key                    14   \n",
       "2        windows registry key                  4670   \n",
       "3        windows registry key  DeviceRegistryEvents   \n",
       "4  windows registry key value                    13   \n",
       "\n",
       "                               event_name event_platform audit_category  \\\n",
       "0              RegistryEvent (Value Set).        Windows  RegistryEvent   \n",
       "1   RegistryEvent (Key and Value Rename).        Windows  RegistryEvent   \n",
       "2  Permissions on an object were changed.        Windows  Object Access   \n",
       "3                    DeviceRegistryEvents        Windows           None   \n",
       "4              RegistryEvent (Value Set).        Windows  RegistryEvent   \n",
       "\n",
       "  audit_sub_category                           log_channel  \\\n",
       "0                NaN  Microsoft-Windows-Sysmon/Operational   \n",
       "1                NaN  Microsoft-Windows-Sysmon/Operational   \n",
       "2           Registry                              Security   \n",
       "3                NaN                                  None   \n",
       "4                NaN  Microsoft-Windows-Sysmon/Operational   \n",
       "\n",
       "                                  log_provider  \n",
       "0                     Microsoft-Windows-Sysmon  \n",
       "1                     Microsoft-Windows-Sysmon  \n",
       "2          Microsoft-Windows-Security-Auditing  \n",
       "3  Windows Defender Advanced Threat Protection  \n",
       "4                     Microsoft-Windows-Sysmon  "
      ],
      "text/html": "<div>\n<style scoped>\n    .dataframe tbody tr th:only-of-type {\n        vertical-align: middle;\n    }\n\n    .dataframe tbody tr th {\n        vertical-align: top;\n    }\n\n    .dataframe thead th {\n        text-align: right;\n    }\n</style>\n<table border=\"1\" class=\"dataframe\">\n  <thead>\n    <tr style=\"text-align: right;\">\n      <th></th>\n      <th>technique_id</th>\n      <th>x_mitre_is_subtechnique</th>\n      <th>technique</th>\n      <th>tactic</th>\n      <th>platform</th>\n      <th>data_source</th>\n      <th>data_component</th>\n      <th>name</th>\n      <th>source</th>\n      <th>relationship</th>\n      <th>target</th>\n      <th>event_id</th>\n      <th>event_name</th>\n      <th>event_platform</th>\n      <th>audit_category</th>\n      <th>audit_sub_category</th>\n      <th>log_channel</th>\n      <th>log_provider</th>\n    </tr>\n  </thead>\n  <tbody>\n    <tr>\n      <th>0</th>\n      <td>T1553.006</td>\n      <td>True</td>\n      <td>Code Signing Policy Modification</td>\n      <td>[defense-evasion]</td>\n      <td>[Windows, macOS]</td>\n      <td>windows registry</td>\n      <td>windows registry key modification</td>\n      <td>Process modified Windows registry key</td>\n      <td>process</td>\n      <td>modified</td>\n      <td>windows registry key</td>\n      <td>13</td>\n      <td>RegistryEvent (Value Set).</td>\n      <td>Windows</td>\n      <td>RegistryEvent</td>\n      <td>NaN</td>\n      <td>Microsoft-Windows-Sysmon/Operational</td>\n      <td>Microsoft-Windows-Sysmon</td>\n    </tr>\n    <tr>\n      <th>1</th>\n      <td>T1553.006</td>\n      <td>True</td>\n      <td>Code Signing Policy Modification</td>\n      <td>[defense-evasion]</td>\n      <td>[Windows, macOS]</td>\n      <td>windows registry</td>\n      <td>windows registry key modification</td>\n      <td>Process modified Windows registry key</td>\n      <td>process</td>\n      <td>modified</td>\n      <td>windows registry key</td>\n      <td>14</td>\n      <td>RegistryEvent (Key and Value Rename).</td>\n      <td>Windows</td>\n      <td>RegistryEvent</td>\n      <td>NaN</td>\n      <td>Microsoft-Windows-Sysmon/Operational</td>\n      <td>Microsoft-Windows-Sysmon</td>\n    </tr>\n    <tr>\n      <th>2</th>\n      <td>T1553.006</td>\n      <td>True</td>\n      <td>Code Signing Policy Modification</td>\n      <td>[defense-evasion]</td>\n      <td>[Windows, macOS]</td>\n      <td>windows registry</td>\n      <td>windows registry key modification</td>\n      <td>Process modified Windows registry key</td>\n      <td>process</td>\n      <td>modified</td>\n      <td>windows registry key</td>\n      <td>4670</td>\n      <td>Permissions on an object were changed.</td>\n      <td>Windows</td>\n      <td>Object Access</td>\n      <td>Registry</td>\n      <td>Security</td>\n      <td>Microsoft-Windows-Security-Auditing</td>\n    </tr>\n    <tr>\n      <th>3</th>\n      <td>T1553.006</td>\n      <td>True</td>\n      <td>Code Signing Policy Modification</td>\n      <td>[defense-evasion]</td>\n      <td>[Windows, macOS]</td>\n      <td>windows registry</td>\n      <td>windows registry key modification</td>\n      <td>Process modified Windows registry key</td>\n      <td>process</td>\n      <td>modified</td>\n      <td>windows registry key</td>\n      <td>DeviceRegistryEvents</td>\n      <td>DeviceRegistryEvents</td>\n      <td>Windows</td>\n      <td>None</td>\n      <td>NaN</td>\n      <td>None</td>\n      <td>Windows Defender Advanced Threat Protection</td>\n    </tr>\n    <tr>\n      <th>4</th>\n      <td>T1553.006</td>\n      <td>True</td>\n      <td>Code Signing Policy Modification</td>\n      <td>[defense-evasion]</td>\n      <td>[Windows, macOS]</td>\n      <td>windows registry</td>\n      <td>windows registry key modification</td>\n      <td>Process modified Windows registry key value</td>\n      <td>process</td>\n      <td>modified</td>\n      <td>windows registry key value</td>\n      <td>13</td>\n      <td>RegistryEvent (Value Set).</td>\n      <td>Windows</td>\n      <td>RegistryEvent</td>\n      <td>NaN</td>\n      <td>Microsoft-Windows-Sysmon/Operational</td>\n      <td>Microsoft-Windows-Sysmon</td>\n    </tr>\n  </tbody>\n</table>\n</div>"
     },
     "metadata": {},
     "execution_count": 2
    }
   ],
   "source": [
    "yamlUrl = 'https://raw.githubusercontent.com/OTRF/OSSEM-DM/main/use-cases/mitre_attack/techniques_to_events_mapping.yaml'\n",
    "yamlContent = requests.get(yamlUrl)\n",
    "yamlMapping = yaml.safe_load(yamlContent.text)\n",
    "mapping = pd.json_normalize(yamlMapping)\n",
    "mapping.head()"
   ]
  },
  {
   "source": [
    "### Which are the most relevant data sources for Sub-Technqiues within the Enterprise Matrix?"
   ],
   "cell_type": "markdown",
   "metadata": {}
  },
  {
   "cell_type": "code",
   "execution_count": 3,
   "metadata": {},
   "outputs": [
    {
     "output_type": "display_data",
     "data": {
      "application/vnd.plotly.v1+json": {
       "config": {
        "plotlyServerURL": "https://plot.ly"
       },
       "data": [
        {
         "orientation": "v",
         "type": "bar",
         "x": [
          "process",
          "file",
          "command",
          "network traffic",
          "windows registry",
          "module",
          "application log",
          "user account",
          "logon session",
          "service",
          "active directory",
          "script",
          "sensor health",
          "scheduled job",
          "instance"
         ],
         "y": [
          176,
          173,
          155,
          121,
          49,
          35,
          28,
          24,
          22,
          18,
          15,
          10,
          10,
          9,
          7
         ]
        }
       ],
       "layout": {
        "template": {
         "data": {
          "bar": [
           {
            "error_x": {
             "color": "#2a3f5f"
            },
            "error_y": {
             "color": "#2a3f5f"
            },
            "marker": {
             "line": {
              "color": "#E5ECF6",
              "width": 0.5
             }
            },
            "type": "bar"
           }
          ],
          "barpolar": [
           {
            "marker": {
             "line": {
              "color": "#E5ECF6",
              "width": 0.5
             }
            },
            "type": "barpolar"
           }
          ],
          "carpet": [
           {
            "aaxis": {
             "endlinecolor": "#2a3f5f",
             "gridcolor": "white",
             "linecolor": "white",
             "minorgridcolor": "white",
             "startlinecolor": "#2a3f5f"
            },
            "baxis": {
             "endlinecolor": "#2a3f5f",
             "gridcolor": "white",
             "linecolor": "white",
             "minorgridcolor": "white",
             "startlinecolor": "#2a3f5f"
            },
            "type": "carpet"
           }
          ],
          "choropleth": [
           {
            "colorbar": {
             "outlinewidth": 0,
             "ticks": ""
            },
            "type": "choropleth"
           }
          ],
          "contour": [
           {
            "colorbar": {
             "outlinewidth": 0,
             "ticks": ""
            },
            "colorscale": [
             [
              0,
              "#0d0887"
             ],
             [
              0.1111111111111111,
              "#46039f"
             ],
             [
              0.2222222222222222,
              "#7201a8"
             ],
             [
              0.3333333333333333,
              "#9c179e"
             ],
             [
              0.4444444444444444,
              "#bd3786"
             ],
             [
              0.5555555555555556,
              "#d8576b"
             ],
             [
              0.6666666666666666,
              "#ed7953"
             ],
             [
              0.7777777777777778,
              "#fb9f3a"
             ],
             [
              0.8888888888888888,
              "#fdca26"
             ],
             [
              1,
              "#f0f921"
             ]
            ],
            "type": "contour"
           }
          ],
          "contourcarpet": [
           {
            "colorbar": {
             "outlinewidth": 0,
             "ticks": ""
            },
            "type": "contourcarpet"
           }
          ],
          "heatmap": [
           {
            "colorbar": {
             "outlinewidth": 0,
             "ticks": ""
            },
            "colorscale": [
             [
              0,
              "#0d0887"
             ],
             [
              0.1111111111111111,
              "#46039f"
             ],
             [
              0.2222222222222222,
              "#7201a8"
             ],
             [
              0.3333333333333333,
              "#9c179e"
             ],
             [
              0.4444444444444444,
              "#bd3786"
             ],
             [
              0.5555555555555556,
              "#d8576b"
             ],
             [
              0.6666666666666666,
              "#ed7953"
             ],
             [
              0.7777777777777778,
              "#fb9f3a"
             ],
             [
              0.8888888888888888,
              "#fdca26"
             ],
             [
              1,
              "#f0f921"
             ]
            ],
            "type": "heatmap"
           }
          ],
          "heatmapgl": [
           {
            "colorbar": {
             "outlinewidth": 0,
             "ticks": ""
            },
            "colorscale": [
             [
              0,
              "#0d0887"
             ],
             [
              0.1111111111111111,
              "#46039f"
             ],
             [
              0.2222222222222222,
              "#7201a8"
             ],
             [
              0.3333333333333333,
              "#9c179e"
             ],
             [
              0.4444444444444444,
              "#bd3786"
             ],
             [
              0.5555555555555556,
              "#d8576b"
             ],
             [
              0.6666666666666666,
              "#ed7953"
             ],
             [
              0.7777777777777778,
              "#fb9f3a"
             ],
             [
              0.8888888888888888,
              "#fdca26"
             ],
             [
              1,
              "#f0f921"
             ]
            ],
            "type": "heatmapgl"
           }
          ],
          "histogram": [
           {
            "marker": {
             "colorbar": {
              "outlinewidth": 0,
              "ticks": ""
             }
            },
            "type": "histogram"
           }
          ],
          "histogram2d": [
           {
            "colorbar": {
             "outlinewidth": 0,
             "ticks": ""
            },
            "colorscale": [
             [
              0,
              "#0d0887"
             ],
             [
              0.1111111111111111,
              "#46039f"
             ],
             [
              0.2222222222222222,
              "#7201a8"
             ],
             [
              0.3333333333333333,
              "#9c179e"
             ],
             [
              0.4444444444444444,
              "#bd3786"
             ],
             [
              0.5555555555555556,
              "#d8576b"
             ],
             [
              0.6666666666666666,
              "#ed7953"
             ],
             [
              0.7777777777777778,
              "#fb9f3a"
             ],
             [
              0.8888888888888888,
              "#fdca26"
             ],
             [
              1,
              "#f0f921"
             ]
            ],
            "type": "histogram2d"
           }
          ],
          "histogram2dcontour": [
           {
            "colorbar": {
             "outlinewidth": 0,
             "ticks": ""
            },
            "colorscale": [
             [
              0,
              "#0d0887"
             ],
             [
              0.1111111111111111,
              "#46039f"
             ],
             [
              0.2222222222222222,
              "#7201a8"
             ],
             [
              0.3333333333333333,
              "#9c179e"
             ],
             [
              0.4444444444444444,
              "#bd3786"
             ],
             [
              0.5555555555555556,
              "#d8576b"
             ],
             [
              0.6666666666666666,
              "#ed7953"
             ],
             [
              0.7777777777777778,
              "#fb9f3a"
             ],
             [
              0.8888888888888888,
              "#fdca26"
             ],
             [
              1,
              "#f0f921"
             ]
            ],
            "type": "histogram2dcontour"
           }
          ],
          "mesh3d": [
           {
            "colorbar": {
             "outlinewidth": 0,
             "ticks": ""
            },
            "type": "mesh3d"
           }
          ],
          "parcoords": [
           {
            "line": {
             "colorbar": {
              "outlinewidth": 0,
              "ticks": ""
             }
            },
            "type": "parcoords"
           }
          ],
          "pie": [
           {
            "automargin": true,
            "type": "pie"
           }
          ],
          "scatter": [
           {
            "marker": {
             "colorbar": {
              "outlinewidth": 0,
              "ticks": ""
             }
            },
            "type": "scatter"
           }
          ],
          "scatter3d": [
           {
            "line": {
             "colorbar": {
              "outlinewidth": 0,
              "ticks": ""
             }
            },
            "marker": {
             "colorbar": {
              "outlinewidth": 0,
              "ticks": ""
             }
            },
            "type": "scatter3d"
           }
          ],
          "scattercarpet": [
           {
            "marker": {
             "colorbar": {
              "outlinewidth": 0,
              "ticks": ""
             }
            },
            "type": "scattercarpet"
           }
          ],
          "scattergeo": [
           {
            "marker": {
             "colorbar": {
              "outlinewidth": 0,
              "ticks": ""
             }
            },
            "type": "scattergeo"
           }
          ],
          "scattergl": [
           {
            "marker": {
             "colorbar": {
              "outlinewidth": 0,
              "ticks": ""
             }
            },
            "type": "scattergl"
           }
          ],
          "scattermapbox": [
           {
            "marker": {
             "colorbar": {
              "outlinewidth": 0,
              "ticks": ""
             }
            },
            "type": "scattermapbox"
           }
          ],
          "scatterpolar": [
           {
            "marker": {
             "colorbar": {
              "outlinewidth": 0,
              "ticks": ""
             }
            },
            "type": "scatterpolar"
           }
          ],
          "scatterpolargl": [
           {
            "marker": {
             "colorbar": {
              "outlinewidth": 0,
              "ticks": ""
             }
            },
            "type": "scatterpolargl"
           }
          ],
          "scatterternary": [
           {
            "marker": {
             "colorbar": {
              "outlinewidth": 0,
              "ticks": ""
             }
            },
            "type": "scatterternary"
           }
          ],
          "surface": [
           {
            "colorbar": {
             "outlinewidth": 0,
             "ticks": ""
            },
            "colorscale": [
             [
              0,
              "#0d0887"
             ],
             [
              0.1111111111111111,
              "#46039f"
             ],
             [
              0.2222222222222222,
              "#7201a8"
             ],
             [
              0.3333333333333333,
              "#9c179e"
             ],
             [
              0.4444444444444444,
              "#bd3786"
             ],
             [
              0.5555555555555556,
              "#d8576b"
             ],
             [
              0.6666666666666666,
              "#ed7953"
             ],
             [
              0.7777777777777778,
              "#fb9f3a"
             ],
             [
              0.8888888888888888,
              "#fdca26"
             ],
             [
              1,
              "#f0f921"
             ]
            ],
            "type": "surface"
           }
          ],
          "table": [
           {
            "cells": {
             "fill": {
              "color": "#EBF0F8"
             },
             "line": {
              "color": "white"
             }
            },
            "header": {
             "fill": {
              "color": "#C8D4E3"
             },
             "line": {
              "color": "white"
             }
            },
            "type": "table"
           }
          ]
         },
         "layout": {
          "annotationdefaults": {
           "arrowcolor": "#2a3f5f",
           "arrowhead": 0,
           "arrowwidth": 1
          },
          "autotypenumbers": "strict",
          "coloraxis": {
           "colorbar": {
            "outlinewidth": 0,
            "ticks": ""
           }
          },
          "colorscale": {
           "diverging": [
            [
             0,
             "#8e0152"
            ],
            [
             0.1,
             "#c51b7d"
            ],
            [
             0.2,
             "#de77ae"
            ],
            [
             0.3,
             "#f1b6da"
            ],
            [
             0.4,
             "#fde0ef"
            ],
            [
             0.5,
             "#f7f7f7"
            ],
            [
             0.6,
             "#e6f5d0"
            ],
            [
             0.7,
             "#b8e186"
            ],
            [
             0.8,
             "#7fbc41"
            ],
            [
             0.9,
             "#4d9221"
            ],
            [
             1,
             "#276419"
            ]
           ],
           "sequential": [
            [
             0,
             "#0d0887"
            ],
            [
             0.1111111111111111,
             "#46039f"
            ],
            [
             0.2222222222222222,
             "#7201a8"
            ],
            [
             0.3333333333333333,
             "#9c179e"
            ],
            [
             0.4444444444444444,
             "#bd3786"
            ],
            [
             0.5555555555555556,
             "#d8576b"
            ],
            [
             0.6666666666666666,
             "#ed7953"
            ],
            [
             0.7777777777777778,
             "#fb9f3a"
            ],
            [
             0.8888888888888888,
             "#fdca26"
            ],
            [
             1,
             "#f0f921"
            ]
           ],
           "sequentialminus": [
            [
             0,
             "#0d0887"
            ],
            [
             0.1111111111111111,
             "#46039f"
            ],
            [
             0.2222222222222222,
             "#7201a8"
            ],
            [
             0.3333333333333333,
             "#9c179e"
            ],
            [
             0.4444444444444444,
             "#bd3786"
            ],
            [
             0.5555555555555556,
             "#d8576b"
            ],
            [
             0.6666666666666666,
             "#ed7953"
            ],
            [
             0.7777777777777778,
             "#fb9f3a"
            ],
            [
             0.8888888888888888,
             "#fdca26"
            ],
            [
             1,
             "#f0f921"
            ]
           ]
          },
          "colorway": [
           "#636efa",
           "#EF553B",
           "#00cc96",
           "#ab63fa",
           "#FFA15A",
           "#19d3f3",
           "#FF6692",
           "#B6E880",
           "#FF97FF",
           "#FECB52"
          ],
          "font": {
           "color": "#2a3f5f"
          },
          "geo": {
           "bgcolor": "white",
           "lakecolor": "white",
           "landcolor": "#E5ECF6",
           "showlakes": true,
           "showland": true,
           "subunitcolor": "white"
          },
          "hoverlabel": {
           "align": "left"
          },
          "hovermode": "closest",
          "mapbox": {
           "style": "light"
          },
          "paper_bgcolor": "white",
          "plot_bgcolor": "#E5ECF6",
          "polar": {
           "angularaxis": {
            "gridcolor": "white",
            "linecolor": "white",
            "ticks": ""
           },
           "bgcolor": "#E5ECF6",
           "radialaxis": {
            "gridcolor": "white",
            "linecolor": "white",
            "ticks": ""
           }
          },
          "scene": {
           "xaxis": {
            "backgroundcolor": "#E5ECF6",
            "gridcolor": "white",
            "gridwidth": 2,
            "linecolor": "white",
            "showbackground": true,
            "ticks": "",
            "zerolinecolor": "white"
           },
           "yaxis": {
            "backgroundcolor": "#E5ECF6",
            "gridcolor": "white",
            "gridwidth": 2,
            "linecolor": "white",
            "showbackground": true,
            "ticks": "",
            "zerolinecolor": "white"
           },
           "zaxis": {
            "backgroundcolor": "#E5ECF6",
            "gridcolor": "white",
            "gridwidth": 2,
            "linecolor": "white",
            "showbackground": true,
            "ticks": "",
            "zerolinecolor": "white"
           }
          },
          "shapedefaults": {
           "line": {
            "color": "#2a3f5f"
           }
          },
          "ternary": {
           "aaxis": {
            "gridcolor": "white",
            "linecolor": "white",
            "ticks": ""
           },
           "baxis": {
            "gridcolor": "white",
            "linecolor": "white",
            "ticks": ""
           },
           "bgcolor": "#E5ECF6",
           "caxis": {
            "gridcolor": "white",
            "linecolor": "white",
            "ticks": ""
           }
          },
          "title": {
           "x": 0.05
          },
          "xaxis": {
           "automargin": true,
           "gridcolor": "white",
           "linecolor": "white",
           "ticks": "",
           "title": {
            "standoff": 15
           },
           "zerolinecolor": "white",
           "zerolinewidth": 2
          },
          "yaxis": {
           "automargin": true,
           "gridcolor": "white",
           "linecolor": "white",
           "ticks": "",
           "title": {
            "standoff": 15
           },
           "zerolinecolor": "white",
           "zerolinewidth": 2
          }
         }
        },
        "title": {
         "text": "Count of sub-techniques per Data Source (Top 15)",
         "x": 0.5,
         "xanchor": "center",
         "y": 0.85
        }
       }
      }
     },
     "metadata": {}
    }
   ],
   "source": [
    "enterprise_sub = mapping[mapping['x_mitre_is_subtechnique'] == True][['technique_id','data_source','data_component']].drop_duplicates()\n",
    "top15_data_source = enterprise_sub['data_source'].value_counts().nlargest(15)\n",
    "\n",
    "fig = go.Figure()\n",
    "fig.add_trace(go.Bar(y = top15_data_source.values.tolist(), x = top15_data_source.index.tolist(),orientation = 'v'))\n",
    "fig.update_layout(title = {'text':\"Count of sub-techniques per Data Source (Top 15)\",'y': 0.85,'x': 0.5,'xanchor':'center'})\n",
    "fig.show()"
   ]
  },
  {
   "source": [
    "### Which are the most relevant data components for Sub-Technqiues within the Enterprise Matrix?"
   ],
   "cell_type": "markdown",
   "metadata": {}
  },
  {
   "cell_type": "code",
   "execution_count": 4,
   "metadata": {},
   "outputs": [
    {
     "output_type": "display_data",
     "data": {
      "application/vnd.plotly.v1+json": {
       "config": {
        "plotlyServerURL": "https://plot.ly"
       },
       "data": [
        {
         "orientation": "v",
         "type": "bar",
         "x": [
          "command execution",
          "process creation",
          "file modification",
          "file creation",
          "network traffic content",
          "network traffic flow",
          "os api execution",
          "windows registry key modification",
          "module load",
          "application log content",
          "network connection creation",
          "file access",
          "logon session creation",
          "file metadata",
          "user account authentication"
         ],
         "y": [
          155,
          119,
          66,
          54,
          49,
          44,
          38,
          37,
          35,
          28,
          28,
          24,
          20,
          20,
          13
         ]
        }
       ],
       "layout": {
        "template": {
         "data": {
          "bar": [
           {
            "error_x": {
             "color": "#2a3f5f"
            },
            "error_y": {
             "color": "#2a3f5f"
            },
            "marker": {
             "line": {
              "color": "#E5ECF6",
              "width": 0.5
             }
            },
            "type": "bar"
           }
          ],
          "barpolar": [
           {
            "marker": {
             "line": {
              "color": "#E5ECF6",
              "width": 0.5
             }
            },
            "type": "barpolar"
           }
          ],
          "carpet": [
           {
            "aaxis": {
             "endlinecolor": "#2a3f5f",
             "gridcolor": "white",
             "linecolor": "white",
             "minorgridcolor": "white",
             "startlinecolor": "#2a3f5f"
            },
            "baxis": {
             "endlinecolor": "#2a3f5f",
             "gridcolor": "white",
             "linecolor": "white",
             "minorgridcolor": "white",
             "startlinecolor": "#2a3f5f"
            },
            "type": "carpet"
           }
          ],
          "choropleth": [
           {
            "colorbar": {
             "outlinewidth": 0,
             "ticks": ""
            },
            "type": "choropleth"
           }
          ],
          "contour": [
           {
            "colorbar": {
             "outlinewidth": 0,
             "ticks": ""
            },
            "colorscale": [
             [
              0,
              "#0d0887"
             ],
             [
              0.1111111111111111,
              "#46039f"
             ],
             [
              0.2222222222222222,
              "#7201a8"
             ],
             [
              0.3333333333333333,
              "#9c179e"
             ],
             [
              0.4444444444444444,
              "#bd3786"
             ],
             [
              0.5555555555555556,
              "#d8576b"
             ],
             [
              0.6666666666666666,
              "#ed7953"
             ],
             [
              0.7777777777777778,
              "#fb9f3a"
             ],
             [
              0.8888888888888888,
              "#fdca26"
             ],
             [
              1,
              "#f0f921"
             ]
            ],
            "type": "contour"
           }
          ],
          "contourcarpet": [
           {
            "colorbar": {
             "outlinewidth": 0,
             "ticks": ""
            },
            "type": "contourcarpet"
           }
          ],
          "heatmap": [
           {
            "colorbar": {
             "outlinewidth": 0,
             "ticks": ""
            },
            "colorscale": [
             [
              0,
              "#0d0887"
             ],
             [
              0.1111111111111111,
              "#46039f"
             ],
             [
              0.2222222222222222,
              "#7201a8"
             ],
             [
              0.3333333333333333,
              "#9c179e"
             ],
             [
              0.4444444444444444,
              "#bd3786"
             ],
             [
              0.5555555555555556,
              "#d8576b"
             ],
             [
              0.6666666666666666,
              "#ed7953"
             ],
             [
              0.7777777777777778,
              "#fb9f3a"
             ],
             [
              0.8888888888888888,
              "#fdca26"
             ],
             [
              1,
              "#f0f921"
             ]
            ],
            "type": "heatmap"
           }
          ],
          "heatmapgl": [
           {
            "colorbar": {
             "outlinewidth": 0,
             "ticks": ""
            },
            "colorscale": [
             [
              0,
              "#0d0887"
             ],
             [
              0.1111111111111111,
              "#46039f"
             ],
             [
              0.2222222222222222,
              "#7201a8"
             ],
             [
              0.3333333333333333,
              "#9c179e"
             ],
             [
              0.4444444444444444,
              "#bd3786"
             ],
             [
              0.5555555555555556,
              "#d8576b"
             ],
             [
              0.6666666666666666,
              "#ed7953"
             ],
             [
              0.7777777777777778,
              "#fb9f3a"
             ],
             [
              0.8888888888888888,
              "#fdca26"
             ],
             [
              1,
              "#f0f921"
             ]
            ],
            "type": "heatmapgl"
           }
          ],
          "histogram": [
           {
            "marker": {
             "colorbar": {
              "outlinewidth": 0,
              "ticks": ""
             }
            },
            "type": "histogram"
           }
          ],
          "histogram2d": [
           {
            "colorbar": {
             "outlinewidth": 0,
             "ticks": ""
            },
            "colorscale": [
             [
              0,
              "#0d0887"
             ],
             [
              0.1111111111111111,
              "#46039f"
             ],
             [
              0.2222222222222222,
              "#7201a8"
             ],
             [
              0.3333333333333333,
              "#9c179e"
             ],
             [
              0.4444444444444444,
              "#bd3786"
             ],
             [
              0.5555555555555556,
              "#d8576b"
             ],
             [
              0.6666666666666666,
              "#ed7953"
             ],
             [
              0.7777777777777778,
              "#fb9f3a"
             ],
             [
              0.8888888888888888,
              "#fdca26"
             ],
             [
              1,
              "#f0f921"
             ]
            ],
            "type": "histogram2d"
           }
          ],
          "histogram2dcontour": [
           {
            "colorbar": {
             "outlinewidth": 0,
             "ticks": ""
            },
            "colorscale": [
             [
              0,
              "#0d0887"
             ],
             [
              0.1111111111111111,
              "#46039f"
             ],
             [
              0.2222222222222222,
              "#7201a8"
             ],
             [
              0.3333333333333333,
              "#9c179e"
             ],
             [
              0.4444444444444444,
              "#bd3786"
             ],
             [
              0.5555555555555556,
              "#d8576b"
             ],
             [
              0.6666666666666666,
              "#ed7953"
             ],
             [
              0.7777777777777778,
              "#fb9f3a"
             ],
             [
              0.8888888888888888,
              "#fdca26"
             ],
             [
              1,
              "#f0f921"
             ]
            ],
            "type": "histogram2dcontour"
           }
          ],
          "mesh3d": [
           {
            "colorbar": {
             "outlinewidth": 0,
             "ticks": ""
            },
            "type": "mesh3d"
           }
          ],
          "parcoords": [
           {
            "line": {
             "colorbar": {
              "outlinewidth": 0,
              "ticks": ""
             }
            },
            "type": "parcoords"
           }
          ],
          "pie": [
           {
            "automargin": true,
            "type": "pie"
           }
          ],
          "scatter": [
           {
            "marker": {
             "colorbar": {
              "outlinewidth": 0,
              "ticks": ""
             }
            },
            "type": "scatter"
           }
          ],
          "scatter3d": [
           {
            "line": {
             "colorbar": {
              "outlinewidth": 0,
              "ticks": ""
             }
            },
            "marker": {
             "colorbar": {
              "outlinewidth": 0,
              "ticks": ""
             }
            },
            "type": "scatter3d"
           }
          ],
          "scattercarpet": [
           {
            "marker": {
             "colorbar": {
              "outlinewidth": 0,
              "ticks": ""
             }
            },
            "type": "scattercarpet"
           }
          ],
          "scattergeo": [
           {
            "marker": {
             "colorbar": {
              "outlinewidth": 0,
              "ticks": ""
             }
            },
            "type": "scattergeo"
           }
          ],
          "scattergl": [
           {
            "marker": {
             "colorbar": {
              "outlinewidth": 0,
              "ticks": ""
             }
            },
            "type": "scattergl"
           }
          ],
          "scattermapbox": [
           {
            "marker": {
             "colorbar": {
              "outlinewidth": 0,
              "ticks": ""
             }
            },
            "type": "scattermapbox"
           }
          ],
          "scatterpolar": [
           {
            "marker": {
             "colorbar": {
              "outlinewidth": 0,
              "ticks": ""
             }
            },
            "type": "scatterpolar"
           }
          ],
          "scatterpolargl": [
           {
            "marker": {
             "colorbar": {
              "outlinewidth": 0,
              "ticks": ""
             }
            },
            "type": "scatterpolargl"
           }
          ],
          "scatterternary": [
           {
            "marker": {
             "colorbar": {
              "outlinewidth": 0,
              "ticks": ""
             }
            },
            "type": "scatterternary"
           }
          ],
          "surface": [
           {
            "colorbar": {
             "outlinewidth": 0,
             "ticks": ""
            },
            "colorscale": [
             [
              0,
              "#0d0887"
             ],
             [
              0.1111111111111111,
              "#46039f"
             ],
             [
              0.2222222222222222,
              "#7201a8"
             ],
             [
              0.3333333333333333,
              "#9c179e"
             ],
             [
              0.4444444444444444,
              "#bd3786"
             ],
             [
              0.5555555555555556,
              "#d8576b"
             ],
             [
              0.6666666666666666,
              "#ed7953"
             ],
             [
              0.7777777777777778,
              "#fb9f3a"
             ],
             [
              0.8888888888888888,
              "#fdca26"
             ],
             [
              1,
              "#f0f921"
             ]
            ],
            "type": "surface"
           }
          ],
          "table": [
           {
            "cells": {
             "fill": {
              "color": "#EBF0F8"
             },
             "line": {
              "color": "white"
             }
            },
            "header": {
             "fill": {
              "color": "#C8D4E3"
             },
             "line": {
              "color": "white"
             }
            },
            "type": "table"
           }
          ]
         },
         "layout": {
          "annotationdefaults": {
           "arrowcolor": "#2a3f5f",
           "arrowhead": 0,
           "arrowwidth": 1
          },
          "autotypenumbers": "strict",
          "coloraxis": {
           "colorbar": {
            "outlinewidth": 0,
            "ticks": ""
           }
          },
          "colorscale": {
           "diverging": [
            [
             0,
             "#8e0152"
            ],
            [
             0.1,
             "#c51b7d"
            ],
            [
             0.2,
             "#de77ae"
            ],
            [
             0.3,
             "#f1b6da"
            ],
            [
             0.4,
             "#fde0ef"
            ],
            [
             0.5,
             "#f7f7f7"
            ],
            [
             0.6,
             "#e6f5d0"
            ],
            [
             0.7,
             "#b8e186"
            ],
            [
             0.8,
             "#7fbc41"
            ],
            [
             0.9,
             "#4d9221"
            ],
            [
             1,
             "#276419"
            ]
           ],
           "sequential": [
            [
             0,
             "#0d0887"
            ],
            [
             0.1111111111111111,
             "#46039f"
            ],
            [
             0.2222222222222222,
             "#7201a8"
            ],
            [
             0.3333333333333333,
             "#9c179e"
            ],
            [
             0.4444444444444444,
             "#bd3786"
            ],
            [
             0.5555555555555556,
             "#d8576b"
            ],
            [
             0.6666666666666666,
             "#ed7953"
            ],
            [
             0.7777777777777778,
             "#fb9f3a"
            ],
            [
             0.8888888888888888,
             "#fdca26"
            ],
            [
             1,
             "#f0f921"
            ]
           ],
           "sequentialminus": [
            [
             0,
             "#0d0887"
            ],
            [
             0.1111111111111111,
             "#46039f"
            ],
            [
             0.2222222222222222,
             "#7201a8"
            ],
            [
             0.3333333333333333,
             "#9c179e"
            ],
            [
             0.4444444444444444,
             "#bd3786"
            ],
            [
             0.5555555555555556,
             "#d8576b"
            ],
            [
             0.6666666666666666,
             "#ed7953"
            ],
            [
             0.7777777777777778,
             "#fb9f3a"
            ],
            [
             0.8888888888888888,
             "#fdca26"
            ],
            [
             1,
             "#f0f921"
            ]
           ]
          },
          "colorway": [
           "#636efa",
           "#EF553B",
           "#00cc96",
           "#ab63fa",
           "#FFA15A",
           "#19d3f3",
           "#FF6692",
           "#B6E880",
           "#FF97FF",
           "#FECB52"
          ],
          "font": {
           "color": "#2a3f5f"
          },
          "geo": {
           "bgcolor": "white",
           "lakecolor": "white",
           "landcolor": "#E5ECF6",
           "showlakes": true,
           "showland": true,
           "subunitcolor": "white"
          },
          "hoverlabel": {
           "align": "left"
          },
          "hovermode": "closest",
          "mapbox": {
           "style": "light"
          },
          "paper_bgcolor": "white",
          "plot_bgcolor": "#E5ECF6",
          "polar": {
           "angularaxis": {
            "gridcolor": "white",
            "linecolor": "white",
            "ticks": ""
           },
           "bgcolor": "#E5ECF6",
           "radialaxis": {
            "gridcolor": "white",
            "linecolor": "white",
            "ticks": ""
           }
          },
          "scene": {
           "xaxis": {
            "backgroundcolor": "#E5ECF6",
            "gridcolor": "white",
            "gridwidth": 2,
            "linecolor": "white",
            "showbackground": true,
            "ticks": "",
            "zerolinecolor": "white"
           },
           "yaxis": {
            "backgroundcolor": "#E5ECF6",
            "gridcolor": "white",
            "gridwidth": 2,
            "linecolor": "white",
            "showbackground": true,
            "ticks": "",
            "zerolinecolor": "white"
           },
           "zaxis": {
            "backgroundcolor": "#E5ECF6",
            "gridcolor": "white",
            "gridwidth": 2,
            "linecolor": "white",
            "showbackground": true,
            "ticks": "",
            "zerolinecolor": "white"
           }
          },
          "shapedefaults": {
           "line": {
            "color": "#2a3f5f"
           }
          },
          "ternary": {
           "aaxis": {
            "gridcolor": "white",
            "linecolor": "white",
            "ticks": ""
           },
           "baxis": {
            "gridcolor": "white",
            "linecolor": "white",
            "ticks": ""
           },
           "bgcolor": "#E5ECF6",
           "caxis": {
            "gridcolor": "white",
            "linecolor": "white",
            "ticks": ""
           }
          },
          "title": {
           "x": 0.05
          },
          "xaxis": {
           "automargin": true,
           "gridcolor": "white",
           "linecolor": "white",
           "ticks": "",
           "title": {
            "standoff": 15
           },
           "zerolinecolor": "white",
           "zerolinewidth": 2
          },
          "yaxis": {
           "automargin": true,
           "gridcolor": "white",
           "linecolor": "white",
           "ticks": "",
           "title": {
            "standoff": 15
           },
           "zerolinecolor": "white",
           "zerolinewidth": 2
          }
         }
        },
        "title": {
         "text": "Count of sub-techniques per Data Component (Top 15)",
         "x": 0.5,
         "xanchor": "center",
         "y": 0.85
        }
       }
      }
     },
     "metadata": {}
    }
   ],
   "source": [
    "top15_data_component = enterprise_sub['data_component'].value_counts().nlargest(15)\n",
    "\n",
    "fig = go.Figure()\n",
    "fig.add_trace(go.Bar(y = top15_data_component.values.tolist(), x = top15_data_component.index.tolist(),orientation = 'v'))\n",
    "fig.update_layout(title = {'text':\"Count of sub-techniques per Data Component (Top 15)\",'y': 0.85,'x': 0.5,'xanchor':'center'})\n",
    "fig.show()"
   ]
  },
  {
   "cell_type": "markdown",
   "metadata": {},
   "source": [
    "## Use Case: OS Credential Dumping: LSASS Memory (T1003.001)"
   ]
  },
  {
   "cell_type": "markdown",
   "metadata": {},
   "source": [
    "### What are the recommended data sources?"
   ]
  },
  {
   "cell_type": "code",
   "execution_count": 5,
   "metadata": {},
   "outputs": [
    {
     "output_type": "execute_result",
     "data": {
      "text/plain": [
       "     data_source     data_component\n",
       "3383     process   process creation\n",
       "3389     process     process access\n",
       "3391     command  command execution\n",
       "3399     process   os api execution"
      ],
      "text/html": "<div>\n<style scoped>\n    .dataframe tbody tr th:only-of-type {\n        vertical-align: middle;\n    }\n\n    .dataframe tbody tr th {\n        vertical-align: top;\n    }\n\n    .dataframe thead th {\n        text-align: right;\n    }\n</style>\n<table border=\"1\" class=\"dataframe\">\n  <thead>\n    <tr style=\"text-align: right;\">\n      <th></th>\n      <th>data_source</th>\n      <th>data_component</th>\n    </tr>\n  </thead>\n  <tbody>\n    <tr>\n      <th>3383</th>\n      <td>process</td>\n      <td>process creation</td>\n    </tr>\n    <tr>\n      <th>3389</th>\n      <td>process</td>\n      <td>process access</td>\n    </tr>\n    <tr>\n      <th>3391</th>\n      <td>command</td>\n      <td>command execution</td>\n    </tr>\n    <tr>\n      <th>3399</th>\n      <td>process</td>\n      <td>os api execution</td>\n    </tr>\n  </tbody>\n</table>\n</div>"
     },
     "metadata": {},
     "execution_count": 5
    }
   ],
   "source": [
    "mapping[mapping['technique_id']=='T1003.001'][['data_source', 'data_component']].drop_duplicates()"
   ]
  },
  {
   "source": [
    "### What security events can we use to get more context about this technique?"
   ],
   "cell_type": "markdown",
   "metadata": {}
  },
  {
   "source": [
    "* Network Graph"
   ],
   "cell_type": "markdown",
   "metadata": {}
  },
  {
   "cell_type": "code",
   "execution_count": 41,
   "metadata": {},
   "outputs": [
    {
     "output_type": "display_data",
     "data": {
      "text/plain": "<Figure size 1080x720 with 1 Axes>",
      "image/svg+xml": "<?xml version=\"1.0\" encoding=\"utf-8\" standalone=\"no\"?>\r\n<!DOCTYPE svg PUBLIC \"-//W3C//DTD SVG 1.1//EN\"\r\n  \"http://www.w3.org/Graphics/SVG/1.1/DTD/svg11.dtd\">\r\n<!-- Created with matplotlib (https://matplotlib.org/) -->\r\n<svg height=\"558pt\" version=\"1.1\" viewBox=\"0 0 851.4 558\" width=\"851.4pt\" xmlns=\"http://www.w3.org/2000/svg\" xmlns:xlink=\"http://www.w3.org/1999/xlink\">\r\n <metadata>\r\n  <rdf:RDF xmlns:cc=\"http://creativecommons.org/ns#\" xmlns:dc=\"http://purl.org/dc/elements/1.1/\" xmlns:rdf=\"http://www.w3.org/1999/02/22-rdf-syntax-ns#\">\r\n   <cc:Work>\r\n    <dc:type rdf:resource=\"http://purl.org/dc/dcmitype/StillImage\"/>\r\n    <dc:date>2021-05-04T00:59:43.989613</dc:date>\r\n    <dc:format>image/svg+xml</dc:format>\r\n    <dc:creator>\r\n     <cc:Agent>\r\n      <dc:title>Matplotlib v3.3.4, https://matplotlib.org/</dc:title>\r\n     </cc:Agent>\r\n    </dc:creator>\r\n   </cc:Work>\r\n  </rdf:RDF>\r\n </metadata>\r\n <defs>\r\n  <style type=\"text/css\">*{stroke-linecap:butt;stroke-linejoin:round;}</style>\r\n </defs>\r\n <g id=\"figure_1\">\r\n  <g id=\"patch_1\">\r\n   <path d=\"M 0 558 \r\nL 851.4 558 \r\nL 851.4 0 \r\nL 0 0 \r\nz\r\n\" style=\"fill:#ffffff;\"/>\r\n  </g>\r\n  <g id=\"axes_1\">\r\n   <g id=\"LineCollection_1\">\r\n    <path clip-path=\"url(#pb4a5b8fc55)\" d=\"M 382.209665 237.021179 \r\nL 526.363265 301.224277 \r\n\" style=\"fill:none;stroke:#000000;\"/>\r\n    <path clip-path=\"url(#pb4a5b8fc55)\" d=\"M 382.209665 237.021179 \r\nL 232.200921 273.844361 \r\n\" style=\"fill:none;stroke:#000000;\"/>\r\n    <path clip-path=\"url(#pb4a5b8fc55)\" d=\"M 526.363265 301.224277 \r\nL 356.473978 410.450167 \r\n\" style=\"fill:none;stroke:#000000;\"/>\r\n    <path clip-path=\"url(#pb4a5b8fc55)\" d=\"M 526.363265 301.224277 \r\nL 675.298011 164.142371 \r\n\" style=\"fill:none;stroke:#000000;\"/>\r\n    <path clip-path=\"url(#pb4a5b8fc55)\" d=\"M 526.363265 301.224277 \r\nL 657.706357 409.623779 \r\n\" style=\"fill:none;stroke:#000000;\"/>\r\n    <path clip-path=\"url(#pb4a5b8fc55)\" d=\"M 232.200921 273.844361 \r\nL 160.4384 432.011357 \r\n\" style=\"fill:none;stroke:#000000;\"/>\r\n    <path clip-path=\"url(#pb4a5b8fc55)\" d=\"M 356.473978 410.450167 \r\nL 256.255948 526.090909 \r\n\" style=\"fill:none;stroke:#000000;\"/>\r\n    <path clip-path=\"url(#pb4a5b8fc55)\" d=\"M 356.473978 410.450167 \r\nL 253.681903 460.709731 \r\n\" style=\"fill:none;stroke:#000000;\"/>\r\n    <path clip-path=\"url(#pb4a5b8fc55)\" d=\"M 356.473978 410.450167 \r\nL 231.494513 375.0906 \r\n\" style=\"fill:none;stroke:#000000;\"/>\r\n    <path clip-path=\"url(#pb4a5b8fc55)\" d=\"M 675.298011 164.142371 \r\nL 728.559366 31.909091 \r\n\" style=\"fill:none;stroke:#000000;\"/>\r\n    <path clip-path=\"url(#pb4a5b8fc55)\" d=\"M 675.298011 164.142371 \r\nL 806.154545 138.51488 \r\n\" style=\"fill:none;stroke:#000000;\"/>\r\n    <path clip-path=\"url(#pb4a5b8fc55)\" d=\"M 160.4384 432.011357 \r\nL 256.255948 526.090909 \r\n\" style=\"fill:none;stroke:#000000;\"/>\r\n    <path clip-path=\"url(#pb4a5b8fc55)\" d=\"M 160.4384 432.011357 \r\nL 253.681903 460.709731 \r\n\" style=\"fill:none;stroke:#000000;\"/>\r\n    <path clip-path=\"url(#pb4a5b8fc55)\" d=\"M 160.4384 432.011357 \r\nL 45.245455 521.194191 \r\n\" style=\"fill:none;stroke:#000000;\"/>\r\n    <path clip-path=\"url(#pb4a5b8fc55)\" d=\"M 160.4384 432.011357 \r\nL 231.494513 375.0906 \r\n\" style=\"fill:none;stroke:#000000;\"/>\r\n    <path clip-path=\"url(#pb4a5b8fc55)\" d=\"M 657.706357 409.623779 \r\nL 759.94938 497.601044 \r\n\" style=\"fill:none;stroke:#000000;\"/>\r\n   </g>\r\n   <g id=\"PathCollection_1\">\r\n    <path clip-path=\"url(#pb4a5b8fc55)\" d=\"M 382.209665 287.021179 \r\nC 395.46982 287.021179 408.188658 281.752863 417.565004 272.376518 \r\nC 426.94135 263.000172 432.209665 250.281334 432.209665 237.021179 \r\nC 432.209665 223.761024 426.94135 211.042185 417.565004 201.66584 \r\nC 408.188658 192.289494 395.46982 187.021179 382.209665 187.021179 \r\nC 368.94951 187.021179 356.230671 192.289494 346.854326 201.66584 \r\nC 337.47798 211.042185 332.209665 223.761024 332.209665 237.021179 \r\nC 332.209665 250.281334 337.47798 263.000172 346.854326 272.376518 \r\nC 356.230671 281.752863 368.94951 287.021179 382.209665 287.021179 \r\nz\r\n\" style=\"fill:#d3d3d3;stroke:#d3d3d3;\"/>\r\n    <path clip-path=\"url(#pb4a5b8fc55)\" d=\"M 526.363265 345.945637 \r\nC 538.223509 345.945637 549.599584 341.233512 557.986042 332.847054 \r\nC 566.3725 324.460595 571.084625 313.08452 571.084625 301.224277 \r\nC 571.084625 289.364034 566.3725 277.987959 557.986042 269.6015 \r\nC 549.599584 261.215042 538.223509 256.502917 526.363265 256.502917 \r\nC 514.503022 256.502917 503.126947 261.215042 494.740489 269.6015 \r\nC 486.35403 277.987959 481.641906 289.364034 481.641906 301.224277 \r\nC 481.641906 313.08452 486.35403 324.460595 494.740489 332.847054 \r\nC 503.126947 341.233512 514.503022 345.945637 526.363265 345.945637 \r\nz\r\n\" style=\"fill:#00ffff;stroke:#00ffff;\"/>\r\n    <path clip-path=\"url(#pb4a5b8fc55)\" d=\"M 232.200921 318.565721 \r\nC 244.061164 318.565721 255.437239 313.853596 263.823697 305.467138 \r\nC 272.210156 297.08068 276.92228 285.704605 276.92228 273.844361 \r\nC 276.92228 261.984118 272.210156 250.608043 263.823697 242.221585 \r\nC 255.437239 233.835126 244.061164 229.123002 232.200921 229.123002 \r\nC 220.340678 229.123002 208.964603 233.835126 200.578144 242.221585 \r\nC 192.191686 250.608043 187.479561 261.984118 187.479561 273.844361 \r\nC 187.479561 285.704605 192.191686 297.08068 200.578144 305.467138 \r\nC 208.964603 313.853596 220.340678 318.565721 232.200921 318.565721 \r\nz\r\n\" style=\"fill:#00ffff;stroke:#00ffff;\"/>\r\n    <path clip-path=\"url(#pb4a5b8fc55)\" d=\"M 356.473978 445.805506 \r\nC 365.850324 445.805506 374.843901 442.080244 381.473978 435.450167 \r\nC 388.104056 428.820089 391.829317 419.826512 391.829317 410.450167 \r\nC 391.829317 401.073821 388.104056 392.080244 381.473978 385.450167 \r\nC 374.843901 378.820089 365.850324 375.094828 356.473978 375.094828 \r\nC 347.097632 375.094828 338.104056 378.820089 331.473978 385.450167 \r\nC 324.843901 392.080244 321.118639 401.073821 321.118639 410.450167 \r\nC 321.118639 419.826512 324.843901 428.820089 331.473978 435.450167 \r\nC 338.104056 442.080244 347.097632 445.805506 356.473978 445.805506 \r\nz\r\n\" style=\"fill:#00ff00;stroke:#00ff00;\"/>\r\n    <path clip-path=\"url(#pb4a5b8fc55)\" d=\"M 675.298011 199.49771 \r\nC 684.674356 199.49771 693.667933 195.772448 700.298011 189.142371 \r\nC 706.928088 182.512293 710.65335 173.518716 710.65335 164.142371 \r\nC 710.65335 154.766025 706.928088 145.772448 700.298011 139.142371 \r\nC 693.667933 132.512293 684.674356 128.787031 675.298011 128.787031 \r\nC 665.921665 128.787031 656.928088 132.512293 650.298011 139.142371 \r\nC 643.667933 145.772448 639.942672 154.766025 639.942672 164.142371 \r\nC 639.942672 173.518716 643.667933 182.512293 650.298011 189.142371 \r\nC 656.928088 195.772448 665.921665 199.49771 675.298011 199.49771 \r\nz\r\n\" style=\"fill:#00ff00;stroke:#00ff00;\"/>\r\n    <path clip-path=\"url(#pb4a5b8fc55)\" d=\"M 160.4384 467.366696 \r\nC 169.814745 467.366696 178.808322 463.641434 185.4384 457.011357 \r\nC 192.068477 450.381279 195.793739 441.387702 195.793739 432.011357 \r\nC 195.793739 422.635011 192.068477 413.641434 185.4384 407.011357 \r\nC 178.808322 400.381279 169.814745 396.656018 160.4384 396.656018 \r\nC 151.062054 396.656018 142.068477 400.381279 135.4384 407.011357 \r\nC 128.808322 413.641434 125.08306 422.635011 125.08306 432.011357 \r\nC 125.08306 441.387702 128.808322 450.381279 135.4384 457.011357 \r\nC 142.068477 463.641434 151.062054 467.366696 160.4384 467.366696 \r\nz\r\n\" style=\"fill:#00ff00;stroke:#00ff00;\"/>\r\n    <path clip-path=\"url(#pb4a5b8fc55)\" d=\"M 657.706357 444.979118 \r\nC 667.082703 444.979118 676.07628 441.253856 682.706357 434.623779 \r\nC 689.336435 427.993701 693.061696 419.000124 693.061696 409.623779 \r\nC 693.061696 400.247433 689.336435 391.253856 682.706357 384.623779 \r\nC 676.07628 377.993701 667.082703 374.26844 657.706357 374.26844 \r\nC 648.330012 374.26844 639.336435 377.993701 632.706357 384.623779 \r\nC 626.07628 391.253856 622.351018 400.247433 622.351018 409.623779 \r\nC 622.351018 419.000124 626.07628 427.993701 632.706357 434.623779 \r\nC 639.336435 441.253856 648.330012 444.979118 657.706357 444.979118 \r\nz\r\n\" style=\"fill:#00ff00;stroke:#00ff00;\"/>\r\n    <path clip-path=\"url(#pb4a5b8fc55)\" d=\"M 256.255948 548.451589 \r\nC 262.18607 548.451589 267.874107 546.095527 272.067337 541.902297 \r\nC 276.260566 537.709068 278.616628 532.021031 278.616628 526.090909 \r\nC 278.616628 520.160787 276.260566 514.47275 272.067337 510.279521 \r\nC 267.874107 506.086292 262.18607 503.730229 256.255948 503.730229 \r\nC 250.325827 503.730229 244.637789 506.086292 240.44456 510.279521 \r\nC 236.251331 514.47275 233.895269 520.160787 233.895269 526.090909 \r\nC 233.895269 532.021031 236.251331 537.709068 240.44456 541.902297 \r\nC 244.637789 546.095527 250.325827 548.451589 256.255948 548.451589 \r\nz\r\n\" style=\"fill:#ffd700;stroke:#ffd700;\"/>\r\n    <path clip-path=\"url(#pb4a5b8fc55)\" d=\"M 253.681903 483.070411 \r\nC 259.612025 483.070411 265.300062 480.714348 269.493291 476.521119 \r\nC 273.68652 472.32789 276.042583 466.639852 276.042583 460.709731 \r\nC 276.042583 454.779609 273.68652 449.091572 269.493291 444.898343 \r\nC 265.300062 440.705113 259.612025 438.349051 253.681903 438.349051 \r\nC 247.751781 438.349051 242.063744 440.705113 237.870515 444.898343 \r\nC 233.677285 449.091572 231.321223 454.779609 231.321223 460.709731 \r\nC 231.321223 466.639852 233.677285 472.32789 237.870515 476.521119 \r\nC 242.063744 480.714348 247.751781 483.070411 253.681903 483.070411 \r\nz\r\n\" style=\"fill:#ffd700;stroke:#ffd700;\"/>\r\n    <path clip-path=\"url(#pb4a5b8fc55)\" d=\"M 231.494513 397.45128 \r\nC 237.424635 397.45128 243.112672 395.095218 247.305902 390.901989 \r\nC 251.499131 386.708759 253.855193 381.020722 253.855193 375.0906 \r\nC 253.855193 369.160479 251.499131 363.472441 247.305902 359.279212 \r\nC 243.112672 355.085983 237.424635 352.72992 231.494513 352.72992 \r\nC 225.564392 352.72992 219.876354 355.085983 215.683125 359.279212 \r\nC 211.489896 363.472441 209.133834 369.160479 209.133834 375.0906 \r\nC 209.133834 381.020722 211.489896 386.708759 215.683125 390.901989 \r\nC 219.876354 395.095218 225.564392 397.45128 231.494513 397.45128 \r\nz\r\n\" style=\"fill:#ffd700;stroke:#ffd700;\"/>\r\n    <path clip-path=\"url(#pb4a5b8fc55)\" d=\"M 728.559366 54.269771 \r\nC 734.489487 54.269771 740.177525 51.913708 744.370754 47.720479 \r\nC 748.563983 43.52725 750.920046 37.839213 750.920046 31.909091 \r\nC 750.920046 25.978969 748.563983 20.290932 744.370754 16.097703 \r\nC 740.177525 11.904473 734.489487 9.548411 728.559366 9.548411 \r\nC 722.629244 9.548411 716.941207 11.904473 712.747977 16.097703 \r\nC 708.554748 20.290932 706.198686 25.978969 706.198686 31.909091 \r\nC 706.198686 37.839213 708.554748 43.52725 712.747977 47.720479 \r\nC 716.941207 51.913708 722.629244 54.269771 728.559366 54.269771 \r\nz\r\n\" style=\"fill:#ffd700;stroke:#ffd700;\"/>\r\n    <path clip-path=\"url(#pb4a5b8fc55)\" d=\"M 806.154545 160.87556 \r\nC 812.084667 160.87556 817.772705 158.519498 821.965934 154.326269 \r\nC 826.159163 150.133039 828.515225 144.445002 828.515225 138.51488 \r\nC 828.515225 132.584759 826.159163 126.896721 821.965934 122.703492 \r\nC 817.772705 118.510263 812.084667 116.1542 806.154545 116.1542 \r\nC 800.224424 116.1542 794.536386 118.510263 790.343157 122.703492 \r\nC 786.149928 126.896721 783.793866 132.584759 783.793866 138.51488 \r\nC 783.793866 144.445002 786.149928 150.133039 790.343157 154.326269 \r\nC 794.536386 158.519498 800.224424 160.87556 806.154545 160.87556 \r\nz\r\n\" style=\"fill:#ffd700;stroke:#ffd700;\"/>\r\n    <path clip-path=\"url(#pb4a5b8fc55)\" d=\"M 45.245455 543.554871 \r\nC 51.175576 543.554871 56.863614 541.198809 61.056843 537.005579 \r\nC 65.250072 532.81235 67.606134 527.124313 67.606134 521.194191 \r\nC 67.606134 515.26407 65.250072 509.576032 61.056843 505.382803 \r\nC 56.863614 501.189574 51.175576 498.833511 45.245455 498.833511 \r\nC 39.315333 498.833511 33.627295 501.189574 29.434066 505.382803 \r\nC 25.240837 509.576032 22.884775 515.26407 22.884775 521.194191 \r\nC 22.884775 527.124313 25.240837 532.81235 29.434066 537.005579 \r\nC 33.627295 541.198809 39.315333 543.554871 45.245455 543.554871 \r\nz\r\n\" style=\"fill:#ffd700;stroke:#ffd700;\"/>\r\n    <path clip-path=\"url(#pb4a5b8fc55)\" d=\"M 759.94938 519.961723 \r\nC 765.879501 519.961723 771.567539 517.605661 775.760768 513.412432 \r\nC 779.953997 509.219203 782.31006 503.531165 782.31006 497.601044 \r\nC 782.31006 491.670922 779.953997 485.982885 775.760768 481.789655 \r\nC 771.567539 477.596426 765.879501 475.240364 759.94938 475.240364 \r\nC 754.019258 475.240364 748.331221 477.596426 744.137991 481.789655 \r\nC 739.944762 485.982885 737.5887 491.670922 737.5887 497.601044 \r\nC 737.5887 503.531165 739.944762 509.219203 744.137991 513.412432 \r\nC 748.331221 517.605661 754.019258 519.961723 759.94938 519.961723 \r\nz\r\n\" style=\"fill:#ffd700;stroke:#ffd700;\"/>\r\n   </g>\r\n   <g id=\"text_1\">\r\n    <g clip-path=\"url(#pb4a5b8fc55)\">\r\n     <!-- LSASS Memory -->\r\n     <g transform=\"translate(325.589352 241.160241)scale(0.15 -0.15)\">\r\n      <defs>\r\n       <path d=\"M 9.8125 72.90625 \r\nL 19.671875 72.90625 \r\nL 19.671875 8.296875 \r\nL 55.171875 8.296875 \r\nL 55.171875 0 \r\nL 9.8125 0 \r\nz\r\n\" id=\"DejaVuSans-76\"/>\r\n       <path d=\"M 53.515625 70.515625 \r\nL 53.515625 60.890625 \r\nQ 47.90625 63.578125 42.921875 64.890625 \r\nQ 37.9375 66.21875 33.296875 66.21875 \r\nQ 25.25 66.21875 20.875 63.09375 \r\nQ 16.5 59.96875 16.5 54.203125 \r\nQ 16.5 49.359375 19.40625 46.890625 \r\nQ 22.3125 44.4375 30.421875 42.921875 \r\nL 36.375 41.703125 \r\nQ 47.40625 39.59375 52.65625 34.296875 \r\nQ 57.90625 29 57.90625 20.125 \r\nQ 57.90625 9.515625 50.796875 4.046875 \r\nQ 43.703125 -1.421875 29.984375 -1.421875 \r\nQ 24.8125 -1.421875 18.96875 -0.25 \r\nQ 13.140625 0.921875 6.890625 3.21875 \r\nL 6.890625 13.375 \r\nQ 12.890625 10.015625 18.65625 8.296875 \r\nQ 24.421875 6.59375 29.984375 6.59375 \r\nQ 38.421875 6.59375 43.015625 9.90625 \r\nQ 47.609375 13.234375 47.609375 19.390625 \r\nQ 47.609375 24.75 44.3125 27.78125 \r\nQ 41.015625 30.8125 33.5 32.328125 \r\nL 27.484375 33.5 \r\nQ 16.453125 35.6875 11.515625 40.375 \r\nQ 6.59375 45.0625 6.59375 53.421875 \r\nQ 6.59375 63.09375 13.40625 68.65625 \r\nQ 20.21875 74.21875 32.171875 74.21875 \r\nQ 37.3125 74.21875 42.625 73.28125 \r\nQ 47.953125 72.359375 53.515625 70.515625 \r\nz\r\n\" id=\"DejaVuSans-83\"/>\r\n       <path d=\"M 34.1875 63.1875 \r\nL 20.796875 26.90625 \r\nL 47.609375 26.90625 \r\nz\r\nM 28.609375 72.90625 \r\nL 39.796875 72.90625 \r\nL 67.578125 0 \r\nL 57.328125 0 \r\nL 50.6875 18.703125 \r\nL 17.828125 18.703125 \r\nL 11.1875 0 \r\nL 0.78125 0 \r\nz\r\n\" id=\"DejaVuSans-65\"/>\r\n       <path id=\"DejaVuSans-32\"/>\r\n       <path d=\"M 9.8125 72.90625 \r\nL 24.515625 72.90625 \r\nL 43.109375 23.296875 \r\nL 61.8125 72.90625 \r\nL 76.515625 72.90625 \r\nL 76.515625 0 \r\nL 66.890625 0 \r\nL 66.890625 64.015625 \r\nL 48.09375 14.015625 \r\nL 38.1875 14.015625 \r\nL 19.390625 64.015625 \r\nL 19.390625 0 \r\nL 9.8125 0 \r\nz\r\n\" id=\"DejaVuSans-77\"/>\r\n       <path d=\"M 56.203125 29.59375 \r\nL 56.203125 25.203125 \r\nL 14.890625 25.203125 \r\nQ 15.484375 15.921875 20.484375 11.0625 \r\nQ 25.484375 6.203125 34.421875 6.203125 \r\nQ 39.59375 6.203125 44.453125 7.46875 \r\nQ 49.3125 8.734375 54.109375 11.28125 \r\nL 54.109375 2.78125 \r\nQ 49.265625 0.734375 44.1875 -0.34375 \r\nQ 39.109375 -1.421875 33.890625 -1.421875 \r\nQ 20.796875 -1.421875 13.15625 6.1875 \r\nQ 5.515625 13.8125 5.515625 26.8125 \r\nQ 5.515625 40.234375 12.765625 48.109375 \r\nQ 20.015625 56 32.328125 56 \r\nQ 43.359375 56 49.78125 48.890625 \r\nQ 56.203125 41.796875 56.203125 29.59375 \r\nz\r\nM 47.21875 32.234375 \r\nQ 47.125 39.59375 43.09375 43.984375 \r\nQ 39.0625 48.390625 32.421875 48.390625 \r\nQ 24.90625 48.390625 20.390625 44.140625 \r\nQ 15.875 39.890625 15.1875 32.171875 \r\nz\r\n\" id=\"DejaVuSans-101\"/>\r\n       <path d=\"M 52 44.1875 \r\nQ 55.375 50.25 60.0625 53.125 \r\nQ 64.75 56 71.09375 56 \r\nQ 79.640625 56 84.28125 50.015625 \r\nQ 88.921875 44.046875 88.921875 33.015625 \r\nL 88.921875 0 \r\nL 79.890625 0 \r\nL 79.890625 32.71875 \r\nQ 79.890625 40.578125 77.09375 44.375 \r\nQ 74.3125 48.1875 68.609375 48.1875 \r\nQ 61.625 48.1875 57.5625 43.546875 \r\nQ 53.515625 38.921875 53.515625 30.90625 \r\nL 53.515625 0 \r\nL 44.484375 0 \r\nL 44.484375 32.71875 \r\nQ 44.484375 40.625 41.703125 44.40625 \r\nQ 38.921875 48.1875 33.109375 48.1875 \r\nQ 26.21875 48.1875 22.15625 43.53125 \r\nQ 18.109375 38.875 18.109375 30.90625 \r\nL 18.109375 0 \r\nL 9.078125 0 \r\nL 9.078125 54.6875 \r\nL 18.109375 54.6875 \r\nL 18.109375 46.1875 \r\nQ 21.1875 51.21875 25.484375 53.609375 \r\nQ 29.78125 56 35.6875 56 \r\nQ 41.65625 56 45.828125 52.96875 \r\nQ 50 49.953125 52 44.1875 \r\nz\r\n\" id=\"DejaVuSans-109\"/>\r\n       <path d=\"M 30.609375 48.390625 \r\nQ 23.390625 48.390625 19.1875 42.75 \r\nQ 14.984375 37.109375 14.984375 27.296875 \r\nQ 14.984375 17.484375 19.15625 11.84375 \r\nQ 23.34375 6.203125 30.609375 6.203125 \r\nQ 37.796875 6.203125 41.984375 11.859375 \r\nQ 46.1875 17.53125 46.1875 27.296875 \r\nQ 46.1875 37.015625 41.984375 42.703125 \r\nQ 37.796875 48.390625 30.609375 48.390625 \r\nz\r\nM 30.609375 56 \r\nQ 42.328125 56 49.015625 48.375 \r\nQ 55.71875 40.765625 55.71875 27.296875 \r\nQ 55.71875 13.875 49.015625 6.21875 \r\nQ 42.328125 -1.421875 30.609375 -1.421875 \r\nQ 18.84375 -1.421875 12.171875 6.21875 \r\nQ 5.515625 13.875 5.515625 27.296875 \r\nQ 5.515625 40.765625 12.171875 48.375 \r\nQ 18.84375 56 30.609375 56 \r\nz\r\n\" id=\"DejaVuSans-111\"/>\r\n       <path d=\"M 41.109375 46.296875 \r\nQ 39.59375 47.171875 37.8125 47.578125 \r\nQ 36.03125 48 33.890625 48 \r\nQ 26.265625 48 22.1875 43.046875 \r\nQ 18.109375 38.09375 18.109375 28.8125 \r\nL 18.109375 0 \r\nL 9.078125 0 \r\nL 9.078125 54.6875 \r\nL 18.109375 54.6875 \r\nL 18.109375 46.1875 \r\nQ 20.953125 51.171875 25.484375 53.578125 \r\nQ 30.03125 56 36.53125 56 \r\nQ 37.453125 56 38.578125 55.875 \r\nQ 39.703125 55.765625 41.0625 55.515625 \r\nz\r\n\" id=\"DejaVuSans-114\"/>\r\n       <path d=\"M 32.171875 -5.078125 \r\nQ 28.375 -14.84375 24.75 -17.8125 \r\nQ 21.140625 -20.796875 15.09375 -20.796875 \r\nL 7.90625 -20.796875 \r\nL 7.90625 -13.28125 \r\nL 13.1875 -13.28125 \r\nQ 16.890625 -13.28125 18.9375 -11.515625 \r\nQ 21 -9.765625 23.484375 -3.21875 \r\nL 25.09375 0.875 \r\nL 2.984375 54.6875 \r\nL 12.5 54.6875 \r\nL 29.59375 11.921875 \r\nL 46.6875 54.6875 \r\nL 56.203125 54.6875 \r\nz\r\n\" id=\"DejaVuSans-121\"/>\r\n      </defs>\r\n      <use xlink:href=\"#DejaVuSans-76\"/>\r\n      <use x=\"55.712891\" xlink:href=\"#DejaVuSans-83\"/>\r\n      <use x=\"121.064453\" xlink:href=\"#DejaVuSans-65\"/>\r\n      <use x=\"189.472656\" xlink:href=\"#DejaVuSans-83\"/>\r\n      <use x=\"252.949219\" xlink:href=\"#DejaVuSans-83\"/>\r\n      <use x=\"316.425781\" xlink:href=\"#DejaVuSans-32\"/>\r\n      <use x=\"348.212891\" xlink:href=\"#DejaVuSans-77\"/>\r\n      <use x=\"434.492188\" xlink:href=\"#DejaVuSans-101\"/>\r\n      <use x=\"496.015625\" xlink:href=\"#DejaVuSans-109\"/>\r\n      <use x=\"593.427734\" xlink:href=\"#DejaVuSans-111\"/>\r\n      <use x=\"654.609375\" xlink:href=\"#DejaVuSans-114\"/>\r\n      <use x=\"695.722656\" xlink:href=\"#DejaVuSans-121\"/>\r\n     </g>\r\n    </g>\r\n   </g>\r\n   <g id=\"text_2\">\r\n    <g clip-path=\"url(#pb4a5b8fc55)\">\r\n     <!-- process -->\r\n     <g transform=\"translate(497.545687 305.363339)scale(0.15 -0.15)\">\r\n      <defs>\r\n       <path d=\"M 18.109375 8.203125 \r\nL 18.109375 -20.796875 \r\nL 9.078125 -20.796875 \r\nL 9.078125 54.6875 \r\nL 18.109375 54.6875 \r\nL 18.109375 46.390625 \r\nQ 20.953125 51.265625 25.265625 53.625 \r\nQ 29.59375 56 35.59375 56 \r\nQ 45.5625 56 51.78125 48.09375 \r\nQ 58.015625 40.1875 58.015625 27.296875 \r\nQ 58.015625 14.40625 51.78125 6.484375 \r\nQ 45.5625 -1.421875 35.59375 -1.421875 \r\nQ 29.59375 -1.421875 25.265625 0.953125 \r\nQ 20.953125 3.328125 18.109375 8.203125 \r\nz\r\nM 48.6875 27.296875 \r\nQ 48.6875 37.203125 44.609375 42.84375 \r\nQ 40.53125 48.484375 33.40625 48.484375 \r\nQ 26.265625 48.484375 22.1875 42.84375 \r\nQ 18.109375 37.203125 18.109375 27.296875 \r\nQ 18.109375 17.390625 22.1875 11.75 \r\nQ 26.265625 6.109375 33.40625 6.109375 \r\nQ 40.53125 6.109375 44.609375 11.75 \r\nQ 48.6875 17.390625 48.6875 27.296875 \r\nz\r\n\" id=\"DejaVuSans-112\"/>\r\n       <path d=\"M 48.78125 52.59375 \r\nL 48.78125 44.1875 \r\nQ 44.96875 46.296875 41.140625 47.34375 \r\nQ 37.3125 48.390625 33.40625 48.390625 \r\nQ 24.65625 48.390625 19.8125 42.84375 \r\nQ 14.984375 37.3125 14.984375 27.296875 \r\nQ 14.984375 17.28125 19.8125 11.734375 \r\nQ 24.65625 6.203125 33.40625 6.203125 \r\nQ 37.3125 6.203125 41.140625 7.25 \r\nQ 44.96875 8.296875 48.78125 10.40625 \r\nL 48.78125 2.09375 \r\nQ 45.015625 0.34375 40.984375 -0.53125 \r\nQ 36.96875 -1.421875 32.421875 -1.421875 \r\nQ 20.0625 -1.421875 12.78125 6.34375 \r\nQ 5.515625 14.109375 5.515625 27.296875 \r\nQ 5.515625 40.671875 12.859375 48.328125 \r\nQ 20.21875 56 33.015625 56 \r\nQ 37.15625 56 41.109375 55.140625 \r\nQ 45.0625 54.296875 48.78125 52.59375 \r\nz\r\n\" id=\"DejaVuSans-99\"/>\r\n       <path d=\"M 44.28125 53.078125 \r\nL 44.28125 44.578125 \r\nQ 40.484375 46.53125 36.375 47.5 \r\nQ 32.28125 48.484375 27.875 48.484375 \r\nQ 21.1875 48.484375 17.84375 46.4375 \r\nQ 14.5 44.390625 14.5 40.28125 \r\nQ 14.5 37.15625 16.890625 35.375 \r\nQ 19.28125 33.59375 26.515625 31.984375 \r\nL 29.59375 31.296875 \r\nQ 39.15625 29.25 43.1875 25.515625 \r\nQ 47.21875 21.78125 47.21875 15.09375 \r\nQ 47.21875 7.46875 41.1875 3.015625 \r\nQ 35.15625 -1.421875 24.609375 -1.421875 \r\nQ 20.21875 -1.421875 15.453125 -0.5625 \r\nQ 10.6875 0.296875 5.421875 2 \r\nL 5.421875 11.28125 \r\nQ 10.40625 8.6875 15.234375 7.390625 \r\nQ 20.0625 6.109375 24.8125 6.109375 \r\nQ 31.15625 6.109375 34.5625 8.28125 \r\nQ 37.984375 10.453125 37.984375 14.40625 \r\nQ 37.984375 18.0625 35.515625 20.015625 \r\nQ 33.0625 21.96875 24.703125 23.78125 \r\nL 21.578125 24.515625 \r\nQ 13.234375 26.265625 9.515625 29.90625 \r\nQ 5.8125 33.546875 5.8125 39.890625 \r\nQ 5.8125 47.609375 11.28125 51.796875 \r\nQ 16.75 56 26.8125 56 \r\nQ 31.78125 56 36.171875 55.265625 \r\nQ 40.578125 54.546875 44.28125 53.078125 \r\nz\r\n\" id=\"DejaVuSans-115\"/>\r\n      </defs>\r\n      <use xlink:href=\"#DejaVuSans-112\"/>\r\n      <use x=\"63.476562\" xlink:href=\"#DejaVuSans-114\"/>\r\n      <use x=\"102.339844\" xlink:href=\"#DejaVuSans-111\"/>\r\n      <use x=\"163.521484\" xlink:href=\"#DejaVuSans-99\"/>\r\n      <use x=\"218.501953\" xlink:href=\"#DejaVuSans-101\"/>\r\n      <use x=\"280.025391\" xlink:href=\"#DejaVuSans-115\"/>\r\n      <use x=\"332.125\" xlink:href=\"#DejaVuSans-115\"/>\r\n     </g>\r\n    </g>\r\n   </g>\r\n   <g id=\"text_3\">\r\n    <g clip-path=\"url(#pb4a5b8fc55)\">\r\n     <!-- command -->\r\n     <g transform=\"translate(194.766546 277.983424)scale(0.15 -0.15)\">\r\n      <defs>\r\n       <path d=\"M 34.28125 27.484375 \r\nQ 23.390625 27.484375 19.1875 25 \r\nQ 14.984375 22.515625 14.984375 16.5 \r\nQ 14.984375 11.71875 18.140625 8.90625 \r\nQ 21.296875 6.109375 26.703125 6.109375 \r\nQ 34.1875 6.109375 38.703125 11.40625 \r\nQ 43.21875 16.703125 43.21875 25.484375 \r\nL 43.21875 27.484375 \r\nz\r\nM 52.203125 31.203125 \r\nL 52.203125 0 \r\nL 43.21875 0 \r\nL 43.21875 8.296875 \r\nQ 40.140625 3.328125 35.546875 0.953125 \r\nQ 30.953125 -1.421875 24.3125 -1.421875 \r\nQ 15.921875 -1.421875 10.953125 3.296875 \r\nQ 6 8.015625 6 15.921875 \r\nQ 6 25.140625 12.171875 29.828125 \r\nQ 18.359375 34.515625 30.609375 34.515625 \r\nL 43.21875 34.515625 \r\nL 43.21875 35.40625 \r\nQ 43.21875 41.609375 39.140625 45 \r\nQ 35.0625 48.390625 27.6875 48.390625 \r\nQ 23 48.390625 18.546875 47.265625 \r\nQ 14.109375 46.140625 10.015625 43.890625 \r\nL 10.015625 52.203125 \r\nQ 14.9375 54.109375 19.578125 55.046875 \r\nQ 24.21875 56 28.609375 56 \r\nQ 40.484375 56 46.34375 49.84375 \r\nQ 52.203125 43.703125 52.203125 31.203125 \r\nz\r\n\" id=\"DejaVuSans-97\"/>\r\n       <path d=\"M 54.890625 33.015625 \r\nL 54.890625 0 \r\nL 45.90625 0 \r\nL 45.90625 32.71875 \r\nQ 45.90625 40.484375 42.875 44.328125 \r\nQ 39.84375 48.1875 33.796875 48.1875 \r\nQ 26.515625 48.1875 22.3125 43.546875 \r\nQ 18.109375 38.921875 18.109375 30.90625 \r\nL 18.109375 0 \r\nL 9.078125 0 \r\nL 9.078125 54.6875 \r\nL 18.109375 54.6875 \r\nL 18.109375 46.1875 \r\nQ 21.34375 51.125 25.703125 53.5625 \r\nQ 30.078125 56 35.796875 56 \r\nQ 45.21875 56 50.046875 50.171875 \r\nQ 54.890625 44.34375 54.890625 33.015625 \r\nz\r\n\" id=\"DejaVuSans-110\"/>\r\n       <path d=\"M 45.40625 46.390625 \r\nL 45.40625 75.984375 \r\nL 54.390625 75.984375 \r\nL 54.390625 0 \r\nL 45.40625 0 \r\nL 45.40625 8.203125 \r\nQ 42.578125 3.328125 38.25 0.953125 \r\nQ 33.9375 -1.421875 27.875 -1.421875 \r\nQ 17.96875 -1.421875 11.734375 6.484375 \r\nQ 5.515625 14.40625 5.515625 27.296875 \r\nQ 5.515625 40.1875 11.734375 48.09375 \r\nQ 17.96875 56 27.875 56 \r\nQ 33.9375 56 38.25 53.625 \r\nQ 42.578125 51.265625 45.40625 46.390625 \r\nz\r\nM 14.796875 27.296875 \r\nQ 14.796875 17.390625 18.875 11.75 \r\nQ 22.953125 6.109375 30.078125 6.109375 \r\nQ 37.203125 6.109375 41.296875 11.75 \r\nQ 45.40625 17.390625 45.40625 27.296875 \r\nQ 45.40625 37.203125 41.296875 42.84375 \r\nQ 37.203125 48.484375 30.078125 48.484375 \r\nQ 22.953125 48.484375 18.875 42.84375 \r\nQ 14.796875 37.203125 14.796875 27.296875 \r\nz\r\n\" id=\"DejaVuSans-100\"/>\r\n      </defs>\r\n      <use xlink:href=\"#DejaVuSans-99\"/>\r\n      <use x=\"54.980469\" xlink:href=\"#DejaVuSans-111\"/>\r\n      <use x=\"116.162109\" xlink:href=\"#DejaVuSans-109\"/>\r\n      <use x=\"213.574219\" xlink:href=\"#DejaVuSans-109\"/>\r\n      <use x=\"310.986328\" xlink:href=\"#DejaVuSans-97\"/>\r\n      <use x=\"372.265625\" xlink:href=\"#DejaVuSans-110\"/>\r\n      <use x=\"435.644531\" xlink:href=\"#DejaVuSans-100\"/>\r\n     </g>\r\n    </g>\r\n   </g>\r\n   <g id=\"text_4\">\r\n    <g clip-path=\"url(#pb4a5b8fc55)\">\r\n     <!-- process creation -->\r\n     <g transform=\"translate(294.657572 414.589229)scale(0.15 -0.15)\">\r\n      <defs>\r\n       <path d=\"M 18.3125 70.21875 \r\nL 18.3125 54.6875 \r\nL 36.8125 54.6875 \r\nL 36.8125 47.703125 \r\nL 18.3125 47.703125 \r\nL 18.3125 18.015625 \r\nQ 18.3125 11.328125 20.140625 9.421875 \r\nQ 21.96875 7.515625 27.59375 7.515625 \r\nL 36.8125 7.515625 \r\nL 36.8125 0 \r\nL 27.59375 0 \r\nQ 17.1875 0 13.234375 3.875 \r\nQ 9.28125 7.765625 9.28125 18.015625 \r\nL 9.28125 47.703125 \r\nL 2.6875 47.703125 \r\nL 2.6875 54.6875 \r\nL 9.28125 54.6875 \r\nL 9.28125 70.21875 \r\nz\r\n\" id=\"DejaVuSans-116\"/>\r\n       <path d=\"M 9.421875 54.6875 \r\nL 18.40625 54.6875 \r\nL 18.40625 0 \r\nL 9.421875 0 \r\nz\r\nM 9.421875 75.984375 \r\nL 18.40625 75.984375 \r\nL 18.40625 64.59375 \r\nL 9.421875 64.59375 \r\nz\r\n\" id=\"DejaVuSans-105\"/>\r\n      </defs>\r\n      <use xlink:href=\"#DejaVuSans-112\"/>\r\n      <use x=\"63.476562\" xlink:href=\"#DejaVuSans-114\"/>\r\n      <use x=\"102.339844\" xlink:href=\"#DejaVuSans-111\"/>\r\n      <use x=\"163.521484\" xlink:href=\"#DejaVuSans-99\"/>\r\n      <use x=\"218.501953\" xlink:href=\"#DejaVuSans-101\"/>\r\n      <use x=\"280.025391\" xlink:href=\"#DejaVuSans-115\"/>\r\n      <use x=\"332.125\" xlink:href=\"#DejaVuSans-115\"/>\r\n      <use x=\"384.224609\" xlink:href=\"#DejaVuSans-32\"/>\r\n      <use x=\"416.011719\" xlink:href=\"#DejaVuSans-99\"/>\r\n      <use x=\"470.992188\" xlink:href=\"#DejaVuSans-114\"/>\r\n      <use x=\"509.855469\" xlink:href=\"#DejaVuSans-101\"/>\r\n      <use x=\"571.378906\" xlink:href=\"#DejaVuSans-97\"/>\r\n      <use x=\"632.658203\" xlink:href=\"#DejaVuSans-116\"/>\r\n      <use x=\"671.867188\" xlink:href=\"#DejaVuSans-105\"/>\r\n      <use x=\"699.650391\" xlink:href=\"#DejaVuSans-111\"/>\r\n      <use x=\"760.832031\" xlink:href=\"#DejaVuSans-110\"/>\r\n     </g>\r\n    </g>\r\n   </g>\r\n   <g id=\"text_5\">\r\n    <g clip-path=\"url(#pb4a5b8fc55)\">\r\n     <!-- process access -->\r\n     <g transform=\"translate(618.824182 168.281433)scale(0.15 -0.15)\">\r\n      <use xlink:href=\"#DejaVuSans-112\"/>\r\n      <use x=\"63.476562\" xlink:href=\"#DejaVuSans-114\"/>\r\n      <use x=\"102.339844\" xlink:href=\"#DejaVuSans-111\"/>\r\n      <use x=\"163.521484\" xlink:href=\"#DejaVuSans-99\"/>\r\n      <use x=\"218.501953\" xlink:href=\"#DejaVuSans-101\"/>\r\n      <use x=\"280.025391\" xlink:href=\"#DejaVuSans-115\"/>\r\n      <use x=\"332.125\" xlink:href=\"#DejaVuSans-115\"/>\r\n      <use x=\"384.224609\" xlink:href=\"#DejaVuSans-32\"/>\r\n      <use x=\"416.011719\" xlink:href=\"#DejaVuSans-97\"/>\r\n      <use x=\"477.291016\" xlink:href=\"#DejaVuSans-99\"/>\r\n      <use x=\"532.271484\" xlink:href=\"#DejaVuSans-99\"/>\r\n      <use x=\"587.251953\" xlink:href=\"#DejaVuSans-101\"/>\r\n      <use x=\"648.775391\" xlink:href=\"#DejaVuSans-115\"/>\r\n      <use x=\"700.875\" xlink:href=\"#DejaVuSans-115\"/>\r\n     </g>\r\n    </g>\r\n   </g>\r\n   <g id=\"text_6\">\r\n    <g clip-path=\"url(#pb4a5b8fc55)\">\r\n     <!-- command execution -->\r\n     <g transform=\"translate(84.074337 436.150419)scale(0.15 -0.15)\">\r\n      <defs>\r\n       <path d=\"M 54.890625 54.6875 \r\nL 35.109375 28.078125 \r\nL 55.90625 0 \r\nL 45.3125 0 \r\nL 29.390625 21.484375 \r\nL 13.484375 0 \r\nL 2.875 0 \r\nL 24.125 28.609375 \r\nL 4.6875 54.6875 \r\nL 15.28125 54.6875 \r\nL 29.78125 35.203125 \r\nL 44.28125 54.6875 \r\nz\r\n\" id=\"DejaVuSans-120\"/>\r\n       <path d=\"M 8.5 21.578125 \r\nL 8.5 54.6875 \r\nL 17.484375 54.6875 \r\nL 17.484375 21.921875 \r\nQ 17.484375 14.15625 20.5 10.265625 \r\nQ 23.53125 6.390625 29.59375 6.390625 \r\nQ 36.859375 6.390625 41.078125 11.03125 \r\nQ 45.3125 15.671875 45.3125 23.6875 \r\nL 45.3125 54.6875 \r\nL 54.296875 54.6875 \r\nL 54.296875 0 \r\nL 45.3125 0 \r\nL 45.3125 8.40625 \r\nQ 42.046875 3.421875 37.71875 1 \r\nQ 33.40625 -1.421875 27.6875 -1.421875 \r\nQ 18.265625 -1.421875 13.375 4.4375 \r\nQ 8.5 10.296875 8.5 21.578125 \r\nz\r\nM 31.109375 56 \r\nz\r\n\" id=\"DejaVuSans-117\"/>\r\n      </defs>\r\n      <use xlink:href=\"#DejaVuSans-99\"/>\r\n      <use x=\"54.980469\" xlink:href=\"#DejaVuSans-111\"/>\r\n      <use x=\"116.162109\" xlink:href=\"#DejaVuSans-109\"/>\r\n      <use x=\"213.574219\" xlink:href=\"#DejaVuSans-109\"/>\r\n      <use x=\"310.986328\" xlink:href=\"#DejaVuSans-97\"/>\r\n      <use x=\"372.265625\" xlink:href=\"#DejaVuSans-110\"/>\r\n      <use x=\"435.644531\" xlink:href=\"#DejaVuSans-100\"/>\r\n      <use x=\"499.121094\" xlink:href=\"#DejaVuSans-32\"/>\r\n      <use x=\"530.908203\" xlink:href=\"#DejaVuSans-101\"/>\r\n      <use x=\"590.681641\" xlink:href=\"#DejaVuSans-120\"/>\r\n      <use x=\"646.736328\" xlink:href=\"#DejaVuSans-101\"/>\r\n      <use x=\"708.259766\" xlink:href=\"#DejaVuSans-99\"/>\r\n      <use x=\"763.240234\" xlink:href=\"#DejaVuSans-117\"/>\r\n      <use x=\"826.619141\" xlink:href=\"#DejaVuSans-116\"/>\r\n      <use x=\"865.828125\" xlink:href=\"#DejaVuSans-105\"/>\r\n      <use x=\"893.611328\" xlink:href=\"#DejaVuSans-111\"/>\r\n      <use x=\"954.792969\" xlink:href=\"#DejaVuSans-110\"/>\r\n     </g>\r\n    </g>\r\n   </g>\r\n   <g id=\"text_7\">\r\n    <g clip-path=\"url(#pb4a5b8fc55)\">\r\n     <!-- os api execution -->\r\n     <g transform=\"translate(596.455966 413.762841)scale(0.15 -0.15)\">\r\n      <use xlink:href=\"#DejaVuSans-111\"/>\r\n      <use x=\"61.181641\" xlink:href=\"#DejaVuSans-115\"/>\r\n      <use x=\"113.28125\" xlink:href=\"#DejaVuSans-32\"/>\r\n      <use x=\"145.068359\" xlink:href=\"#DejaVuSans-97\"/>\r\n      <use x=\"206.347656\" xlink:href=\"#DejaVuSans-112\"/>\r\n      <use x=\"269.824219\" xlink:href=\"#DejaVuSans-105\"/>\r\n      <use x=\"297.607422\" xlink:href=\"#DejaVuSans-32\"/>\r\n      <use x=\"329.394531\" xlink:href=\"#DejaVuSans-101\"/>\r\n      <use x=\"389.167969\" xlink:href=\"#DejaVuSans-120\"/>\r\n      <use x=\"445.222656\" xlink:href=\"#DejaVuSans-101\"/>\r\n      <use x=\"506.746094\" xlink:href=\"#DejaVuSans-99\"/>\r\n      <use x=\"561.726562\" xlink:href=\"#DejaVuSans-117\"/>\r\n      <use x=\"625.105469\" xlink:href=\"#DejaVuSans-116\"/>\r\n      <use x=\"664.314453\" xlink:href=\"#DejaVuSans-105\"/>\r\n      <use x=\"692.097656\" xlink:href=\"#DejaVuSans-111\"/>\r\n      <use x=\"753.279297\" xlink:href=\"#DejaVuSans-110\"/>\r\n     </g>\r\n    </g>\r\n   </g>\r\n   <g id=\"text_8\">\r\n    <g clip-path=\"url(#pb4a5b8fc55)\">\r\n     <!-- 4688 -->\r\n     <g transform=\"translate(237.168448 530.229972)scale(0.15 -0.15)\">\r\n      <defs>\r\n       <path d=\"M 37.796875 64.3125 \r\nL 12.890625 25.390625 \r\nL 37.796875 25.390625 \r\nz\r\nM 35.203125 72.90625 \r\nL 47.609375 72.90625 \r\nL 47.609375 25.390625 \r\nL 58.015625 25.390625 \r\nL 58.015625 17.1875 \r\nL 47.609375 17.1875 \r\nL 47.609375 0 \r\nL 37.796875 0 \r\nL 37.796875 17.1875 \r\nL 4.890625 17.1875 \r\nL 4.890625 26.703125 \r\nz\r\n\" id=\"DejaVuSans-52\"/>\r\n       <path d=\"M 33.015625 40.375 \r\nQ 26.375 40.375 22.484375 35.828125 \r\nQ 18.609375 31.296875 18.609375 23.390625 \r\nQ 18.609375 15.53125 22.484375 10.953125 \r\nQ 26.375 6.390625 33.015625 6.390625 \r\nQ 39.65625 6.390625 43.53125 10.953125 \r\nQ 47.40625 15.53125 47.40625 23.390625 \r\nQ 47.40625 31.296875 43.53125 35.828125 \r\nQ 39.65625 40.375 33.015625 40.375 \r\nz\r\nM 52.59375 71.296875 \r\nL 52.59375 62.3125 \r\nQ 48.875 64.0625 45.09375 64.984375 \r\nQ 41.3125 65.921875 37.59375 65.921875 \r\nQ 27.828125 65.921875 22.671875 59.328125 \r\nQ 17.53125 52.734375 16.796875 39.40625 \r\nQ 19.671875 43.65625 24.015625 45.921875 \r\nQ 28.375 48.1875 33.59375 48.1875 \r\nQ 44.578125 48.1875 50.953125 41.515625 \r\nQ 57.328125 34.859375 57.328125 23.390625 \r\nQ 57.328125 12.15625 50.6875 5.359375 \r\nQ 44.046875 -1.421875 33.015625 -1.421875 \r\nQ 20.359375 -1.421875 13.671875 8.265625 \r\nQ 6.984375 17.96875 6.984375 36.375 \r\nQ 6.984375 53.65625 15.1875 63.9375 \r\nQ 23.390625 74.21875 37.203125 74.21875 \r\nQ 40.921875 74.21875 44.703125 73.484375 \r\nQ 48.484375 72.75 52.59375 71.296875 \r\nz\r\n\" id=\"DejaVuSans-54\"/>\r\n       <path d=\"M 31.78125 34.625 \r\nQ 24.75 34.625 20.71875 30.859375 \r\nQ 16.703125 27.09375 16.703125 20.515625 \r\nQ 16.703125 13.921875 20.71875 10.15625 \r\nQ 24.75 6.390625 31.78125 6.390625 \r\nQ 38.8125 6.390625 42.859375 10.171875 \r\nQ 46.921875 13.96875 46.921875 20.515625 \r\nQ 46.921875 27.09375 42.890625 30.859375 \r\nQ 38.875 34.625 31.78125 34.625 \r\nz\r\nM 21.921875 38.8125 \r\nQ 15.578125 40.375 12.03125 44.71875 \r\nQ 8.5 49.078125 8.5 55.328125 \r\nQ 8.5 64.0625 14.71875 69.140625 \r\nQ 20.953125 74.21875 31.78125 74.21875 \r\nQ 42.671875 74.21875 48.875 69.140625 \r\nQ 55.078125 64.0625 55.078125 55.328125 \r\nQ 55.078125 49.078125 51.53125 44.71875 \r\nQ 48 40.375 41.703125 38.8125 \r\nQ 48.828125 37.15625 52.796875 32.3125 \r\nQ 56.78125 27.484375 56.78125 20.515625 \r\nQ 56.78125 9.90625 50.3125 4.234375 \r\nQ 43.84375 -1.421875 31.78125 -1.421875 \r\nQ 19.734375 -1.421875 13.25 4.234375 \r\nQ 6.78125 9.90625 6.78125 20.515625 \r\nQ 6.78125 27.484375 10.78125 32.3125 \r\nQ 14.796875 37.15625 21.921875 38.8125 \r\nz\r\nM 18.3125 54.390625 \r\nQ 18.3125 48.734375 21.84375 45.5625 \r\nQ 25.390625 42.390625 31.78125 42.390625 \r\nQ 38.140625 42.390625 41.71875 45.5625 \r\nQ 45.3125 48.734375 45.3125 54.390625 \r\nQ 45.3125 60.0625 41.71875 63.234375 \r\nQ 38.140625 66.40625 31.78125 66.40625 \r\nQ 25.390625 66.40625 21.84375 63.234375 \r\nQ 18.3125 60.0625 18.3125 54.390625 \r\nz\r\n\" id=\"DejaVuSans-56\"/>\r\n      </defs>\r\n      <use xlink:href=\"#DejaVuSans-52\"/>\r\n      <use x=\"63.623047\" xlink:href=\"#DejaVuSans-54\"/>\r\n      <use x=\"127.246094\" xlink:href=\"#DejaVuSans-56\"/>\r\n      <use x=\"190.869141\" xlink:href=\"#DejaVuSans-56\"/>\r\n     </g>\r\n    </g>\r\n   </g>\r\n   <g id=\"text_9\">\r\n    <g clip-path=\"url(#pb4a5b8fc55)\">\r\n     <!-- 1 -->\r\n     <g transform=\"translate(248.910028 464.848793)scale(0.15 -0.15)\">\r\n      <defs>\r\n       <path d=\"M 12.40625 8.296875 \r\nL 28.515625 8.296875 \r\nL 28.515625 63.921875 \r\nL 10.984375 60.40625 \r\nL 10.984375 69.390625 \r\nL 28.421875 72.90625 \r\nL 38.28125 72.90625 \r\nL 38.28125 8.296875 \r\nL 54.390625 8.296875 \r\nL 54.390625 0 \r\nL 12.40625 0 \r\nz\r\n\" id=\"DejaVuSans-49\"/>\r\n      </defs>\r\n      <use xlink:href=\"#DejaVuSans-49\"/>\r\n     </g>\r\n    </g>\r\n   </g>\r\n   <g id=\"text_10\">\r\n    <g clip-path=\"url(#pb4a5b8fc55)\">\r\n     <!-- DeviceProcessEvents -->\r\n     <g transform=\"translate(152.002716 379.229663)scale(0.15 -0.15)\">\r\n      <defs>\r\n       <path d=\"M 19.671875 64.796875 \r\nL 19.671875 8.109375 \r\nL 31.59375 8.109375 \r\nQ 46.6875 8.109375 53.6875 14.9375 \r\nQ 60.6875 21.78125 60.6875 36.53125 \r\nQ 60.6875 51.171875 53.6875 57.984375 \r\nQ 46.6875 64.796875 31.59375 64.796875 \r\nz\r\nM 9.8125 72.90625 \r\nL 30.078125 72.90625 \r\nQ 51.265625 72.90625 61.171875 64.09375 \r\nQ 71.09375 55.28125 71.09375 36.53125 \r\nQ 71.09375 17.671875 61.125 8.828125 \r\nQ 51.171875 0 30.078125 0 \r\nL 9.8125 0 \r\nz\r\n\" id=\"DejaVuSans-68\"/>\r\n       <path d=\"M 2.984375 54.6875 \r\nL 12.5 54.6875 \r\nL 29.59375 8.796875 \r\nL 46.6875 54.6875 \r\nL 56.203125 54.6875 \r\nL 35.6875 0 \r\nL 23.484375 0 \r\nz\r\n\" id=\"DejaVuSans-118\"/>\r\n       <path d=\"M 19.671875 64.796875 \r\nL 19.671875 37.40625 \r\nL 32.078125 37.40625 \r\nQ 38.96875 37.40625 42.71875 40.96875 \r\nQ 46.484375 44.53125 46.484375 51.125 \r\nQ 46.484375 57.671875 42.71875 61.234375 \r\nQ 38.96875 64.796875 32.078125 64.796875 \r\nz\r\nM 9.8125 72.90625 \r\nL 32.078125 72.90625 \r\nQ 44.34375 72.90625 50.609375 67.359375 \r\nQ 56.890625 61.8125 56.890625 51.125 \r\nQ 56.890625 40.328125 50.609375 34.8125 \r\nQ 44.34375 29.296875 32.078125 29.296875 \r\nL 19.671875 29.296875 \r\nL 19.671875 0 \r\nL 9.8125 0 \r\nz\r\n\" id=\"DejaVuSans-80\"/>\r\n       <path d=\"M 9.8125 72.90625 \r\nL 55.90625 72.90625 \r\nL 55.90625 64.59375 \r\nL 19.671875 64.59375 \r\nL 19.671875 43.015625 \r\nL 54.390625 43.015625 \r\nL 54.390625 34.71875 \r\nL 19.671875 34.71875 \r\nL 19.671875 8.296875 \r\nL 56.78125 8.296875 \r\nL 56.78125 0 \r\nL 9.8125 0 \r\nz\r\n\" id=\"DejaVuSans-69\"/>\r\n      </defs>\r\n      <use xlink:href=\"#DejaVuSans-68\"/>\r\n      <use x=\"77.001953\" xlink:href=\"#DejaVuSans-101\"/>\r\n      <use x=\"138.525391\" xlink:href=\"#DejaVuSans-118\"/>\r\n      <use x=\"197.705078\" xlink:href=\"#DejaVuSans-105\"/>\r\n      <use x=\"225.488281\" xlink:href=\"#DejaVuSans-99\"/>\r\n      <use x=\"280.46875\" xlink:href=\"#DejaVuSans-101\"/>\r\n      <use x=\"341.992188\" xlink:href=\"#DejaVuSans-80\"/>\r\n      <use x=\"400.544922\" xlink:href=\"#DejaVuSans-114\"/>\r\n      <use x=\"439.408203\" xlink:href=\"#DejaVuSans-111\"/>\r\n      <use x=\"500.589844\" xlink:href=\"#DejaVuSans-99\"/>\r\n      <use x=\"555.570312\" xlink:href=\"#DejaVuSans-101\"/>\r\n      <use x=\"617.09375\" xlink:href=\"#DejaVuSans-115\"/>\r\n      <use x=\"669.193359\" xlink:href=\"#DejaVuSans-115\"/>\r\n      <use x=\"721.292969\" xlink:href=\"#DejaVuSans-69\"/>\r\n      <use x=\"784.476562\" xlink:href=\"#DejaVuSans-118\"/>\r\n      <use x=\"843.65625\" xlink:href=\"#DejaVuSans-101\"/>\r\n      <use x=\"905.179688\" xlink:href=\"#DejaVuSans-110\"/>\r\n      <use x=\"968.558594\" xlink:href=\"#DejaVuSans-116\"/>\r\n      <use x=\"1007.767578\" xlink:href=\"#DejaVuSans-115\"/>\r\n     </g>\r\n    </g>\r\n   </g>\r\n   <g id=\"text_11\">\r\n    <g clip-path=\"url(#pb4a5b8fc55)\">\r\n     <!-- 10 -->\r\n     <g transform=\"translate(719.015616 36.048153)scale(0.15 -0.15)\">\r\n      <defs>\r\n       <path d=\"M 31.78125 66.40625 \r\nQ 24.171875 66.40625 20.328125 58.90625 \r\nQ 16.5 51.421875 16.5 36.375 \r\nQ 16.5 21.390625 20.328125 13.890625 \r\nQ 24.171875 6.390625 31.78125 6.390625 \r\nQ 39.453125 6.390625 43.28125 13.890625 \r\nQ 47.125 21.390625 47.125 36.375 \r\nQ 47.125 51.421875 43.28125 58.90625 \r\nQ 39.453125 66.40625 31.78125 66.40625 \r\nz\r\nM 31.78125 74.21875 \r\nQ 44.046875 74.21875 50.515625 64.515625 \r\nQ 56.984375 54.828125 56.984375 36.375 \r\nQ 56.984375 17.96875 50.515625 8.265625 \r\nQ 44.046875 -1.421875 31.78125 -1.421875 \r\nQ 19.53125 -1.421875 13.0625 8.265625 \r\nQ 6.59375 17.96875 6.59375 36.375 \r\nQ 6.59375 54.828125 13.0625 64.515625 \r\nQ 19.53125 74.21875 31.78125 74.21875 \r\nz\r\n\" id=\"DejaVuSans-48\"/>\r\n      </defs>\r\n      <use xlink:href=\"#DejaVuSans-49\"/>\r\n      <use x=\"63.623047\" xlink:href=\"#DejaVuSans-48\"/>\r\n     </g>\r\n    </g>\r\n   </g>\r\n   <g id=\"text_12\">\r\n    <g clip-path=\"url(#pb4a5b8fc55)\">\r\n     <!-- 4656 -->\r\n     <g transform=\"translate(787.067045 142.653943)scale(0.15 -0.15)\">\r\n      <defs>\r\n       <path d=\"M 10.796875 72.90625 \r\nL 49.515625 72.90625 \r\nL 49.515625 64.59375 \r\nL 19.828125 64.59375 \r\nL 19.828125 46.734375 \r\nQ 21.96875 47.46875 24.109375 47.828125 \r\nQ 26.265625 48.1875 28.421875 48.1875 \r\nQ 40.625 48.1875 47.75 41.5 \r\nQ 54.890625 34.8125 54.890625 23.390625 \r\nQ 54.890625 11.625 47.5625 5.09375 \r\nQ 40.234375 -1.421875 26.90625 -1.421875 \r\nQ 22.3125 -1.421875 17.546875 -0.640625 \r\nQ 12.796875 0.140625 7.71875 1.703125 \r\nL 7.71875 11.625 \r\nQ 12.109375 9.234375 16.796875 8.0625 \r\nQ 21.484375 6.890625 26.703125 6.890625 \r\nQ 35.15625 6.890625 40.078125 11.328125 \r\nQ 45.015625 15.765625 45.015625 23.390625 \r\nQ 45.015625 31 40.078125 35.4375 \r\nQ 35.15625 39.890625 26.703125 39.890625 \r\nQ 22.75 39.890625 18.8125 39.015625 \r\nQ 14.890625 38.140625 10.796875 36.28125 \r\nz\r\n\" id=\"DejaVuSans-53\"/>\r\n      </defs>\r\n      <use xlink:href=\"#DejaVuSans-52\"/>\r\n      <use x=\"63.623047\" xlink:href=\"#DejaVuSans-54\"/>\r\n      <use x=\"127.246094\" xlink:href=\"#DejaVuSans-53\"/>\r\n      <use x=\"190.869141\" xlink:href=\"#DejaVuSans-54\"/>\r\n     </g>\r\n    </g>\r\n   </g>\r\n   <g id=\"text_13\">\r\n    <g clip-path=\"url(#pb4a5b8fc55)\">\r\n     <!-- 4103 -->\r\n     <g transform=\"translate(26.157955 525.333254)scale(0.15 -0.15)\">\r\n      <defs>\r\n       <path d=\"M 40.578125 39.3125 \r\nQ 47.65625 37.796875 51.625 33 \r\nQ 55.609375 28.21875 55.609375 21.1875 \r\nQ 55.609375 10.40625 48.1875 4.484375 \r\nQ 40.765625 -1.421875 27.09375 -1.421875 \r\nQ 22.515625 -1.421875 17.65625 -0.515625 \r\nQ 12.796875 0.390625 7.625 2.203125 \r\nL 7.625 11.71875 \r\nQ 11.71875 9.328125 16.59375 8.109375 \r\nQ 21.484375 6.890625 26.8125 6.890625 \r\nQ 36.078125 6.890625 40.9375 10.546875 \r\nQ 45.796875 14.203125 45.796875 21.1875 \r\nQ 45.796875 27.640625 41.28125 31.265625 \r\nQ 36.765625 34.90625 28.71875 34.90625 \r\nL 20.21875 34.90625 \r\nL 20.21875 43.015625 \r\nL 29.109375 43.015625 \r\nQ 36.375 43.015625 40.234375 45.921875 \r\nQ 44.09375 48.828125 44.09375 54.296875 \r\nQ 44.09375 59.90625 40.109375 62.90625 \r\nQ 36.140625 65.921875 28.71875 65.921875 \r\nQ 24.65625 65.921875 20.015625 65.03125 \r\nQ 15.375 64.15625 9.8125 62.3125 \r\nL 9.8125 71.09375 \r\nQ 15.4375 72.65625 20.34375 73.4375 \r\nQ 25.25 74.21875 29.59375 74.21875 \r\nQ 40.828125 74.21875 47.359375 69.109375 \r\nQ 53.90625 64.015625 53.90625 55.328125 \r\nQ 53.90625 49.265625 50.4375 45.09375 \r\nQ 46.96875 40.921875 40.578125 39.3125 \r\nz\r\n\" id=\"DejaVuSans-51\"/>\r\n      </defs>\r\n      <use xlink:href=\"#DejaVuSans-52\"/>\r\n      <use x=\"63.623047\" xlink:href=\"#DejaVuSans-49\"/>\r\n      <use x=\"127.246094\" xlink:href=\"#DejaVuSans-48\"/>\r\n      <use x=\"190.869141\" xlink:href=\"#DejaVuSans-51\"/>\r\n     </g>\r\n    </g>\r\n   </g>\r\n   <g id=\"text_14\">\r\n    <g clip-path=\"url(#pb4a5b8fc55)\">\r\n     <!-- 8 -->\r\n     <g transform=\"translate(755.177505 501.740106)scale(0.15 -0.15)\">\r\n      <use xlink:href=\"#DejaVuSans-56\"/>\r\n     </g>\r\n    </g>\r\n   </g>\r\n  </g>\r\n </g>\r\n <defs>\r\n  <clipPath id=\"pb4a5b8fc55\">\r\n   <rect height=\"543.6\" width=\"837\" x=\"7.2\" y=\"7.2\"/>\r\n  </clipPath>\r\n </defs>\r\n</svg>\r\n",
      "image/png": "[encoded data removed]"
     },
     "metadata": {}
    }
   ],
   "source": [
    "vis.attack_network_graph(mapping[(mapping['technique_id']=='T1003.001')])"
   ]
  },
  {
   "source": [
    "* Table"
   ],
   "cell_type": "markdown",
   "metadata": {}
  },
  {
   "cell_type": "code",
   "execution_count": 7,
   "metadata": {},
   "outputs": [
    {
     "output_type": "execute_result",
     "data": {
      "text/plain": [
       "     technique_id  x_mitre_is_subtechnique     technique               tactic  \\\n",
       "3383    T1003.001                     True  LSASS Memory  [credential-access]   \n",
       "3384    T1003.001                     True  LSASS Memory  [credential-access]   \n",
       "3385    T1003.001                     True  LSASS Memory  [credential-access]   \n",
       "3386    T1003.001                     True  LSASS Memory  [credential-access]   \n",
       "3387    T1003.001                     True  LSASS Memory  [credential-access]   \n",
       "3388    T1003.001                     True  LSASS Memory  [credential-access]   \n",
       "3389    T1003.001                     True  LSASS Memory  [credential-access]   \n",
       "3390    T1003.001                     True  LSASS Memory  [credential-access]   \n",
       "3391    T1003.001                     True  LSASS Memory  [credential-access]   \n",
       "3392    T1003.001                     True  LSASS Memory  [credential-access]   \n",
       "3393    T1003.001                     True  LSASS Memory  [credential-access]   \n",
       "3394    T1003.001                     True  LSASS Memory  [credential-access]   \n",
       "3395    T1003.001                     True  LSASS Memory  [credential-access]   \n",
       "3396    T1003.001                     True  LSASS Memory  [credential-access]   \n",
       "3397    T1003.001                     True  LSASS Memory  [credential-access]   \n",
       "3398    T1003.001                     True  LSASS Memory  [credential-access]   \n",
       "3399    T1003.001                     True  LSASS Memory  [credential-access]   \n",
       "\n",
       "       platform data_source     data_component  \\\n",
       "3383  [Windows]     process   process creation   \n",
       "3384  [Windows]     process   process creation   \n",
       "3385  [Windows]     process   process creation   \n",
       "3386  [Windows]     process   process creation   \n",
       "3387  [Windows]     process   process creation   \n",
       "3388  [Windows]     process   process creation   \n",
       "3389  [Windows]     process     process access   \n",
       "3390  [Windows]     process     process access   \n",
       "3391  [Windows]     command  command execution   \n",
       "3392  [Windows]     command  command execution   \n",
       "3393  [Windows]     command  command execution   \n",
       "3394  [Windows]     command  command execution   \n",
       "3395  [Windows]     command  command execution   \n",
       "3396  [Windows]     command  command execution   \n",
       "3397  [Windows]     command  command execution   \n",
       "3398  [Windows]     command  command execution   \n",
       "3399  [Windows]     process   os api execution   \n",
       "\n",
       "                                     name   source         relationship  \\\n",
       "3383              Process created Process  process              created   \n",
       "3384              Process created Process  process              created   \n",
       "3385              Process created Process  process              created   \n",
       "3386                 User created Process     user              created   \n",
       "3387                 User created Process     user              created   \n",
       "3388                 User created Process     user              created   \n",
       "3389             Process accessed Process  process             accessed   \n",
       "3390  Process requested access to Process  process  requested access to   \n",
       "3391             Process executed Command  process             executed   \n",
       "3392             Process executed Command  process             executed   \n",
       "3393             Process executed Command  process             executed   \n",
       "3394             Process executed Command  process             executed   \n",
       "3395                User executed Command     user             executed   \n",
       "3396                User executed Command     user             executed   \n",
       "3397                User executed Command     user             executed   \n",
       "3398                User executed Command     user             executed   \n",
       "3399            Process executed Api call  process             executed   \n",
       "\n",
       "        target             event_id                            event_name  \\\n",
       "3383   process                 4688       A new process has been created.   \n",
       "3384   process                    1                     Process Creation.   \n",
       "3385   process  DeviceProcessEvents                   DeviceProcessEvents   \n",
       "3386   process                 4688       A new process has been created.   \n",
       "3387   process                    1                     Process Creation.   \n",
       "3388   process  DeviceProcessEvents                   DeviceProcessEvents   \n",
       "3389   process                   10                        ProcessAccess.   \n",
       "3390   process                 4656  A handle to an object was requested.   \n",
       "3391   command                 4688       A new process has been created.   \n",
       "3392   command                    1                     Process Creation.   \n",
       "3393   command                 4103                       Module logging.   \n",
       "3394   command  DeviceProcessEvents                   DeviceProcessEvents   \n",
       "3395   command                 4688       A new process has been created.   \n",
       "3396   command                    1                     Process Creation.   \n",
       "3397   command                 4103                       Module logging.   \n",
       "3398   command  DeviceProcessEvents                   DeviceProcessEvents   \n",
       "3399  api call                    8                   CreateRemoteThread.   \n",
       "\n",
       "     event_platform      audit_category audit_sub_category  \\\n",
       "3383        Windows   Detailed Tracking   Process Creation   \n",
       "3384        Windows       ProcessCreate                NaN   \n",
       "3385        Windows                None                NaN   \n",
       "3386        Windows   Detailed Tracking   Process Creation   \n",
       "3387        Windows       ProcessCreate                NaN   \n",
       "3388        Windows                None                NaN   \n",
       "3389        Windows       ProcessAccess                NaN   \n",
       "3390        Windows       Object Access      Kernel Object   \n",
       "3391        Windows   Detailed Tracking   Process Creation   \n",
       "3392        Windows       ProcessCreate                NaN   \n",
       "3393        Windows  Executing Pipeline                NaN   \n",
       "3394        Windows                None                NaN   \n",
       "3395        Windows   Detailed Tracking   Process Creation   \n",
       "3396        Windows       ProcessCreate                NaN   \n",
       "3397        Windows  Executing Pipeline                NaN   \n",
       "3398        Windows                None                NaN   \n",
       "3399        Windows  CreateRemoteThread                NaN   \n",
       "\n",
       "                                   log_channel  \\\n",
       "3383                                  Security   \n",
       "3384      Microsoft-Windows-Sysmon/Operational   \n",
       "3385                                      None   \n",
       "3386                                  Security   \n",
       "3387      Microsoft-Windows-Sysmon/Operational   \n",
       "3388                                      None   \n",
       "3389      Microsoft-Windows-Sysmon/Operational   \n",
       "3390                                  Security   \n",
       "3391                                  Security   \n",
       "3392      Microsoft-Windows-Sysmon/Operational   \n",
       "3393  Microsoft-Windows-PowerShell/Operational   \n",
       "3394                                      None   \n",
       "3395                                  Security   \n",
       "3396      Microsoft-Windows-Sysmon/Operational   \n",
       "3397  Microsoft-Windows-PowerShell/Operational   \n",
       "3398                                      None   \n",
       "3399      Microsoft-Windows-Sysmon/Operational   \n",
       "\n",
       "                                     log_provider  \n",
       "3383          Microsoft-Windows-Security-Auditing  \n",
       "3384                     Microsoft-Windows-Sysmon  \n",
       "3385  Windows Defender Advanced Threat Protection  \n",
       "3386          Microsoft-Windows-Security-Auditing  \n",
       "3387                     Microsoft-Windows-Sysmon  \n",
       "3388  Windows Defender Advanced Threat Protection  \n",
       "3389                     Microsoft-Windows-Sysmon  \n",
       "3390          Microsoft-Windows-Security-Auditing  \n",
       "3391          Microsoft-Windows-Security-Auditing  \n",
       "3392                     Microsoft-Windows-Sysmon  \n",
       "3393                 Microsoft-Windows-PowerShell  \n",
       "3394  Windows Defender Advanced Threat Protection  \n",
       "3395          Microsoft-Windows-Security-Auditing  \n",
       "3396                     Microsoft-Windows-Sysmon  \n",
       "3397                 Microsoft-Windows-PowerShell  \n",
       "3398  Windows Defender Advanced Threat Protection  \n",
       "3399                     Microsoft-Windows-Sysmon  "
      ],
      "text/html": "<div>\n<style scoped>\n    .dataframe tbody tr th:only-of-type {\n        vertical-align: middle;\n    }\n\n    .dataframe tbody tr th {\n        vertical-align: top;\n    }\n\n    .dataframe thead th {\n        text-align: right;\n    }\n</style>\n<table border=\"1\" class=\"dataframe\">\n  <thead>\n    <tr style=\"text-align: right;\">\n      <th></th>\n      <th>technique_id</th>\n      <th>x_mitre_is_subtechnique</th>\n      <th>technique</th>\n      <th>tactic</th>\n      <th>platform</th>\n      <th>data_source</th>\n      <th>data_component</th>\n      <th>name</th>\n      <th>source</th>\n      <th>relationship</th>\n      <th>target</th>\n      <th>event_id</th>\n      <th>event_name</th>\n      <th>event_platform</th>\n      <th>audit_category</th>\n      <th>audit_sub_category</th>\n      <th>log_channel</th>\n      <th>log_provider</th>\n    </tr>\n  </thead>\n  <tbody>\n    <tr>\n      <th>3383</th>\n      <td>T1003.001</td>\n      <td>True</td>\n      <td>LSASS Memory</td>\n      <td>[credential-access]</td>\n      <td>[Windows]</td>\n      <td>process</td>\n      <td>process creation</td>\n      <td>Process created Process</td>\n      <td>process</td>\n      <td>created</td>\n      <td>process</td>\n      <td>4688</td>\n      <td>A new process has been created.</td>\n      <td>Windows</td>\n      <td>Detailed Tracking</td>\n      <td>Process Creation</td>\n      <td>Security</td>\n      <td>Microsoft-Windows-Security-Auditing</td>\n    </tr>\n    <tr>\n      <th>3384</th>\n      <td>T1003.001</td>\n      <td>True</td>\n      <td>LSASS Memory</td>\n      <td>[credential-access]</td>\n      <td>[Windows]</td>\n      <td>process</td>\n      <td>process creation</td>\n      <td>Process created Process</td>\n      <td>process</td>\n      <td>created</td>\n      <td>process</td>\n      <td>1</td>\n      <td>Process Creation.</td>\n      <td>Windows</td>\n      <td>ProcessCreate</td>\n      <td>NaN</td>\n      <td>Microsoft-Windows-Sysmon/Operational</td>\n      <td>Microsoft-Windows-Sysmon</td>\n    </tr>\n    <tr>\n      <th>3385</th>\n      <td>T1003.001</td>\n      <td>True</td>\n      <td>LSASS Memory</td>\n      <td>[credential-access]</td>\n      <td>[Windows]</td>\n      <td>process</td>\n      <td>process creation</td>\n      <td>Process created Process</td>\n      <td>process</td>\n      <td>created</td>\n      <td>process</td>\n      <td>DeviceProcessEvents</td>\n      <td>DeviceProcessEvents</td>\n      <td>Windows</td>\n      <td>None</td>\n      <td>NaN</td>\n      <td>None</td>\n      <td>Windows Defender Advanced Threat Protection</td>\n    </tr>\n    <tr>\n      <th>3386</th>\n      <td>T1003.001</td>\n      <td>True</td>\n      <td>LSASS Memory</td>\n      <td>[credential-access]</td>\n      <td>[Windows]</td>\n      <td>process</td>\n      <td>process creation</td>\n      <td>User created Process</td>\n      <td>user</td>\n      <td>created</td>\n      <td>process</td>\n      <td>4688</td>\n      <td>A new process has been created.</td>\n      <td>Windows</td>\n      <td>Detailed Tracking</td>\n      <td>Process Creation</td>\n      <td>Security</td>\n      <td>Microsoft-Windows-Security-Auditing</td>\n    </tr>\n    <tr>\n      <th>3387</th>\n      <td>T1003.001</td>\n      <td>True</td>\n      <td>LSASS Memory</td>\n      <td>[credential-access]</td>\n      <td>[Windows]</td>\n      <td>process</td>\n      <td>process creation</td>\n      <td>User created Process</td>\n      <td>user</td>\n      <td>created</td>\n      <td>process</td>\n      <td>1</td>\n      <td>Process Creation.</td>\n      <td>Windows</td>\n      <td>ProcessCreate</td>\n      <td>NaN</td>\n      <td>Microsoft-Windows-Sysmon/Operational</td>\n      <td>Microsoft-Windows-Sysmon</td>\n    </tr>\n    <tr>\n      <th>3388</th>\n      <td>T1003.001</td>\n      <td>True</td>\n      <td>LSASS Memory</td>\n      <td>[credential-access]</td>\n      <td>[Windows]</td>\n      <td>process</td>\n      <td>process creation</td>\n      <td>User created Process</td>\n      <td>user</td>\n      <td>created</td>\n      <td>process</td>\n      <td>DeviceProcessEvents</td>\n      <td>DeviceProcessEvents</td>\n      <td>Windows</td>\n      <td>None</td>\n      <td>NaN</td>\n      <td>None</td>\n      <td>Windows Defender Advanced Threat Protection</td>\n    </tr>\n    <tr>\n      <th>3389</th>\n      <td>T1003.001</td>\n      <td>True</td>\n      <td>LSASS Memory</td>\n      <td>[credential-access]</td>\n      <td>[Windows]</td>\n      <td>process</td>\n      <td>process access</td>\n      <td>Process accessed Process</td>\n      <td>process</td>\n      <td>accessed</td>\n      <td>process</td>\n      <td>10</td>\n      <td>ProcessAccess.</td>\n      <td>Windows</td>\n      <td>ProcessAccess</td>\n      <td>NaN</td>\n      <td>Microsoft-Windows-Sysmon/Operational</td>\n      <td>Microsoft-Windows-Sysmon</td>\n    </tr>\n    <tr>\n      <th>3390</th>\n      <td>T1003.001</td>\n      <td>True</td>\n      <td>LSASS Memory</td>\n      <td>[credential-access]</td>\n      <td>[Windows]</td>\n      <td>process</td>\n      <td>process access</td>\n      <td>Process requested access to Process</td>\n      <td>process</td>\n      <td>requested access to</td>\n      <td>process</td>\n      <td>4656</td>\n      <td>A handle to an object was requested.</td>\n      <td>Windows</td>\n      <td>Object Access</td>\n      <td>Kernel Object</td>\n      <td>Security</td>\n      <td>Microsoft-Windows-Security-Auditing</td>\n    </tr>\n    <tr>\n      <th>3391</th>\n      <td>T1003.001</td>\n      <td>True</td>\n      <td>LSASS Memory</td>\n      <td>[credential-access]</td>\n      <td>[Windows]</td>\n      <td>command</td>\n      <td>command execution</td>\n      <td>Process executed Command</td>\n      <td>process</td>\n      <td>executed</td>\n      <td>command</td>\n      <td>4688</td>\n      <td>A new process has been created.</td>\n      <td>Windows</td>\n      <td>Detailed Tracking</td>\n      <td>Process Creation</td>\n      <td>Security</td>\n      <td>Microsoft-Windows-Security-Auditing</td>\n    </tr>\n    <tr>\n      <th>3392</th>\n      <td>T1003.001</td>\n      <td>True</td>\n      <td>LSASS Memory</td>\n      <td>[credential-access]</td>\n      <td>[Windows]</td>\n      <td>command</td>\n      <td>command execution</td>\n      <td>Process executed Command</td>\n      <td>process</td>\n      <td>executed</td>\n      <td>command</td>\n      <td>1</td>\n      <td>Process Creation.</td>\n      <td>Windows</td>\n      <td>ProcessCreate</td>\n      <td>NaN</td>\n      <td>Microsoft-Windows-Sysmon/Operational</td>\n      <td>Microsoft-Windows-Sysmon</td>\n    </tr>\n    <tr>\n      <th>3393</th>\n      <td>T1003.001</td>\n      <td>True</td>\n      <td>LSASS Memory</td>\n      <td>[credential-access]</td>\n      <td>[Windows]</td>\n      <td>command</td>\n      <td>command execution</td>\n      <td>Process executed Command</td>\n      <td>process</td>\n      <td>executed</td>\n      <td>command</td>\n      <td>4103</td>\n      <td>Module logging.</td>\n      <td>Windows</td>\n      <td>Executing Pipeline</td>\n      <td>NaN</td>\n      <td>Microsoft-Windows-PowerShell/Operational</td>\n      <td>Microsoft-Windows-PowerShell</td>\n    </tr>\n    <tr>\n      <th>3394</th>\n      <td>T1003.001</td>\n      <td>True</td>\n      <td>LSASS Memory</td>\n      <td>[credential-access]</td>\n      <td>[Windows]</td>\n      <td>command</td>\n      <td>command execution</td>\n      <td>Process executed Command</td>\n      <td>process</td>\n      <td>executed</td>\n      <td>command</td>\n      <td>DeviceProcessEvents</td>\n      <td>DeviceProcessEvents</td>\n      <td>Windows</td>\n      <td>None</td>\n      <td>NaN</td>\n      <td>None</td>\n      <td>Windows Defender Advanced Threat Protection</td>\n    </tr>\n    <tr>\n      <th>3395</th>\n      <td>T1003.001</td>\n      <td>True</td>\n      <td>LSASS Memory</td>\n      <td>[credential-access]</td>\n      <td>[Windows]</td>\n      <td>command</td>\n      <td>command execution</td>\n      <td>User executed Command</td>\n      <td>user</td>\n      <td>executed</td>\n      <td>command</td>\n      <td>4688</td>\n      <td>A new process has been created.</td>\n      <td>Windows</td>\n      <td>Detailed Tracking</td>\n      <td>Process Creation</td>\n      <td>Security</td>\n      <td>Microsoft-Windows-Security-Auditing</td>\n    </tr>\n    <tr>\n      <th>3396</th>\n      <td>T1003.001</td>\n      <td>True</td>\n      <td>LSASS Memory</td>\n      <td>[credential-access]</td>\n      <td>[Windows]</td>\n      <td>command</td>\n      <td>command execution</td>\n      <td>User executed Command</td>\n      <td>user</td>\n      <td>executed</td>\n      <td>command</td>\n      <td>1</td>\n      <td>Process Creation.</td>\n      <td>Windows</td>\n      <td>ProcessCreate</td>\n      <td>NaN</td>\n      <td>Microsoft-Windows-Sysmon/Operational</td>\n      <td>Microsoft-Windows-Sysmon</td>\n    </tr>\n    <tr>\n      <th>3397</th>\n      <td>T1003.001</td>\n      <td>True</td>\n      <td>LSASS Memory</td>\n      <td>[credential-access]</td>\n      <td>[Windows]</td>\n      <td>command</td>\n      <td>command execution</td>\n      <td>User executed Command</td>\n      <td>user</td>\n      <td>executed</td>\n      <td>command</td>\n      <td>4103</td>\n      <td>Module logging.</td>\n      <td>Windows</td>\n      <td>Executing Pipeline</td>\n      <td>NaN</td>\n      <td>Microsoft-Windows-PowerShell/Operational</td>\n      <td>Microsoft-Windows-PowerShell</td>\n    </tr>\n    <tr>\n      <th>3398</th>\n      <td>T1003.001</td>\n      <td>True</td>\n      <td>LSASS Memory</td>\n      <td>[credential-access]</td>\n      <td>[Windows]</td>\n      <td>command</td>\n      <td>command execution</td>\n      <td>User executed Command</td>\n      <td>user</td>\n      <td>executed</td>\n      <td>command</td>\n      <td>DeviceProcessEvents</td>\n      <td>DeviceProcessEvents</td>\n      <td>Windows</td>\n      <td>None</td>\n      <td>NaN</td>\n      <td>None</td>\n      <td>Windows Defender Advanced Threat Protection</td>\n    </tr>\n    <tr>\n      <th>3399</th>\n      <td>T1003.001</td>\n      <td>True</td>\n      <td>LSASS Memory</td>\n      <td>[credential-access]</td>\n      <td>[Windows]</td>\n      <td>process</td>\n      <td>os api execution</td>\n      <td>Process executed Api call</td>\n      <td>process</td>\n      <td>executed</td>\n      <td>api call</td>\n      <td>8</td>\n      <td>CreateRemoteThread.</td>\n      <td>Windows</td>\n      <td>CreateRemoteThread</td>\n      <td>NaN</td>\n      <td>Microsoft-Windows-Sysmon/Operational</td>\n      <td>Microsoft-Windows-Sysmon</td>\n    </tr>\n  </tbody>\n</table>\n</div>"
     },
     "metadata": {},
     "execution_count": 7
    }
   ],
   "source": [
    "mapping[mapping['technique_id']=='T1003.001']"
   ]
  },
  {
   "cell_type": "markdown",
   "metadata": {},
   "source": [
    "## This is really cool!!! We have covered all the recommended data sources/components :D\n",
    "    \n",
    "## What other security event logs would you recommend for this data source/component? Contribute to the community through OSSEM :D\n",
    "\n",
    "## You can contribute and map more security events [here](https://github.com/OTRF/OSSEM-DM/tree/main/relationships)"
   ]
  }
 ],
 "metadata": {
  "file_extension": ".py",
  "kernelspec": {
   "name": "python3",
   "display_name": "Python 3"
  },
  "language_info": {
   "codemirror_mode": {
    "name": "ipython",
    "version": 3
   },
   "file_extension": ".py",
   "mimetype": "text/x-python",
   "name": "python",
   "nbconvert_exporter": "python",
   "pygments_lexer": "ipython3",
   "version": "3.9.2"
  },
  "mimetype": "text/x-python",
  "name": "python",
  "npconvert_exporter": "python",
  "pygments_lexer": "ipython3",
  "version": 3,
  "metadata": {
   "interpreter": {
    "hash": "01ff218a1150c63991e192507b67669b395017327636807f98fdac9b0b091f04"
   }
  }
 },
 "nbformat": 4,
 "nbformat_minor": 2
}
