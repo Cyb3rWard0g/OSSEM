{
 "cells": [
  {
   "cell_type": "markdown",
   "metadata": {},
   "source": [
    "# ATT&CK Techniques to Security Events\n",
    "\n",
    "-----------------------------------"
   ]
  },
  {
   "cell_type": "markdown",
   "metadata": {},
   "source": [
    "* **Author**: Jose Luis Rodriguez - [@Cyb3rPandaH](https://twitter.com/Cyb3rPandaH)\n",
    "* **Organization**: [Open Threat Research (OTR)](https://github.com/OTRF)\n",
    "* **References**: \n",
    " - [OSSEM - ATT&CK Event Mapping](https://github.com/OTRF/OSSEM-DM/blob/main/use-cases/mitre_attack/techniques_to_events_mapping.yaml)\n",
    " - [Data Sources, Containers, Cloud, and More: What's New in ATT&CK v9?](https://medium.com/mitre-attack/attack-april-2021-release-39accaf23c81)\n",
    " - [Defining ATT&CK Data Sources, Part I: Enhancing the Current State](https://medium.com/mitre-attack/defining-attack-data-sources-part-i-4c39e581454f)\n",
    " - [Defining ATT&CK Data Sources, Part II: Operationalizing the Methodology](https://medium.com/mitre-attack/defining-attack-data-sources-part-ii-1fc98738ba5b)\n",
    " - [ATT&CK - Data Sources Definition](https://github.com/mitre-attack/attack-datasources/tree/main/contribution)"
   ]
  },
  {
   "cell_type": "markdown",
   "metadata": {},
   "source": [
    "## Importing Python Libraries"
   ]
  },
  {
   "cell_type": "code",
   "execution_count": 1,
   "metadata": {},
   "outputs": [],
   "source": [
    "# Importing library to manipulate data\n",
    "import pandas as pd\n",
    "\n",
    "# Importing library to manipulate yaml data\n",
    "import yaml\n",
    "import requests\n",
    "\n",
    "# Importing library for visualizations\n",
    "import plotly.graph_objects as go\n",
    "from openhunt import visualizations as vis"
   ]
  },
  {
   "cell_type": "markdown",
   "metadata": {},
   "source": [
    "## Importing (Sub)Techniques to Security Events Mapping Yaml File"
   ]
  },
  {
   "source": [
    "Using the **[attackcti](https://attackcti.com/intro.html)** Python library, we were able to collect all the techniques within the Enterprise matrix. After that, we mapped several security events to each data source/component/relationship. Here is the result:"
   ],
   "cell_type": "markdown",
   "metadata": {}
  },
  {
   "cell_type": "code",
   "execution_count": 2,
   "metadata": {},
   "outputs": [
    {
     "output_type": "execute_result",
     "data": {
      "text/plain": [
       "  technique_id  x_mitre_is_subtechnique                         technique  \\\n",
       "0    T1553.006                     True  Code Signing Policy Modification   \n",
       "1    T1553.006                     True  Code Signing Policy Modification   \n",
       "2    T1553.006                     True  Code Signing Policy Modification   \n",
       "3    T1553.006                     True  Code Signing Policy Modification   \n",
       "4    T1553.006                     True  Code Signing Policy Modification   \n",
       "\n",
       "              tactic          platform       data_source  \\\n",
       "0  [defense-evasion]  [Windows, macOS]  windows registry   \n",
       "1  [defense-evasion]  [Windows, macOS]  windows registry   \n",
       "2  [defense-evasion]  [Windows, macOS]  windows registry   \n",
       "3  [defense-evasion]  [Windows, macOS]  windows registry   \n",
       "4  [defense-evasion]  [Windows, macOS]  windows registry   \n",
       "\n",
       "                      data_component  \\\n",
       "0  windows registry key modification   \n",
       "1  windows registry key modification   \n",
       "2  windows registry key modification   \n",
       "3  windows registry key modification   \n",
       "4  windows registry key modification   \n",
       "\n",
       "                                          name   source relationship  \\\n",
       "0  Process modified Windows registry key value  process     modified   \n",
       "1  Process modified Windows registry key value  process     modified   \n",
       "2  Process modified Windows registry key value  process     modified   \n",
       "3  Process modified Windows registry key value  process     modified   \n",
       "4           User modified Windows registry key     user     modified   \n",
       "\n",
       "                       target              event_id  \\\n",
       "0  windows registry key value                    13   \n",
       "1  windows registry key value                    14   \n",
       "2  windows registry key value                  4657   \n",
       "3  windows registry key value  DeviceRegistryEvents   \n",
       "4        windows registry key                  4670   \n",
       "\n",
       "                               event_name event_platform audit_category  \\\n",
       "0              RegistryEvent (Value Set).        Windows  RegistryEvent   \n",
       "1   RegistryEvent (Key and Value Rename).        Windows  RegistryEvent   \n",
       "2          A registry value was modified.        Windows  Object Access   \n",
       "3                    DeviceRegistryEvents        Windows           None   \n",
       "4  Permissions on an object were changed.        Windows  Object Access   \n",
       "\n",
       "  audit_sub_category                           log_channel  \\\n",
       "0                NaN  Microsoft-Windows-Sysmon/Operational   \n",
       "1                NaN  Microsoft-Windows-Sysmon/Operational   \n",
       "2           Registry                              Security   \n",
       "3                NaN                                  None   \n",
       "4           Registry                              Security   \n",
       "\n",
       "                                  log_provider  \n",
       "0                     Microsoft-Windows-Sysmon  \n",
       "1                     Microsoft-Windows-Sysmon  \n",
       "2          Microsoft-Windows-Security-Auditing  \n",
       "3  Windows Defender Advanced Threat Protection  \n",
       "4          Microsoft-Windows-Security-Auditing  "
      ],
      "text/html": "<div>\n<style scoped>\n    .dataframe tbody tr th:only-of-type {\n        vertical-align: middle;\n    }\n\n    .dataframe tbody tr th {\n        vertical-align: top;\n    }\n\n    .dataframe thead th {\n        text-align: right;\n    }\n</style>\n<table border=\"1\" class=\"dataframe\">\n  <thead>\n    <tr style=\"text-align: right;\">\n      <th></th>\n      <th>technique_id</th>\n      <th>x_mitre_is_subtechnique</th>\n      <th>technique</th>\n      <th>tactic</th>\n      <th>platform</th>\n      <th>data_source</th>\n      <th>data_component</th>\n      <th>name</th>\n      <th>source</th>\n      <th>relationship</th>\n      <th>target</th>\n      <th>event_id</th>\n      <th>event_name</th>\n      <th>event_platform</th>\n      <th>audit_category</th>\n      <th>audit_sub_category</th>\n      <th>log_channel</th>\n      <th>log_provider</th>\n    </tr>\n  </thead>\n  <tbody>\n    <tr>\n      <th>0</th>\n      <td>T1553.006</td>\n      <td>True</td>\n      <td>Code Signing Policy Modification</td>\n      <td>[defense-evasion]</td>\n      <td>[Windows, macOS]</td>\n      <td>windows registry</td>\n      <td>windows registry key modification</td>\n      <td>Process modified Windows registry key value</td>\n      <td>process</td>\n      <td>modified</td>\n      <td>windows registry key value</td>\n      <td>13</td>\n      <td>RegistryEvent (Value Set).</td>\n      <td>Windows</td>\n      <td>RegistryEvent</td>\n      <td>NaN</td>\n      <td>Microsoft-Windows-Sysmon/Operational</td>\n      <td>Microsoft-Windows-Sysmon</td>\n    </tr>\n    <tr>\n      <th>1</th>\n      <td>T1553.006</td>\n      <td>True</td>\n      <td>Code Signing Policy Modification</td>\n      <td>[defense-evasion]</td>\n      <td>[Windows, macOS]</td>\n      <td>windows registry</td>\n      <td>windows registry key modification</td>\n      <td>Process modified Windows registry key value</td>\n      <td>process</td>\n      <td>modified</td>\n      <td>windows registry key value</td>\n      <td>14</td>\n      <td>RegistryEvent (Key and Value Rename).</td>\n      <td>Windows</td>\n      <td>RegistryEvent</td>\n      <td>NaN</td>\n      <td>Microsoft-Windows-Sysmon/Operational</td>\n      <td>Microsoft-Windows-Sysmon</td>\n    </tr>\n    <tr>\n      <th>2</th>\n      <td>T1553.006</td>\n      <td>True</td>\n      <td>Code Signing Policy Modification</td>\n      <td>[defense-evasion]</td>\n      <td>[Windows, macOS]</td>\n      <td>windows registry</td>\n      <td>windows registry key modification</td>\n      <td>Process modified Windows registry key value</td>\n      <td>process</td>\n      <td>modified</td>\n      <td>windows registry key value</td>\n      <td>4657</td>\n      <td>A registry value was modified.</td>\n      <td>Windows</td>\n      <td>Object Access</td>\n      <td>Registry</td>\n      <td>Security</td>\n      <td>Microsoft-Windows-Security-Auditing</td>\n    </tr>\n    <tr>\n      <th>3</th>\n      <td>T1553.006</td>\n      <td>True</td>\n      <td>Code Signing Policy Modification</td>\n      <td>[defense-evasion]</td>\n      <td>[Windows, macOS]</td>\n      <td>windows registry</td>\n      <td>windows registry key modification</td>\n      <td>Process modified Windows registry key value</td>\n      <td>process</td>\n      <td>modified</td>\n      <td>windows registry key value</td>\n      <td>DeviceRegistryEvents</td>\n      <td>DeviceRegistryEvents</td>\n      <td>Windows</td>\n      <td>None</td>\n      <td>NaN</td>\n      <td>None</td>\n      <td>Windows Defender Advanced Threat Protection</td>\n    </tr>\n    <tr>\n      <th>4</th>\n      <td>T1553.006</td>\n      <td>True</td>\n      <td>Code Signing Policy Modification</td>\n      <td>[defense-evasion]</td>\n      <td>[Windows, macOS]</td>\n      <td>windows registry</td>\n      <td>windows registry key modification</td>\n      <td>User modified Windows registry key</td>\n      <td>user</td>\n      <td>modified</td>\n      <td>windows registry key</td>\n      <td>4670</td>\n      <td>Permissions on an object were changed.</td>\n      <td>Windows</td>\n      <td>Object Access</td>\n      <td>Registry</td>\n      <td>Security</td>\n      <td>Microsoft-Windows-Security-Auditing</td>\n    </tr>\n  </tbody>\n</table>\n</div>"
     },
     "metadata": {},
     "execution_count": 2
    }
   ],
   "source": [
    "yamlUrl = 'https://raw.githubusercontent.com/OTRF/OSSEM-DM/main/use-cases/mitre_attack/techniques_to_events_mapping.yaml'\n",
    "yamlContent = requests.get(yamlUrl)\n",
    "yamlMapping = yaml.safe_load(yamlContent.text)\n",
    "mapping = pd.json_normalize(yamlMapping)\n",
    "mapping.head()"
   ]
  },
  {
   "source": [
    "### Which are the most relevant data sources for Sub-Technqiues within the Enterprise Matrix?"
   ],
   "cell_type": "markdown",
   "metadata": {}
  },
  {
   "cell_type": "code",
   "execution_count": 3,
   "metadata": {},
   "outputs": [
    {
     "output_type": "display_data",
     "data": {
      "application/vnd.plotly.v1+json": {
       "config": {
        "plotlyServerURL": "https://plot.ly"
       },
       "data": [
        {
         "orientation": "v",
         "type": "bar",
         "x": [
          "process",
          "file",
          "command",
          "network traffic",
          "windows registry",
          "module",
          "application log",
          "user account",
          "logon session",
          "service",
          "active directory",
          "script",
          "sensor health",
          "scheduled job",
          "instance"
         ],
         "y": [
          176,
          173,
          155,
          121,
          49,
          35,
          28,
          24,
          22,
          18,
          15,
          10,
          10,
          9,
          7
         ]
        }
       ],
       "layout": {
        "template": {
         "data": {
          "bar": [
           {
            "error_x": {
             "color": "#2a3f5f"
            },
            "error_y": {
             "color": "#2a3f5f"
            },
            "marker": {
             "line": {
              "color": "#E5ECF6",
              "width": 0.5
             }
            },
            "type": "bar"
           }
          ],
          "barpolar": [
           {
            "marker": {
             "line": {
              "color": "#E5ECF6",
              "width": 0.5
             }
            },
            "type": "barpolar"
           }
          ],
          "carpet": [
           {
            "aaxis": {
             "endlinecolor": "#2a3f5f",
             "gridcolor": "white",
             "linecolor": "white",
             "minorgridcolor": "white",
             "startlinecolor": "#2a3f5f"
            },
            "baxis": {
             "endlinecolor": "#2a3f5f",
             "gridcolor": "white",
             "linecolor": "white",
             "minorgridcolor": "white",
             "startlinecolor": "#2a3f5f"
            },
            "type": "carpet"
           }
          ],
          "choropleth": [
           {
            "colorbar": {
             "outlinewidth": 0,
             "ticks": ""
            },
            "type": "choropleth"
           }
          ],
          "contour": [
           {
            "colorbar": {
             "outlinewidth": 0,
             "ticks": ""
            },
            "colorscale": [
             [
              0,
              "#0d0887"
             ],
             [
              0.1111111111111111,
              "#46039f"
             ],
             [
              0.2222222222222222,
              "#7201a8"
             ],
             [
              0.3333333333333333,
              "#9c179e"
             ],
             [
              0.4444444444444444,
              "#bd3786"
             ],
             [
              0.5555555555555556,
              "#d8576b"
             ],
             [
              0.6666666666666666,
              "#ed7953"
             ],
             [
              0.7777777777777778,
              "#fb9f3a"
             ],
             [
              0.8888888888888888,
              "#fdca26"
             ],
             [
              1,
              "#f0f921"
             ]
            ],
            "type": "contour"
           }
          ],
          "contourcarpet": [
           {
            "colorbar": {
             "outlinewidth": 0,
             "ticks": ""
            },
            "type": "contourcarpet"
           }
          ],
          "heatmap": [
           {
            "colorbar": {
             "outlinewidth": 0,
             "ticks": ""
            },
            "colorscale": [
             [
              0,
              "#0d0887"
             ],
             [
              0.1111111111111111,
              "#46039f"
             ],
             [
              0.2222222222222222,
              "#7201a8"
             ],
             [
              0.3333333333333333,
              "#9c179e"
             ],
             [
              0.4444444444444444,
              "#bd3786"
             ],
             [
              0.5555555555555556,
              "#d8576b"
             ],
             [
              0.6666666666666666,
              "#ed7953"
             ],
             [
              0.7777777777777778,
              "#fb9f3a"
             ],
             [
              0.8888888888888888,
              "#fdca26"
             ],
             [
              1,
              "#f0f921"
             ]
            ],
            "type": "heatmap"
           }
          ],
          "heatmapgl": [
           {
            "colorbar": {
             "outlinewidth": 0,
             "ticks": ""
            },
            "colorscale": [
             [
              0,
              "#0d0887"
             ],
             [
              0.1111111111111111,
              "#46039f"
             ],
             [
              0.2222222222222222,
              "#7201a8"
             ],
             [
              0.3333333333333333,
              "#9c179e"
             ],
             [
              0.4444444444444444,
              "#bd3786"
             ],
             [
              0.5555555555555556,
              "#d8576b"
             ],
             [
              0.6666666666666666,
              "#ed7953"
             ],
             [
              0.7777777777777778,
              "#fb9f3a"
             ],
             [
              0.8888888888888888,
              "#fdca26"
             ],
             [
              1,
              "#f0f921"
             ]
            ],
            "type": "heatmapgl"
           }
          ],
          "histogram": [
           {
            "marker": {
             "colorbar": {
              "outlinewidth": 0,
              "ticks": ""
             }
            },
            "type": "histogram"
           }
          ],
          "histogram2d": [
           {
            "colorbar": {
             "outlinewidth": 0,
             "ticks": ""
            },
            "colorscale": [
             [
              0,
              "#0d0887"
             ],
             [
              0.1111111111111111,
              "#46039f"
             ],
             [
              0.2222222222222222,
              "#7201a8"
             ],
             [
              0.3333333333333333,
              "#9c179e"
             ],
             [
              0.4444444444444444,
              "#bd3786"
             ],
             [
              0.5555555555555556,
              "#d8576b"
             ],
             [
              0.6666666666666666,
              "#ed7953"
             ],
             [
              0.7777777777777778,
              "#fb9f3a"
             ],
             [
              0.8888888888888888,
              "#fdca26"
             ],
             [
              1,
              "#f0f921"
             ]
            ],
            "type": "histogram2d"
           }
          ],
          "histogram2dcontour": [
           {
            "colorbar": {
             "outlinewidth": 0,
             "ticks": ""
            },
            "colorscale": [
             [
              0,
              "#0d0887"
             ],
             [
              0.1111111111111111,
              "#46039f"
             ],
             [
              0.2222222222222222,
              "#7201a8"
             ],
             [
              0.3333333333333333,
              "#9c179e"
             ],
             [
              0.4444444444444444,
              "#bd3786"
             ],
             [
              0.5555555555555556,
              "#d8576b"
             ],
             [
              0.6666666666666666,
              "#ed7953"
             ],
             [
              0.7777777777777778,
              "#fb9f3a"
             ],
             [
              0.8888888888888888,
              "#fdca26"
             ],
             [
              1,
              "#f0f921"
             ]
            ],
            "type": "histogram2dcontour"
           }
          ],
          "mesh3d": [
           {
            "colorbar": {
             "outlinewidth": 0,
             "ticks": ""
            },
            "type": "mesh3d"
           }
          ],
          "parcoords": [
           {
            "line": {
             "colorbar": {
              "outlinewidth": 0,
              "ticks": ""
             }
            },
            "type": "parcoords"
           }
          ],
          "pie": [
           {
            "automargin": true,
            "type": "pie"
           }
          ],
          "scatter": [
           {
            "marker": {
             "colorbar": {
              "outlinewidth": 0,
              "ticks": ""
             }
            },
            "type": "scatter"
           }
          ],
          "scatter3d": [
           {
            "line": {
             "colorbar": {
              "outlinewidth": 0,
              "ticks": ""
             }
            },
            "marker": {
             "colorbar": {
              "outlinewidth": 0,
              "ticks": ""
             }
            },
            "type": "scatter3d"
           }
          ],
          "scattercarpet": [
           {
            "marker": {
             "colorbar": {
              "outlinewidth": 0,
              "ticks": ""
             }
            },
            "type": "scattercarpet"
           }
          ],
          "scattergeo": [
           {
            "marker": {
             "colorbar": {
              "outlinewidth": 0,
              "ticks": ""
             }
            },
            "type": "scattergeo"
           }
          ],
          "scattergl": [
           {
            "marker": {
             "colorbar": {
              "outlinewidth": 0,
              "ticks": ""
             }
            },
            "type": "scattergl"
           }
          ],
          "scattermapbox": [
           {
            "marker": {
             "colorbar": {
              "outlinewidth": 0,
              "ticks": ""
             }
            },
            "type": "scattermapbox"
           }
          ],
          "scatterpolar": [
           {
            "marker": {
             "colorbar": {
              "outlinewidth": 0,
              "ticks": ""
             }
            },
            "type": "scatterpolar"
           }
          ],
          "scatterpolargl": [
           {
            "marker": {
             "colorbar": {
              "outlinewidth": 0,
              "ticks": ""
             }
            },
            "type": "scatterpolargl"
           }
          ],
          "scatterternary": [
           {
            "marker": {
             "colorbar": {
              "outlinewidth": 0,
              "ticks": ""
             }
            },
            "type": "scatterternary"
           }
          ],
          "surface": [
           {
            "colorbar": {
             "outlinewidth": 0,
             "ticks": ""
            },
            "colorscale": [
             [
              0,
              "#0d0887"
             ],
             [
              0.1111111111111111,
              "#46039f"
             ],
             [
              0.2222222222222222,
              "#7201a8"
             ],
             [
              0.3333333333333333,
              "#9c179e"
             ],
             [
              0.4444444444444444,
              "#bd3786"
             ],
             [
              0.5555555555555556,
              "#d8576b"
             ],
             [
              0.6666666666666666,
              "#ed7953"
             ],
             [
              0.7777777777777778,
              "#fb9f3a"
             ],
             [
              0.8888888888888888,
              "#fdca26"
             ],
             [
              1,
              "#f0f921"
             ]
            ],
            "type": "surface"
           }
          ],
          "table": [
           {
            "cells": {
             "fill": {
              "color": "#EBF0F8"
             },
             "line": {
              "color": "white"
             }
            },
            "header": {
             "fill": {
              "color": "#C8D4E3"
             },
             "line": {
              "color": "white"
             }
            },
            "type": "table"
           }
          ]
         },
         "layout": {
          "annotationdefaults": {
           "arrowcolor": "#2a3f5f",
           "arrowhead": 0,
           "arrowwidth": 1
          },
          "autotypenumbers": "strict",
          "coloraxis": {
           "colorbar": {
            "outlinewidth": 0,
            "ticks": ""
           }
          },
          "colorscale": {
           "diverging": [
            [
             0,
             "#8e0152"
            ],
            [
             0.1,
             "#c51b7d"
            ],
            [
             0.2,
             "#de77ae"
            ],
            [
             0.3,
             "#f1b6da"
            ],
            [
             0.4,
             "#fde0ef"
            ],
            [
             0.5,
             "#f7f7f7"
            ],
            [
             0.6,
             "#e6f5d0"
            ],
            [
             0.7,
             "#b8e186"
            ],
            [
             0.8,
             "#7fbc41"
            ],
            [
             0.9,
             "#4d9221"
            ],
            [
             1,
             "#276419"
            ]
           ],
           "sequential": [
            [
             0,
             "#0d0887"
            ],
            [
             0.1111111111111111,
             "#46039f"
            ],
            [
             0.2222222222222222,
             "#7201a8"
            ],
            [
             0.3333333333333333,
             "#9c179e"
            ],
            [
             0.4444444444444444,
             "#bd3786"
            ],
            [
             0.5555555555555556,
             "#d8576b"
            ],
            [
             0.6666666666666666,
             "#ed7953"
            ],
            [
             0.7777777777777778,
             "#fb9f3a"
            ],
            [
             0.8888888888888888,
             "#fdca26"
            ],
            [
             1,
             "#f0f921"
            ]
           ],
           "sequentialminus": [
            [
             0,
             "#0d0887"
            ],
            [
             0.1111111111111111,
             "#46039f"
            ],
            [
             0.2222222222222222,
             "#7201a8"
            ],
            [
             0.3333333333333333,
             "#9c179e"
            ],
            [
             0.4444444444444444,
             "#bd3786"
            ],
            [
             0.5555555555555556,
             "#d8576b"
            ],
            [
             0.6666666666666666,
             "#ed7953"
            ],
            [
             0.7777777777777778,
             "#fb9f3a"
            ],
            [
             0.8888888888888888,
             "#fdca26"
            ],
            [
             1,
             "#f0f921"
            ]
           ]
          },
          "colorway": [
           "#636efa",
           "#EF553B",
           "#00cc96",
           "#ab63fa",
           "#FFA15A",
           "#19d3f3",
           "#FF6692",
           "#B6E880",
           "#FF97FF",
           "#FECB52"
          ],
          "font": {
           "color": "#2a3f5f"
          },
          "geo": {
           "bgcolor": "white",
           "lakecolor": "white",
           "landcolor": "#E5ECF6",
           "showlakes": true,
           "showland": true,
           "subunitcolor": "white"
          },
          "hoverlabel": {
           "align": "left"
          },
          "hovermode": "closest",
          "mapbox": {
           "style": "light"
          },
          "paper_bgcolor": "white",
          "plot_bgcolor": "#E5ECF6",
          "polar": {
           "angularaxis": {
            "gridcolor": "white",
            "linecolor": "white",
            "ticks": ""
           },
           "bgcolor": "#E5ECF6",
           "radialaxis": {
            "gridcolor": "white",
            "linecolor": "white",
            "ticks": ""
           }
          },
          "scene": {
           "xaxis": {
            "backgroundcolor": "#E5ECF6",
            "gridcolor": "white",
            "gridwidth": 2,
            "linecolor": "white",
            "showbackground": true,
            "ticks": "",
            "zerolinecolor": "white"
           },
           "yaxis": {
            "backgroundcolor": "#E5ECF6",
            "gridcolor": "white",
            "gridwidth": 2,
            "linecolor": "white",
            "showbackground": true,
            "ticks": "",
            "zerolinecolor": "white"
           },
           "zaxis": {
            "backgroundcolor": "#E5ECF6",
            "gridcolor": "white",
            "gridwidth": 2,
            "linecolor": "white",
            "showbackground": true,
            "ticks": "",
            "zerolinecolor": "white"
           }
          },
          "shapedefaults": {
           "line": {
            "color": "#2a3f5f"
           }
          },
          "ternary": {
           "aaxis": {
            "gridcolor": "white",
            "linecolor": "white",
            "ticks": ""
           },
           "baxis": {
            "gridcolor": "white",
            "linecolor": "white",
            "ticks": ""
           },
           "bgcolor": "#E5ECF6",
           "caxis": {
            "gridcolor": "white",
            "linecolor": "white",
            "ticks": ""
           }
          },
          "title": {
           "x": 0.05
          },
          "xaxis": {
           "automargin": true,
           "gridcolor": "white",
           "linecolor": "white",
           "ticks": "",
           "title": {
            "standoff": 15
           },
           "zerolinecolor": "white",
           "zerolinewidth": 2
          },
          "yaxis": {
           "automargin": true,
           "gridcolor": "white",
           "linecolor": "white",
           "ticks": "",
           "title": {
            "standoff": 15
           },
           "zerolinecolor": "white",
           "zerolinewidth": 2
          }
         }
        },
        "title": {
         "text": "Count of sub-techniques per Data Source (Top 15)",
         "x": 0.5,
         "xanchor": "center",
         "y": 0.85
        }
       }
      }
     },
     "metadata": {}
    }
   ],
   "source": [
    "enterprise_sub = mapping[mapping['x_mitre_is_subtechnique'] == True][['technique_id','data_source','data_component']].drop_duplicates()\n",
    "top15_data_source = enterprise_sub['data_source'].value_counts().nlargest(15)\n",
    "\n",
    "fig = go.Figure()\n",
    "fig.add_trace(go.Bar(y = top15_data_source.values.tolist(), x = top15_data_source.index.tolist(),orientation = 'v'))\n",
    "fig.update_layout(title = {'text':\"Count of sub-techniques per Data Source (Top 15)\",'y': 0.85,'x': 0.5,'xanchor':'center'})\n",
    "fig.show()"
   ]
  },
  {
   "source": [
    "### Which are the most relevant data components for Sub-Technqiues within the Enterprise Matrix?"
   ],
   "cell_type": "markdown",
   "metadata": {}
  },
  {
   "cell_type": "code",
   "execution_count": 4,
   "metadata": {},
   "outputs": [
    {
     "output_type": "display_data",
     "data": {
      "application/vnd.plotly.v1+json": {
       "config": {
        "plotlyServerURL": "https://plot.ly"
       },
       "data": [
        {
         "orientation": "v",
         "type": "bar",
         "x": [
          "command execution",
          "process creation",
          "file modification",
          "file creation",
          "network traffic content",
          "network traffic flow",
          "os api execution",
          "windows registry key modification",
          "module load",
          "network connection creation",
          "application log content",
          "file access",
          "logon session creation",
          "file metadata",
          "user account authentication"
         ],
         "y": [
          155,
          119,
          66,
          54,
          49,
          44,
          38,
          37,
          35,
          28,
          28,
          24,
          20,
          20,
          13
         ]
        }
       ],
       "layout": {
        "template": {
         "data": {
          "bar": [
           {
            "error_x": {
             "color": "#2a3f5f"
            },
            "error_y": {
             "color": "#2a3f5f"
            },
            "marker": {
             "line": {
              "color": "#E5ECF6",
              "width": 0.5
             }
            },
            "type": "bar"
           }
          ],
          "barpolar": [
           {
            "marker": {
             "line": {
              "color": "#E5ECF6",
              "width": 0.5
             }
            },
            "type": "barpolar"
           }
          ],
          "carpet": [
           {
            "aaxis": {
             "endlinecolor": "#2a3f5f",
             "gridcolor": "white",
             "linecolor": "white",
             "minorgridcolor": "white",
             "startlinecolor": "#2a3f5f"
            },
            "baxis": {
             "endlinecolor": "#2a3f5f",
             "gridcolor": "white",
             "linecolor": "white",
             "minorgridcolor": "white",
             "startlinecolor": "#2a3f5f"
            },
            "type": "carpet"
           }
          ],
          "choropleth": [
           {
            "colorbar": {
             "outlinewidth": 0,
             "ticks": ""
            },
            "type": "choropleth"
           }
          ],
          "contour": [
           {
            "colorbar": {
             "outlinewidth": 0,
             "ticks": ""
            },
            "colorscale": [
             [
              0,
              "#0d0887"
             ],
             [
              0.1111111111111111,
              "#46039f"
             ],
             [
              0.2222222222222222,
              "#7201a8"
             ],
             [
              0.3333333333333333,
              "#9c179e"
             ],
             [
              0.4444444444444444,
              "#bd3786"
             ],
             [
              0.5555555555555556,
              "#d8576b"
             ],
             [
              0.6666666666666666,
              "#ed7953"
             ],
             [
              0.7777777777777778,
              "#fb9f3a"
             ],
             [
              0.8888888888888888,
              "#fdca26"
             ],
             [
              1,
              "#f0f921"
             ]
            ],
            "type": "contour"
           }
          ],
          "contourcarpet": [
           {
            "colorbar": {
             "outlinewidth": 0,
             "ticks": ""
            },
            "type": "contourcarpet"
           }
          ],
          "heatmap": [
           {
            "colorbar": {
             "outlinewidth": 0,
             "ticks": ""
            },
            "colorscale": [
             [
              0,
              "#0d0887"
             ],
             [
              0.1111111111111111,
              "#46039f"
             ],
             [
              0.2222222222222222,
              "#7201a8"
             ],
             [
              0.3333333333333333,
              "#9c179e"
             ],
             [
              0.4444444444444444,
              "#bd3786"
             ],
             [
              0.5555555555555556,
              "#d8576b"
             ],
             [
              0.6666666666666666,
              "#ed7953"
             ],
             [
              0.7777777777777778,
              "#fb9f3a"
             ],
             [
              0.8888888888888888,
              "#fdca26"
             ],
             [
              1,
              "#f0f921"
             ]
            ],
            "type": "heatmap"
           }
          ],
          "heatmapgl": [
           {
            "colorbar": {
             "outlinewidth": 0,
             "ticks": ""
            },
            "colorscale": [
             [
              0,
              "#0d0887"
             ],
             [
              0.1111111111111111,
              "#46039f"
             ],
             [
              0.2222222222222222,
              "#7201a8"
             ],
             [
              0.3333333333333333,
              "#9c179e"
             ],
             [
              0.4444444444444444,
              "#bd3786"
             ],
             [
              0.5555555555555556,
              "#d8576b"
             ],
             [
              0.6666666666666666,
              "#ed7953"
             ],
             [
              0.7777777777777778,
              "#fb9f3a"
             ],
             [
              0.8888888888888888,
              "#fdca26"
             ],
             [
              1,
              "#f0f921"
             ]
            ],
            "type": "heatmapgl"
           }
          ],
          "histogram": [
           {
            "marker": {
             "colorbar": {
              "outlinewidth": 0,
              "ticks": ""
             }
            },
            "type": "histogram"
           }
          ],
          "histogram2d": [
           {
            "colorbar": {
             "outlinewidth": 0,
             "ticks": ""
            },
            "colorscale": [
             [
              0,
              "#0d0887"
             ],
             [
              0.1111111111111111,
              "#46039f"
             ],
             [
              0.2222222222222222,
              "#7201a8"
             ],
             [
              0.3333333333333333,
              "#9c179e"
             ],
             [
              0.4444444444444444,
              "#bd3786"
             ],
             [
              0.5555555555555556,
              "#d8576b"
             ],
             [
              0.6666666666666666,
              "#ed7953"
             ],
             [
              0.7777777777777778,
              "#fb9f3a"
             ],
             [
              0.8888888888888888,
              "#fdca26"
             ],
             [
              1,
              "#f0f921"
             ]
            ],
            "type": "histogram2d"
           }
          ],
          "histogram2dcontour": [
           {
            "colorbar": {
             "outlinewidth": 0,
             "ticks": ""
            },
            "colorscale": [
             [
              0,
              "#0d0887"
             ],
             [
              0.1111111111111111,
              "#46039f"
             ],
             [
              0.2222222222222222,
              "#7201a8"
             ],
             [
              0.3333333333333333,
              "#9c179e"
             ],
             [
              0.4444444444444444,
              "#bd3786"
             ],
             [
              0.5555555555555556,
              "#d8576b"
             ],
             [
              0.6666666666666666,
              "#ed7953"
             ],
             [
              0.7777777777777778,
              "#fb9f3a"
             ],
             [
              0.8888888888888888,
              "#fdca26"
             ],
             [
              1,
              "#f0f921"
             ]
            ],
            "type": "histogram2dcontour"
           }
          ],
          "mesh3d": [
           {
            "colorbar": {
             "outlinewidth": 0,
             "ticks": ""
            },
            "type": "mesh3d"
           }
          ],
          "parcoords": [
           {
            "line": {
             "colorbar": {
              "outlinewidth": 0,
              "ticks": ""
             }
            },
            "type": "parcoords"
           }
          ],
          "pie": [
           {
            "automargin": true,
            "type": "pie"
           }
          ],
          "scatter": [
           {
            "marker": {
             "colorbar": {
              "outlinewidth": 0,
              "ticks": ""
             }
            },
            "type": "scatter"
           }
          ],
          "scatter3d": [
           {
            "line": {
             "colorbar": {
              "outlinewidth": 0,
              "ticks": ""
             }
            },
            "marker": {
             "colorbar": {
              "outlinewidth": 0,
              "ticks": ""
             }
            },
            "type": "scatter3d"
           }
          ],
          "scattercarpet": [
           {
            "marker": {
             "colorbar": {
              "outlinewidth": 0,
              "ticks": ""
             }
            },
            "type": "scattercarpet"
           }
          ],
          "scattergeo": [
           {
            "marker": {
             "colorbar": {
              "outlinewidth": 0,
              "ticks": ""
             }
            },
            "type": "scattergeo"
           }
          ],
          "scattergl": [
           {
            "marker": {
             "colorbar": {
              "outlinewidth": 0,
              "ticks": ""
             }
            },
            "type": "scattergl"
           }
          ],
          "scattermapbox": [
           {
            "marker": {
             "colorbar": {
              "outlinewidth": 0,
              "ticks": ""
             }
            },
            "type": "scattermapbox"
           }
          ],
          "scatterpolar": [
           {
            "marker": {
             "colorbar": {
              "outlinewidth": 0,
              "ticks": ""
             }
            },
            "type": "scatterpolar"
           }
          ],
          "scatterpolargl": [
           {
            "marker": {
             "colorbar": {
              "outlinewidth": 0,
              "ticks": ""
             }
            },
            "type": "scatterpolargl"
           }
          ],
          "scatterternary": [
           {
            "marker": {
             "colorbar": {
              "outlinewidth": 0,
              "ticks": ""
             }
            },
            "type": "scatterternary"
           }
          ],
          "surface": [
           {
            "colorbar": {
             "outlinewidth": 0,
             "ticks": ""
            },
            "colorscale": [
             [
              0,
              "#0d0887"
             ],
             [
              0.1111111111111111,
              "#46039f"
             ],
             [
              0.2222222222222222,
              "#7201a8"
             ],
             [
              0.3333333333333333,
              "#9c179e"
             ],
             [
              0.4444444444444444,
              "#bd3786"
             ],
             [
              0.5555555555555556,
              "#d8576b"
             ],
             [
              0.6666666666666666,
              "#ed7953"
             ],
             [
              0.7777777777777778,
              "#fb9f3a"
             ],
             [
              0.8888888888888888,
              "#fdca26"
             ],
             [
              1,
              "#f0f921"
             ]
            ],
            "type": "surface"
           }
          ],
          "table": [
           {
            "cells": {
             "fill": {
              "color": "#EBF0F8"
             },
             "line": {
              "color": "white"
             }
            },
            "header": {
             "fill": {
              "color": "#C8D4E3"
             },
             "line": {
              "color": "white"
             }
            },
            "type": "table"
           }
          ]
         },
         "layout": {
          "annotationdefaults": {
           "arrowcolor": "#2a3f5f",
           "arrowhead": 0,
           "arrowwidth": 1
          },
          "autotypenumbers": "strict",
          "coloraxis": {
           "colorbar": {
            "outlinewidth": 0,
            "ticks": ""
           }
          },
          "colorscale": {
           "diverging": [
            [
             0,
             "#8e0152"
            ],
            [
             0.1,
             "#c51b7d"
            ],
            [
             0.2,
             "#de77ae"
            ],
            [
             0.3,
             "#f1b6da"
            ],
            [
             0.4,
             "#fde0ef"
            ],
            [
             0.5,
             "#f7f7f7"
            ],
            [
             0.6,
             "#e6f5d0"
            ],
            [
             0.7,
             "#b8e186"
            ],
            [
             0.8,
             "#7fbc41"
            ],
            [
             0.9,
             "#4d9221"
            ],
            [
             1,
             "#276419"
            ]
           ],
           "sequential": [
            [
             0,
             "#0d0887"
            ],
            [
             0.1111111111111111,
             "#46039f"
            ],
            [
             0.2222222222222222,
             "#7201a8"
            ],
            [
             0.3333333333333333,
             "#9c179e"
            ],
            [
             0.4444444444444444,
             "#bd3786"
            ],
            [
             0.5555555555555556,
             "#d8576b"
            ],
            [
             0.6666666666666666,
             "#ed7953"
            ],
            [
             0.7777777777777778,
             "#fb9f3a"
            ],
            [
             0.8888888888888888,
             "#fdca26"
            ],
            [
             1,
             "#f0f921"
            ]
           ],
           "sequentialminus": [
            [
             0,
             "#0d0887"
            ],
            [
             0.1111111111111111,
             "#46039f"
            ],
            [
             0.2222222222222222,
             "#7201a8"
            ],
            [
             0.3333333333333333,
             "#9c179e"
            ],
            [
             0.4444444444444444,
             "#bd3786"
            ],
            [
             0.5555555555555556,
             "#d8576b"
            ],
            [
             0.6666666666666666,
             "#ed7953"
            ],
            [
             0.7777777777777778,
             "#fb9f3a"
            ],
            [
             0.8888888888888888,
             "#fdca26"
            ],
            [
             1,
             "#f0f921"
            ]
           ]
          },
          "colorway": [
           "#636efa",
           "#EF553B",
           "#00cc96",
           "#ab63fa",
           "#FFA15A",
           "#19d3f3",
           "#FF6692",
           "#B6E880",
           "#FF97FF",
           "#FECB52"
          ],
          "font": {
           "color": "#2a3f5f"
          },
          "geo": {
           "bgcolor": "white",
           "lakecolor": "white",
           "landcolor": "#E5ECF6",
           "showlakes": true,
           "showland": true,
           "subunitcolor": "white"
          },
          "hoverlabel": {
           "align": "left"
          },
          "hovermode": "closest",
          "mapbox": {
           "style": "light"
          },
          "paper_bgcolor": "white",
          "plot_bgcolor": "#E5ECF6",
          "polar": {
           "angularaxis": {
            "gridcolor": "white",
            "linecolor": "white",
            "ticks": ""
           },
           "bgcolor": "#E5ECF6",
           "radialaxis": {
            "gridcolor": "white",
            "linecolor": "white",
            "ticks": ""
           }
          },
          "scene": {
           "xaxis": {
            "backgroundcolor": "#E5ECF6",
            "gridcolor": "white",
            "gridwidth": 2,
            "linecolor": "white",
            "showbackground": true,
            "ticks": "",
            "zerolinecolor": "white"
           },
           "yaxis": {
            "backgroundcolor": "#E5ECF6",
            "gridcolor": "white",
            "gridwidth": 2,
            "linecolor": "white",
            "showbackground": true,
            "ticks": "",
            "zerolinecolor": "white"
           },
           "zaxis": {
            "backgroundcolor": "#E5ECF6",
            "gridcolor": "white",
            "gridwidth": 2,
            "linecolor": "white",
            "showbackground": true,
            "ticks": "",
            "zerolinecolor": "white"
           }
          },
          "shapedefaults": {
           "line": {
            "color": "#2a3f5f"
           }
          },
          "ternary": {
           "aaxis": {
            "gridcolor": "white",
            "linecolor": "white",
            "ticks": ""
           },
           "baxis": {
            "gridcolor": "white",
            "linecolor": "white",
            "ticks": ""
           },
           "bgcolor": "#E5ECF6",
           "caxis": {
            "gridcolor": "white",
            "linecolor": "white",
            "ticks": ""
           }
          },
          "title": {
           "x": 0.05
          },
          "xaxis": {
           "automargin": true,
           "gridcolor": "white",
           "linecolor": "white",
           "ticks": "",
           "title": {
            "standoff": 15
           },
           "zerolinecolor": "white",
           "zerolinewidth": 2
          },
          "yaxis": {
           "automargin": true,
           "gridcolor": "white",
           "linecolor": "white",
           "ticks": "",
           "title": {
            "standoff": 15
           },
           "zerolinecolor": "white",
           "zerolinewidth": 2
          }
         }
        },
        "title": {
         "text": "Count of sub-techniques per Data Component (Top 15)",
         "x": 0.5,
         "xanchor": "center",
         "y": 0.85
        }
       }
      }
     },
     "metadata": {}
    }
   ],
   "source": [
    "top15_data_component = enterprise_sub['data_component'].value_counts().nlargest(15)\n",
    "\n",
    "fig = go.Figure()\n",
    "fig.add_trace(go.Bar(y = top15_data_component.values.tolist(), x = top15_data_component.index.tolist(),orientation = 'v'))\n",
    "fig.update_layout(title = {'text':\"Count of sub-techniques per Data Component (Top 15)\",'y': 0.85,'x': 0.5,'xanchor':'center'})\n",
    "fig.show()"
   ]
  },
  {
   "cell_type": "markdown",
   "metadata": {},
   "source": [
    "## Use Case: OS Credential Dumping: LSASS Memory (T1003.001)"
   ]
  },
  {
   "cell_type": "markdown",
   "metadata": {},
   "source": [
    "### What are the recommended data sources?"
   ]
  },
  {
   "cell_type": "code",
   "execution_count": 5,
   "metadata": {},
   "outputs": [
    {
     "output_type": "execute_result",
     "data": {
      "text/plain": [
       "     data_source     data_component\n",
       "3448     process   process creation\n",
       "3455     process     process access\n",
       "3457     command  command execution\n",
       "3465     process   os api execution"
      ],
      "text/html": "<div>\n<style scoped>\n    .dataframe tbody tr th:only-of-type {\n        vertical-align: middle;\n    }\n\n    .dataframe tbody tr th {\n        vertical-align: top;\n    }\n\n    .dataframe thead th {\n        text-align: right;\n    }\n</style>\n<table border=\"1\" class=\"dataframe\">\n  <thead>\n    <tr style=\"text-align: right;\">\n      <th></th>\n      <th>data_source</th>\n      <th>data_component</th>\n    </tr>\n  </thead>\n  <tbody>\n    <tr>\n      <th>3448</th>\n      <td>process</td>\n      <td>process creation</td>\n    </tr>\n    <tr>\n      <th>3455</th>\n      <td>process</td>\n      <td>process access</td>\n    </tr>\n    <tr>\n      <th>3457</th>\n      <td>command</td>\n      <td>command execution</td>\n    </tr>\n    <tr>\n      <th>3465</th>\n      <td>process</td>\n      <td>os api execution</td>\n    </tr>\n  </tbody>\n</table>\n</div>"
     },
     "metadata": {},
     "execution_count": 5
    }
   ],
   "source": [
    "mapping[mapping['technique_id']=='T1003.001'][['data_source', 'data_component']].drop_duplicates()"
   ]
  },
  {
   "source": [
    "### What security events can we use to get more context about this technique?"
   ],
   "cell_type": "markdown",
   "metadata": {}
  },
  {
   "source": [
    "* Network Graph"
   ],
   "cell_type": "markdown",
   "metadata": {}
  },
  {
   "cell_type": "code",
   "execution_count": 40,
   "metadata": {},
   "outputs": [
    {
     "output_type": "display_data",
     "data": {
      "text/plain": "<Figure size 1080x720 with 1 Axes>",
      "image/svg+xml": "<?xml version=\"1.0\" encoding=\"utf-8\" standalone=\"no\"?>\n<!DOCTYPE svg PUBLIC \"-//W3C//DTD SVG 1.1//EN\"\n  \"http://www.w3.org/Graphics/SVG/1.1/DTD/svg11.dtd\">\n<svg height=\"558pt\" version=\"1.1\" viewBox=\"0 0 851.4 558\" width=\"851.4pt\" xmlns=\"http://www.w3.org/2000/svg\" xmlns:xlink=\"http://www.w3.org/1999/xlink\">\n <metadata>\n  <rdf:RDF xmlns:cc=\"http://creativecommons.org/ns#\" xmlns:dc=\"http://purl.org/dc/elements/1.1/\" xmlns:rdf=\"http://www.w3.org/1999/02/22-rdf-syntax-ns#\">\n   <cc:Work>\n    <dc:type rdf:resource=\"http://purl.org/dc/dcmitype/StillImage\"/>\n    <dc:date>2021-05-03T23:08:42.839706</dc:date>\n    <dc:format>image/svg+xml</dc:format>\n    <dc:creator>\n     <cc:Agent>\n      <dc:title>Matplotlib v3.4.1, https://matplotlib.org/</dc:title>\n     </cc:Agent>\n    </dc:creator>\n   </cc:Work>\n  </rdf:RDF>\n </metadata>\n <defs>\n  <style type=\"text/css\">*{stroke-linecap:butt;stroke-linejoin:round;}</style>\n </defs>\n <g id=\"figure_1\">\n  <g id=\"patch_1\">\n   <path d=\"M 0 558 \nL 851.4 558 \nL 851.4 0 \nL 0 0 \nz\n\" style=\"fill:#ffffff;\"/>\n  </g>\n  <g id=\"axes_1\">\n   <g id=\"LineCollection_1\">\n    <path clip-path=\"url(#p302e800dda)\" d=\"M 402.988658 179.975452 \nL 397.874434 314.894222 \n\" style=\"fill:none;stroke:#000000;\"/>\n    <path clip-path=\"url(#p302e800dda)\" d=\"M 402.988658 179.975452 \nL 505.915242 78.629139 \n\" style=\"fill:none;stroke:#000000;\"/>\n    <path clip-path=\"url(#p302e800dda)\" d=\"M 397.874434 314.894222 \nL 588.516921 245.517253 \n\" style=\"fill:none;stroke:#000000;\"/>\n    <path clip-path=\"url(#p302e800dda)\" d=\"M 397.874434 314.894222 \nL 181.654076 340.249722 \n\" style=\"fill:none;stroke:#000000;\"/>\n    <path clip-path=\"url(#p302e800dda)\" d=\"M 397.874434 314.894222 \nL 485.342771 450.27612 \n\" style=\"fill:none;stroke:#000000;\"/>\n    <path clip-path=\"url(#p302e800dda)\" d=\"M 505.915242 78.629139 \nL 676.845625 85.280021 \n\" style=\"fill:none;stroke:#000000;\"/>\n    <path clip-path=\"url(#p302e800dda)\" d=\"M 588.516921 245.517253 \nL 598.663647 139.840719 \n\" style=\"fill:none;stroke:#000000;\"/>\n    <path clip-path=\"url(#p302e800dda)\" d=\"M 588.516921 245.517253 \nL 730.453558 190.666993 \n\" style=\"fill:none;stroke:#000000;\"/>\n    <path clip-path=\"url(#p302e800dda)\" d=\"M 588.516921 245.517253 \nL 675.83088 164.821989 \n\" style=\"fill:none;stroke:#000000;\"/>\n    <path clip-path=\"url(#p302e800dda)\" d=\"M 588.516921 245.517253 \nL 625.022113 344.504968 \n\" style=\"fill:none;stroke:#000000;\"/>\n    <path clip-path=\"url(#p302e800dda)\" d=\"M 181.654076 340.249722 \nL 61.008243 403.837987 \n\" style=\"fill:none;stroke:#000000;\"/>\n    <path clip-path=\"url(#p302e800dda)\" d=\"M 181.654076 340.249722 \nL 45.245455 297.344944 \n\" style=\"fill:none;stroke:#000000;\"/>\n    <path clip-path=\"url(#p302e800dda)\" d=\"M 676.845625 85.280021 \nL 598.663647 139.840719 \n\" style=\"fill:none;stroke:#000000;\"/>\n    <path clip-path=\"url(#p302e800dda)\" d=\"M 676.845625 85.280021 \nL 730.453558 190.666993 \n\" style=\"fill:none;stroke:#000000;\"/>\n    <path clip-path=\"url(#p302e800dda)\" d=\"M 676.845625 85.280021 \nL 806.154545 31.909091 \n\" style=\"fill:none;stroke:#000000;\"/>\n    <path clip-path=\"url(#p302e800dda)\" d=\"M 676.845625 85.280021 \nL 675.83088 164.821989 \n\" style=\"fill:none;stroke:#000000;\"/>\n    <path clip-path=\"url(#p302e800dda)\" d=\"M 485.342771 450.27612 \nL 612.753208 526.090909 \n\" style=\"fill:none;stroke:#000000;\"/>\n   </g>\n   <g id=\"PathCollection_1\">\n    <path clip-path=\"url(#p302e800dda)\" d=\"M 402.988658 229.975452 \nC 416.248813 229.975452 428.967652 224.707137 438.343997 215.330791 \nC 447.720343 205.954446 452.988658 193.235607 452.988658 179.975452 \nC 452.988658 166.715297 447.720343 153.996459 438.343997 144.620113 \nC 428.967652 135.243768 416.248813 129.975452 402.988658 129.975452 \nC 389.728503 129.975452 377.009665 135.243768 367.633319 144.620113 \nC 358.256974 153.996459 352.988658 166.715297 352.988658 179.975452 \nC 352.988658 193.235607 358.256974 205.954446 367.633319 215.330791 \nC 377.009665 224.707137 389.728503 229.975452 402.988658 229.975452 \nz\n\" style=\"fill:#d3d3d3;stroke:#d3d3d3;\"/>\n    <path clip-path=\"url(#p302e800dda)\" d=\"M 397.874434 359.615581 \nC 409.734677 359.615581 421.110752 354.903457 429.49721 346.516998 \nC 437.883669 338.13054 442.595793 326.754465 442.595793 314.894222 \nC 442.595793 303.033979 437.883669 291.657904 429.49721 283.271445 \nC 421.110752 274.884987 409.734677 270.172862 397.874434 270.172862 \nC 386.014191 270.172862 374.638116 274.884987 366.251657 283.271445 \nC 357.865199 291.657904 353.153074 303.033979 353.153074 314.894222 \nC 353.153074 326.754465 357.865199 338.13054 366.251657 346.516998 \nC 374.638116 354.903457 386.014191 359.615581 397.874434 359.615581 \nz\n\" style=\"fill:#ffa500;stroke:#ffa500;\"/>\n    <path clip-path=\"url(#p302e800dda)\" d=\"M 505.915242 123.350498 \nC 517.775486 123.350498 529.151561 118.638374 537.538019 110.251915 \nC 545.924477 101.865457 550.636602 90.489382 550.636602 78.629139 \nC 550.636602 66.768895 545.924477 55.39282 537.538019 47.006362 \nC 529.151561 38.619904 517.775486 33.907779 505.915242 33.907779 \nC 494.054999 33.907779 482.678924 38.619904 474.292466 47.006362 \nC 465.906007 55.39282 461.193883 66.768895 461.193883 78.629139 \nC 461.193883 90.489382 465.906007 101.865457 474.292466 110.251915 \nC 482.678924 118.638374 494.054999 123.350498 505.915242 123.350498 \nz\n\" style=\"fill:#ffa500;stroke:#ffa500;\"/>\n    <path clip-path=\"url(#p302e800dda)\" d=\"M 588.516921 280.872592 \nC 597.893267 280.872592 606.886844 277.14733 613.516921 270.517253 \nC 620.146999 263.887175 623.87226 254.893598 623.87226 245.517253 \nC 623.87226 236.140907 620.146999 227.14733 613.516921 220.517253 \nC 606.886844 213.887175 597.893267 210.161914 588.516921 210.161914 \nC 579.140576 210.161914 570.146999 213.887175 563.516921 220.517253 \nC 556.886844 227.14733 553.161582 236.140907 553.161582 245.517253 \nC 553.161582 254.893598 556.886844 263.887175 563.516921 270.517253 \nC 570.146999 277.14733 579.140576 280.872592 588.516921 280.872592 \nz\n\" style=\"fill:#00ffff;stroke:#00ffff;\"/>\n    <path clip-path=\"url(#p302e800dda)\" d=\"M 181.654076 375.605061 \nC 191.030422 375.605061 200.023999 371.879799 206.654076 365.249722 \nC 213.284154 358.619644 217.009415 349.626067 217.009415 340.249722 \nC 217.009415 330.873376 213.284154 321.879799 206.654076 315.249722 \nC 200.023999 308.619644 191.030422 304.894383 181.654076 304.894383 \nC 172.277731 304.894383 163.284154 308.619644 156.654076 315.249722 \nC 150.023999 321.879799 146.298737 330.873376 146.298737 340.249722 \nC 146.298737 349.626067 150.023999 358.619644 156.654076 365.249722 \nC 163.284154 371.879799 172.277731 375.605061 181.654076 375.605061 \nz\n\" style=\"fill:#00ffff;stroke:#00ffff;\"/>\n    <path clip-path=\"url(#p302e800dda)\" d=\"M 676.845625 120.63536 \nC 686.221971 120.63536 695.215548 116.910098 701.845625 110.280021 \nC 708.475703 103.649943 712.200964 94.656366 712.200964 85.280021 \nC 712.200964 75.903675 708.475703 66.910098 701.845625 60.280021 \nC 695.215548 53.649943 686.221971 49.924681 676.845625 49.924681 \nC 667.46928 49.924681 658.475703 53.649943 651.845625 60.280021 \nC 645.215548 66.910098 641.490286 75.903675 641.490286 85.280021 \nC 641.490286 94.656366 645.215548 103.649943 651.845625 110.280021 \nC 658.475703 116.910098 667.46928 120.63536 676.845625 120.63536 \nz\n\" style=\"fill:#00ffff;stroke:#00ffff;\"/>\n    <path clip-path=\"url(#p302e800dda)\" d=\"M 485.342771 485.631459 \nC 494.719117 485.631459 503.712694 481.906197 510.342771 475.27612 \nC 516.972849 468.646042 520.698111 459.652465 520.698111 450.27612 \nC 520.698111 440.899774 516.972849 431.906197 510.342771 425.27612 \nC 503.712694 418.646042 494.719117 414.920781 485.342771 414.920781 \nC 475.966426 414.920781 466.972849 418.646042 460.342771 425.27612 \nC 453.712694 431.906197 449.987432 440.899774 449.987432 450.27612 \nC 449.987432 459.652465 453.712694 468.646042 460.342771 475.27612 \nC 466.972849 481.906197 475.966426 485.631459 485.342771 485.631459 \nz\n\" style=\"fill:#00ffff;stroke:#00ffff;\"/>\n    <path clip-path=\"url(#p302e800dda)\" d=\"M 598.663647 162.201399 \nC 604.593769 162.201399 610.281806 159.845337 614.475036 155.652108 \nC 618.668265 151.458878 621.024327 145.770841 621.024327 139.840719 \nC 621.024327 133.910598 618.668265 128.22256 614.475036 124.029331 \nC 610.281806 119.836102 604.593769 117.480039 598.663647 117.480039 \nC 592.733526 117.480039 587.045488 119.836102 582.852259 124.029331 \nC 578.65903 128.22256 576.302968 133.910598 576.302968 139.840719 \nC 576.302968 145.770841 578.65903 151.458878 582.852259 155.652108 \nC 587.045488 159.845337 592.733526 162.201399 598.663647 162.201399 \nz\n\" style=\"fill:#ffd700;stroke:#ffd700;\"/>\n    <path clip-path=\"url(#p302e800dda)\" d=\"M 730.453558 213.027672 \nC 736.383679 213.027672 742.071717 210.67161 746.264946 206.478381 \nC 750.458175 202.285152 752.814237 196.597114 752.814237 190.666993 \nC 752.814237 184.736871 750.458175 179.048834 746.264946 174.855604 \nC 742.071717 170.662375 736.383679 168.306313 730.453558 168.306313 \nC 724.523436 168.306313 718.835399 170.662375 714.642169 174.855604 \nC 710.44894 179.048834 708.092878 184.736871 708.092878 190.666993 \nC 708.092878 196.597114 710.44894 202.285152 714.642169 206.478381 \nC 718.835399 210.67161 724.523436 213.027672 730.453558 213.027672 \nz\n\" style=\"fill:#ffd700;stroke:#ffd700;\"/>\n    <path clip-path=\"url(#p302e800dda)\" d=\"M 675.83088 187.182669 \nC 681.761002 187.182669 687.449039 184.826606 691.642269 180.633377 \nC 695.835498 176.440148 698.19156 170.752111 698.19156 164.821989 \nC 698.19156 158.891867 695.835498 153.20383 691.642269 149.010601 \nC 687.449039 144.817372 681.761002 142.461309 675.83088 142.461309 \nC 669.900759 142.461309 664.212721 144.817372 660.019492 149.010601 \nC 655.826263 153.20383 653.4702 158.891867 653.4702 164.821989 \nC 653.4702 170.752111 655.826263 176.440148 660.019492 180.633377 \nC 664.212721 184.826606 669.900759 187.182669 675.83088 187.182669 \nz\n\" style=\"fill:#ffd700;stroke:#ffd700;\"/>\n    <path clip-path=\"url(#p302e800dda)\" d=\"M 625.022113 366.865648 \nC 630.952234 366.865648 636.640272 364.509585 640.833501 360.316356 \nC 645.02673 356.123127 647.382792 350.435089 647.382792 344.504968 \nC 647.382792 338.574846 645.02673 332.886809 640.833501 328.69358 \nC 636.640272 324.50035 630.952234 322.144288 625.022113 322.144288 \nC 619.091991 322.144288 613.403953 324.50035 609.210724 328.69358 \nC 605.017495 332.886809 602.661433 338.574846 602.661433 344.504968 \nC 602.661433 350.435089 605.017495 356.123127 609.210724 360.316356 \nC 613.403953 364.509585 619.091991 366.865648 625.022113 366.865648 \nz\n\" style=\"fill:#ffd700;stroke:#ffd700;\"/>\n    <path clip-path=\"url(#p302e800dda)\" d=\"M 61.008243 426.198667 \nC 66.938364 426.198667 72.626402 423.842604 76.819631 419.649375 \nC 81.01286 415.456146 83.368923 409.768108 83.368923 403.837987 \nC 83.368923 397.907865 81.01286 392.219828 76.819631 388.026598 \nC 72.626402 383.833369 66.938364 381.477307 61.008243 381.477307 \nC 55.078121 381.477307 49.390084 383.833369 45.196855 388.026598 \nC 41.003625 392.219828 38.647563 397.907865 38.647563 403.837987 \nC 38.647563 409.768108 41.003625 415.456146 45.196855 419.649375 \nC 49.390084 423.842604 55.078121 426.198667 61.008243 426.198667 \nz\n\" style=\"fill:#ffd700;stroke:#ffd700;\"/>\n    <path clip-path=\"url(#p302e800dda)\" d=\"M 45.245455 319.705624 \nC 51.175576 319.705624 56.863614 317.349562 61.056843 313.156333 \nC 65.250072 308.963103 67.606134 303.275066 67.606134 297.344944 \nC 67.606134 291.414823 65.250072 285.726785 61.056843 281.533556 \nC 56.863614 277.340327 51.175576 274.984265 45.245455 274.984265 \nC 39.315333 274.984265 33.627295 277.340327 29.434066 281.533556 \nC 25.240837 285.726785 22.884775 291.414823 22.884775 297.344944 \nC 22.884775 303.275066 25.240837 308.963103 29.434066 313.156333 \nC 33.627295 317.349562 39.315333 319.705624 45.245455 319.705624 \nz\n\" style=\"fill:#ffd700;stroke:#ffd700;\"/>\n    <path clip-path=\"url(#p302e800dda)\" d=\"M 806.154545 54.269771 \nC 812.084667 54.269771 817.772705 51.913708 821.965934 47.720479 \nC 826.159163 43.52725 828.515225 37.839213 828.515225 31.909091 \nC 828.515225 25.978969 826.159163 20.290932 821.965934 16.097703 \nC 817.772705 11.904473 812.084667 9.548411 806.154545 9.548411 \nC 800.224424 9.548411 794.536386 11.904473 790.343157 16.097703 \nC 786.149928 20.290932 783.793866 25.978969 783.793866 31.909091 \nC 783.793866 37.839213 786.149928 43.52725 790.343157 47.720479 \nC 794.536386 51.913708 800.224424 54.269771 806.154545 54.269771 \nz\n\" style=\"fill:#ffd700;stroke:#ffd700;\"/>\n    <path clip-path=\"url(#p302e800dda)\" d=\"M 612.753208 548.451589 \nC 618.683329 548.451589 624.371367 546.095527 628.564596 541.902297 \nC 632.757825 537.709068 635.113888 532.021031 635.113888 526.090909 \nC 635.113888 520.160787 632.757825 514.47275 628.564596 510.279521 \nC 624.371367 506.086292 618.683329 503.730229 612.753208 503.730229 \nC 606.823086 503.730229 601.135049 506.086292 596.94182 510.279521 \nC 592.74859 514.47275 590.392528 520.160787 590.392528 526.090909 \nC 590.392528 532.021031 592.74859 537.709068 596.94182 541.902297 \nC 601.135049 546.095527 606.823086 548.451589 612.753208 548.451589 \nz\n\" style=\"fill:#00ff00;stroke:#00ff00;\"/>\n   </g>\n   <g id=\"text_1\">\n    <g clip-path=\"url(#p302e800dda)\">\n     <!-- LSASS Memory -->\n     <g transform=\"translate(346.368346 184.114515)scale(0.15 -0.15)\">\n      <defs>\n       <path d=\"M 628 4666 \nL 1259 4666 \nL 1259 531 \nL 3531 531 \nL 3531 0 \nL 628 0 \nL 628 4666 \nz\n\" id=\"DejaVuSans-4c\" transform=\"scale(0.015625)\"/>\n       <path d=\"M 3425 4513 \nL 3425 3897 \nQ 3066 4069 2747 4153 \nQ 2428 4238 2131 4238 \nQ 1616 4238 1336 4038 \nQ 1056 3838 1056 3469 \nQ 1056 3159 1242 3001 \nQ 1428 2844 1947 2747 \nL 2328 2669 \nQ 3034 2534 3370 2195 \nQ 3706 1856 3706 1288 \nQ 3706 609 3251 259 \nQ 2797 -91 1919 -91 \nQ 1588 -91 1214 -16 \nQ 841 59 441 206 \nL 441 856 \nQ 825 641 1194 531 \nQ 1563 422 1919 422 \nQ 2459 422 2753 634 \nQ 3047 847 3047 1241 \nQ 3047 1584 2836 1778 \nQ 2625 1972 2144 2069 \nL 1759 2144 \nQ 1053 2284 737 2584 \nQ 422 2884 422 3419 \nQ 422 4038 858 4394 \nQ 1294 4750 2059 4750 \nQ 2388 4750 2728 4690 \nQ 3069 4631 3425 4513 \nz\n\" id=\"DejaVuSans-53\" transform=\"scale(0.015625)\"/>\n       <path d=\"M 2188 4044 \nL 1331 1722 \nL 3047 1722 \nL 2188 4044 \nz\nM 1831 4666 \nL 2547 4666 \nL 4325 0 \nL 3669 0 \nL 3244 1197 \nL 1141 1197 \nL 716 0 \nL 50 0 \nL 1831 4666 \nz\n\" id=\"DejaVuSans-41\" transform=\"scale(0.015625)\"/>\n       <path id=\"DejaVuSans-20\" transform=\"scale(0.015625)\"/>\n       <path d=\"M 628 4666 \nL 1569 4666 \nL 2759 1491 \nL 3956 4666 \nL 4897 4666 \nL 4897 0 \nL 4281 0 \nL 4281 4097 \nL 3078 897 \nL 2444 897 \nL 1241 4097 \nL 1241 0 \nL 628 0 \nL 628 4666 \nz\n\" id=\"DejaVuSans-4d\" transform=\"scale(0.015625)\"/>\n       <path d=\"M 3597 1894 \nL 3597 1613 \nL 953 1613 \nQ 991 1019 1311 708 \nQ 1631 397 2203 397 \nQ 2534 397 2845 478 \nQ 3156 559 3463 722 \nL 3463 178 \nQ 3153 47 2828 -22 \nQ 2503 -91 2169 -91 \nQ 1331 -91 842 396 \nQ 353 884 353 1716 \nQ 353 2575 817 3079 \nQ 1281 3584 2069 3584 \nQ 2775 3584 3186 3129 \nQ 3597 2675 3597 1894 \nz\nM 3022 2063 \nQ 3016 2534 2758 2815 \nQ 2500 3097 2075 3097 \nQ 1594 3097 1305 2825 \nQ 1016 2553 972 2059 \nL 3022 2063 \nz\n\" id=\"DejaVuSans-65\" transform=\"scale(0.015625)\"/>\n       <path d=\"M 3328 2828 \nQ 3544 3216 3844 3400 \nQ 4144 3584 4550 3584 \nQ 5097 3584 5394 3201 \nQ 5691 2819 5691 2113 \nL 5691 0 \nL 5113 0 \nL 5113 2094 \nQ 5113 2597 4934 2840 \nQ 4756 3084 4391 3084 \nQ 3944 3084 3684 2787 \nQ 3425 2491 3425 1978 \nL 3425 0 \nL 2847 0 \nL 2847 2094 \nQ 2847 2600 2669 2842 \nQ 2491 3084 2119 3084 \nQ 1678 3084 1418 2786 \nQ 1159 2488 1159 1978 \nL 1159 0 \nL 581 0 \nL 581 3500 \nL 1159 3500 \nL 1159 2956 \nQ 1356 3278 1631 3431 \nQ 1906 3584 2284 3584 \nQ 2666 3584 2933 3390 \nQ 3200 3197 3328 2828 \nz\n\" id=\"DejaVuSans-6d\" transform=\"scale(0.015625)\"/>\n       <path d=\"M 1959 3097 \nQ 1497 3097 1228 2736 \nQ 959 2375 959 1747 \nQ 959 1119 1226 758 \nQ 1494 397 1959 397 \nQ 2419 397 2687 759 \nQ 2956 1122 2956 1747 \nQ 2956 2369 2687 2733 \nQ 2419 3097 1959 3097 \nz\nM 1959 3584 \nQ 2709 3584 3137 3096 \nQ 3566 2609 3566 1747 \nQ 3566 888 3137 398 \nQ 2709 -91 1959 -91 \nQ 1206 -91 779 398 \nQ 353 888 353 1747 \nQ 353 2609 779 3096 \nQ 1206 3584 1959 3584 \nz\n\" id=\"DejaVuSans-6f\" transform=\"scale(0.015625)\"/>\n       <path d=\"M 2631 2963 \nQ 2534 3019 2420 3045 \nQ 2306 3072 2169 3072 \nQ 1681 3072 1420 2755 \nQ 1159 2438 1159 1844 \nL 1159 0 \nL 581 0 \nL 581 3500 \nL 1159 3500 \nL 1159 2956 \nQ 1341 3275 1631 3429 \nQ 1922 3584 2338 3584 \nQ 2397 3584 2469 3576 \nQ 2541 3569 2628 3553 \nL 2631 2963 \nz\n\" id=\"DejaVuSans-72\" transform=\"scale(0.015625)\"/>\n       <path d=\"M 2059 -325 \nQ 1816 -950 1584 -1140 \nQ 1353 -1331 966 -1331 \nL 506 -1331 \nL 506 -850 \nL 844 -850 \nQ 1081 -850 1212 -737 \nQ 1344 -625 1503 -206 \nL 1606 56 \nL 191 3500 \nL 800 3500 \nL 1894 763 \nL 2988 3500 \nL 3597 3500 \nL 2059 -325 \nz\n\" id=\"DejaVuSans-79\" transform=\"scale(0.015625)\"/>\n      </defs>\n      <use xlink:href=\"#DejaVuSans-4c\"/>\n      <use x=\"55.712891\" xlink:href=\"#DejaVuSans-53\"/>\n      <use x=\"121.064453\" xlink:href=\"#DejaVuSans-41\"/>\n      <use x=\"189.472656\" xlink:href=\"#DejaVuSans-53\"/>\n      <use x=\"252.949219\" xlink:href=\"#DejaVuSans-53\"/>\n      <use x=\"316.425781\" xlink:href=\"#DejaVuSans-20\"/>\n      <use x=\"348.212891\" xlink:href=\"#DejaVuSans-4d\"/>\n      <use x=\"434.492188\" xlink:href=\"#DejaVuSans-65\"/>\n      <use x=\"496.015625\" xlink:href=\"#DejaVuSans-6d\"/>\n      <use x=\"593.427734\" xlink:href=\"#DejaVuSans-6f\"/>\n      <use x=\"654.609375\" xlink:href=\"#DejaVuSans-72\"/>\n      <use x=\"695.722656\" xlink:href=\"#DejaVuSans-79\"/>\n     </g>\n    </g>\n   </g>\n   <g id=\"text_2\">\n    <g clip-path=\"url(#p302e800dda)\">\n     <!-- process -->\n     <g transform=\"translate(369.056856 319.033284)scale(0.15 -0.15)\">\n      <defs>\n       <path d=\"M 1159 525 \nL 1159 -1331 \nL 581 -1331 \nL 581 3500 \nL 1159 3500 \nL 1159 2969 \nQ 1341 3281 1617 3432 \nQ 1894 3584 2278 3584 \nQ 2916 3584 3314 3078 \nQ 3713 2572 3713 1747 \nQ 3713 922 3314 415 \nQ 2916 -91 2278 -91 \nQ 1894 -91 1617 61 \nQ 1341 213 1159 525 \nz\nM 3116 1747 \nQ 3116 2381 2855 2742 \nQ 2594 3103 2138 3103 \nQ 1681 3103 1420 2742 \nQ 1159 2381 1159 1747 \nQ 1159 1113 1420 752 \nQ 1681 391 2138 391 \nQ 2594 391 2855 752 \nQ 3116 1113 3116 1747 \nz\n\" id=\"DejaVuSans-70\" transform=\"scale(0.015625)\"/>\n       <path d=\"M 3122 3366 \nL 3122 2828 \nQ 2878 2963 2633 3030 \nQ 2388 3097 2138 3097 \nQ 1578 3097 1268 2742 \nQ 959 2388 959 1747 \nQ 959 1106 1268 751 \nQ 1578 397 2138 397 \nQ 2388 397 2633 464 \nQ 2878 531 3122 666 \nL 3122 134 \nQ 2881 22 2623 -34 \nQ 2366 -91 2075 -91 \nQ 1284 -91 818 406 \nQ 353 903 353 1747 \nQ 353 2603 823 3093 \nQ 1294 3584 2113 3584 \nQ 2378 3584 2631 3529 \nQ 2884 3475 3122 3366 \nz\n\" id=\"DejaVuSans-63\" transform=\"scale(0.015625)\"/>\n       <path d=\"M 2834 3397 \nL 2834 2853 \nQ 2591 2978 2328 3040 \nQ 2066 3103 1784 3103 \nQ 1356 3103 1142 2972 \nQ 928 2841 928 2578 \nQ 928 2378 1081 2264 \nQ 1234 2150 1697 2047 \nL 1894 2003 \nQ 2506 1872 2764 1633 \nQ 3022 1394 3022 966 \nQ 3022 478 2636 193 \nQ 2250 -91 1575 -91 \nQ 1294 -91 989 -36 \nQ 684 19 347 128 \nL 347 722 \nQ 666 556 975 473 \nQ 1284 391 1588 391 \nQ 1994 391 2212 530 \nQ 2431 669 2431 922 \nQ 2431 1156 2273 1281 \nQ 2116 1406 1581 1522 \nL 1381 1569 \nQ 847 1681 609 1914 \nQ 372 2147 372 2553 \nQ 372 3047 722 3315 \nQ 1072 3584 1716 3584 \nQ 2034 3584 2315 3537 \nQ 2597 3491 2834 3397 \nz\n\" id=\"DejaVuSans-73\" transform=\"scale(0.015625)\"/>\n      </defs>\n      <use xlink:href=\"#DejaVuSans-70\"/>\n      <use x=\"63.476562\" xlink:href=\"#DejaVuSans-72\"/>\n      <use x=\"102.339844\" xlink:href=\"#DejaVuSans-6f\"/>\n      <use x=\"163.521484\" xlink:href=\"#DejaVuSans-63\"/>\n      <use x=\"218.501953\" xlink:href=\"#DejaVuSans-65\"/>\n      <use x=\"280.025391\" xlink:href=\"#DejaVuSans-73\"/>\n      <use x=\"332.125\" xlink:href=\"#DejaVuSans-73\"/>\n     </g>\n    </g>\n   </g>\n   <g id=\"text_3\">\n    <g clip-path=\"url(#p302e800dda)\">\n     <!-- command -->\n     <g transform=\"translate(468.480867 82.768201)scale(0.15 -0.15)\">\n      <defs>\n       <path d=\"M 2194 1759 \nQ 1497 1759 1228 1600 \nQ 959 1441 959 1056 \nQ 959 750 1161 570 \nQ 1363 391 1709 391 \nQ 2188 391 2477 730 \nQ 2766 1069 2766 1631 \nL 2766 1759 \nL 2194 1759 \nz\nM 3341 1997 \nL 3341 0 \nL 2766 0 \nL 2766 531 \nQ 2569 213 2275 61 \nQ 1981 -91 1556 -91 \nQ 1019 -91 701 211 \nQ 384 513 384 1019 \nQ 384 1609 779 1909 \nQ 1175 2209 1959 2209 \nL 2766 2209 \nL 2766 2266 \nQ 2766 2663 2505 2880 \nQ 2244 3097 1772 3097 \nQ 1472 3097 1187 3025 \nQ 903 2953 641 2809 \nL 641 3341 \nQ 956 3463 1253 3523 \nQ 1550 3584 1831 3584 \nQ 2591 3584 2966 3190 \nQ 3341 2797 3341 1997 \nz\n\" id=\"DejaVuSans-61\" transform=\"scale(0.015625)\"/>\n       <path d=\"M 3513 2113 \nL 3513 0 \nL 2938 0 \nL 2938 2094 \nQ 2938 2591 2744 2837 \nQ 2550 3084 2163 3084 \nQ 1697 3084 1428 2787 \nQ 1159 2491 1159 1978 \nL 1159 0 \nL 581 0 \nL 581 3500 \nL 1159 3500 \nL 1159 2956 \nQ 1366 3272 1645 3428 \nQ 1925 3584 2291 3584 \nQ 2894 3584 3203 3211 \nQ 3513 2838 3513 2113 \nz\n\" id=\"DejaVuSans-6e\" transform=\"scale(0.015625)\"/>\n       <path d=\"M 2906 2969 \nL 2906 4863 \nL 3481 4863 \nL 3481 0 \nL 2906 0 \nL 2906 525 \nQ 2725 213 2448 61 \nQ 2172 -91 1784 -91 \nQ 1150 -91 751 415 \nQ 353 922 353 1747 \nQ 353 2572 751 3078 \nQ 1150 3584 1784 3584 \nQ 2172 3584 2448 3432 \nQ 2725 3281 2906 2969 \nz\nM 947 1747 \nQ 947 1113 1208 752 \nQ 1469 391 1925 391 \nQ 2381 391 2643 752 \nQ 2906 1113 2906 1747 \nQ 2906 2381 2643 2742 \nQ 2381 3103 1925 3103 \nQ 1469 3103 1208 2742 \nQ 947 2381 947 1747 \nz\n\" id=\"DejaVuSans-64\" transform=\"scale(0.015625)\"/>\n      </defs>\n      <use xlink:href=\"#DejaVuSans-63\"/>\n      <use x=\"54.980469\" xlink:href=\"#DejaVuSans-6f\"/>\n      <use x=\"116.162109\" xlink:href=\"#DejaVuSans-6d\"/>\n      <use x=\"213.574219\" xlink:href=\"#DejaVuSans-6d\"/>\n      <use x=\"310.986328\" xlink:href=\"#DejaVuSans-61\"/>\n      <use x=\"372.265625\" xlink:href=\"#DejaVuSans-6e\"/>\n      <use x=\"435.644531\" xlink:href=\"#DejaVuSans-64\"/>\n     </g>\n    </g>\n   </g>\n   <g id=\"text_4\">\n    <g clip-path=\"url(#p302e800dda)\">\n     <!-- process creation -->\n     <g transform=\"translate(526.700515 249.656315)scale(0.15 -0.15)\">\n      <defs>\n       <path d=\"M 1172 4494 \nL 1172 3500 \nL 2356 3500 \nL 2356 3053 \nL 1172 3053 \nL 1172 1153 \nQ 1172 725 1289 603 \nQ 1406 481 1766 481 \nL 2356 481 \nL 2356 0 \nL 1766 0 \nQ 1100 0 847 248 \nQ 594 497 594 1153 \nL 594 3053 \nL 172 3053 \nL 172 3500 \nL 594 3500 \nL 594 4494 \nL 1172 4494 \nz\n\" id=\"DejaVuSans-74\" transform=\"scale(0.015625)\"/>\n       <path d=\"M 603 3500 \nL 1178 3500 \nL 1178 0 \nL 603 0 \nL 603 3500 \nz\nM 603 4863 \nL 1178 4863 \nL 1178 4134 \nL 603 4134 \nL 603 4863 \nz\n\" id=\"DejaVuSans-69\" transform=\"scale(0.015625)\"/>\n      </defs>\n      <use xlink:href=\"#DejaVuSans-70\"/>\n      <use x=\"63.476562\" xlink:href=\"#DejaVuSans-72\"/>\n      <use x=\"102.339844\" xlink:href=\"#DejaVuSans-6f\"/>\n      <use x=\"163.521484\" xlink:href=\"#DejaVuSans-63\"/>\n      <use x=\"218.501953\" xlink:href=\"#DejaVuSans-65\"/>\n      <use x=\"280.025391\" xlink:href=\"#DejaVuSans-73\"/>\n      <use x=\"332.125\" xlink:href=\"#DejaVuSans-73\"/>\n      <use x=\"384.224609\" xlink:href=\"#DejaVuSans-20\"/>\n      <use x=\"416.011719\" xlink:href=\"#DejaVuSans-63\"/>\n      <use x=\"470.992188\" xlink:href=\"#DejaVuSans-72\"/>\n      <use x=\"509.855469\" xlink:href=\"#DejaVuSans-65\"/>\n      <use x=\"571.378906\" xlink:href=\"#DejaVuSans-61\"/>\n      <use x=\"632.658203\" xlink:href=\"#DejaVuSans-74\"/>\n      <use x=\"671.867188\" xlink:href=\"#DejaVuSans-69\"/>\n      <use x=\"699.650391\" xlink:href=\"#DejaVuSans-6f\"/>\n      <use x=\"760.832031\" xlink:href=\"#DejaVuSans-6e\"/>\n     </g>\n    </g>\n   </g>\n   <g id=\"text_5\">\n    <g clip-path=\"url(#p302e800dda)\">\n     <!-- process access -->\n     <g transform=\"translate(125.180248 344.388784)scale(0.15 -0.15)\">\n      <use xlink:href=\"#DejaVuSans-70\"/>\n      <use x=\"63.476562\" xlink:href=\"#DejaVuSans-72\"/>\n      <use x=\"102.339844\" xlink:href=\"#DejaVuSans-6f\"/>\n      <use x=\"163.521484\" xlink:href=\"#DejaVuSans-63\"/>\n      <use x=\"218.501953\" xlink:href=\"#DejaVuSans-65\"/>\n      <use x=\"280.025391\" xlink:href=\"#DejaVuSans-73\"/>\n      <use x=\"332.125\" xlink:href=\"#DejaVuSans-73\"/>\n      <use x=\"384.224609\" xlink:href=\"#DejaVuSans-20\"/>\n      <use x=\"416.011719\" xlink:href=\"#DejaVuSans-61\"/>\n      <use x=\"477.291016\" xlink:href=\"#DejaVuSans-63\"/>\n      <use x=\"532.271484\" xlink:href=\"#DejaVuSans-63\"/>\n      <use x=\"587.251953\" xlink:href=\"#DejaVuSans-65\"/>\n      <use x=\"648.775391\" xlink:href=\"#DejaVuSans-73\"/>\n      <use x=\"700.875\" xlink:href=\"#DejaVuSans-73\"/>\n     </g>\n    </g>\n   </g>\n   <g id=\"text_6\">\n    <g clip-path=\"url(#p302e800dda)\">\n     <!-- command execution -->\n     <g transform=\"translate(600.481563 89.419083)scale(0.15 -0.15)\">\n      <defs>\n       <path d=\"M 3513 3500 \nL 2247 1797 \nL 3578 0 \nL 2900 0 \nL 1881 1375 \nL 863 0 \nL 184 0 \nL 1544 1831 \nL 300 3500 \nL 978 3500 \nL 1906 2253 \nL 2834 3500 \nL 3513 3500 \nz\n\" id=\"DejaVuSans-78\" transform=\"scale(0.015625)\"/>\n       <path d=\"M 544 1381 \nL 544 3500 \nL 1119 3500 \nL 1119 1403 \nQ 1119 906 1312 657 \nQ 1506 409 1894 409 \nQ 2359 409 2629 706 \nQ 2900 1003 2900 1516 \nL 2900 3500 \nL 3475 3500 \nL 3475 0 \nL 2900 0 \nL 2900 538 \nQ 2691 219 2414 64 \nQ 2138 -91 1772 -91 \nQ 1169 -91 856 284 \nQ 544 659 544 1381 \nz\nM 1991 3584 \nL 1991 3584 \nz\n\" id=\"DejaVuSans-75\" transform=\"scale(0.015625)\"/>\n      </defs>\n      <use xlink:href=\"#DejaVuSans-63\"/>\n      <use x=\"54.980469\" xlink:href=\"#DejaVuSans-6f\"/>\n      <use x=\"116.162109\" xlink:href=\"#DejaVuSans-6d\"/>\n      <use x=\"213.574219\" xlink:href=\"#DejaVuSans-6d\"/>\n      <use x=\"310.986328\" xlink:href=\"#DejaVuSans-61\"/>\n      <use x=\"372.265625\" xlink:href=\"#DejaVuSans-6e\"/>\n      <use x=\"435.644531\" xlink:href=\"#DejaVuSans-64\"/>\n      <use x=\"499.121094\" xlink:href=\"#DejaVuSans-20\"/>\n      <use x=\"530.908203\" xlink:href=\"#DejaVuSans-65\"/>\n      <use x=\"590.681641\" xlink:href=\"#DejaVuSans-78\"/>\n      <use x=\"646.736328\" xlink:href=\"#DejaVuSans-65\"/>\n      <use x=\"708.259766\" xlink:href=\"#DejaVuSans-63\"/>\n      <use x=\"763.240234\" xlink:href=\"#DejaVuSans-75\"/>\n      <use x=\"826.619141\" xlink:href=\"#DejaVuSans-74\"/>\n      <use x=\"865.828125\" xlink:href=\"#DejaVuSans-69\"/>\n      <use x=\"893.611328\" xlink:href=\"#DejaVuSans-6f\"/>\n      <use x=\"954.792969\" xlink:href=\"#DejaVuSans-6e\"/>\n     </g>\n    </g>\n   </g>\n   <g id=\"text_7\">\n    <g clip-path=\"url(#p302e800dda)\">\n     <!-- os api execution -->\n     <g transform=\"translate(424.092381 454.415182)scale(0.15 -0.15)\">\n      <use xlink:href=\"#DejaVuSans-6f\"/>\n      <use x=\"61.181641\" xlink:href=\"#DejaVuSans-73\"/>\n      <use x=\"113.28125\" xlink:href=\"#DejaVuSans-20\"/>\n      <use x=\"145.068359\" xlink:href=\"#DejaVuSans-61\"/>\n      <use x=\"206.347656\" xlink:href=\"#DejaVuSans-70\"/>\n      <use x=\"269.824219\" xlink:href=\"#DejaVuSans-69\"/>\n      <use x=\"297.607422\" xlink:href=\"#DejaVuSans-20\"/>\n      <use x=\"329.394531\" xlink:href=\"#DejaVuSans-65\"/>\n      <use x=\"389.167969\" xlink:href=\"#DejaVuSans-78\"/>\n      <use x=\"445.222656\" xlink:href=\"#DejaVuSans-65\"/>\n      <use x=\"506.746094\" xlink:href=\"#DejaVuSans-63\"/>\n      <use x=\"561.726562\" xlink:href=\"#DejaVuSans-75\"/>\n      <use x=\"625.105469\" xlink:href=\"#DejaVuSans-74\"/>\n      <use x=\"664.314453\" xlink:href=\"#DejaVuSans-69\"/>\n      <use x=\"692.097656\" xlink:href=\"#DejaVuSans-6f\"/>\n      <use x=\"753.279297\" xlink:href=\"#DejaVuSans-6e\"/>\n     </g>\n    </g>\n   </g>\n   <g id=\"text_8\">\n    <g clip-path=\"url(#p302e800dda)\">\n     <!-- 4688 -->\n     <g transform=\"translate(579.576147 143.979782)scale(0.15 -0.15)\">\n      <defs>\n       <path d=\"M 2419 4116 \nL 825 1625 \nL 2419 1625 \nL 2419 4116 \nz\nM 2253 4666 \nL 3047 4666 \nL 3047 1625 \nL 3713 1625 \nL 3713 1100 \nL 3047 1100 \nL 3047 0 \nL 2419 0 \nL 2419 1100 \nL 313 1100 \nL 313 1709 \nL 2253 4666 \nz\n\" id=\"DejaVuSans-34\" transform=\"scale(0.015625)\"/>\n       <path d=\"M 2113 2584 \nQ 1688 2584 1439 2293 \nQ 1191 2003 1191 1497 \nQ 1191 994 1439 701 \nQ 1688 409 2113 409 \nQ 2538 409 2786 701 \nQ 3034 994 3034 1497 \nQ 3034 2003 2786 2293 \nQ 2538 2584 2113 2584 \nz\nM 3366 4563 \nL 3366 3988 \nQ 3128 4100 2886 4159 \nQ 2644 4219 2406 4219 \nQ 1781 4219 1451 3797 \nQ 1122 3375 1075 2522 \nQ 1259 2794 1537 2939 \nQ 1816 3084 2150 3084 \nQ 2853 3084 3261 2657 \nQ 3669 2231 3669 1497 \nQ 3669 778 3244 343 \nQ 2819 -91 2113 -91 \nQ 1303 -91 875 529 \nQ 447 1150 447 2328 \nQ 447 3434 972 4092 \nQ 1497 4750 2381 4750 \nQ 2619 4750 2861 4703 \nQ 3103 4656 3366 4563 \nz\n\" id=\"DejaVuSans-36\" transform=\"scale(0.015625)\"/>\n       <path d=\"M 2034 2216 \nQ 1584 2216 1326 1975 \nQ 1069 1734 1069 1313 \nQ 1069 891 1326 650 \nQ 1584 409 2034 409 \nQ 2484 409 2743 651 \nQ 3003 894 3003 1313 \nQ 3003 1734 2745 1975 \nQ 2488 2216 2034 2216 \nz\nM 1403 2484 \nQ 997 2584 770 2862 \nQ 544 3141 544 3541 \nQ 544 4100 942 4425 \nQ 1341 4750 2034 4750 \nQ 2731 4750 3128 4425 \nQ 3525 4100 3525 3541 \nQ 3525 3141 3298 2862 \nQ 3072 2584 2669 2484 \nQ 3125 2378 3379 2068 \nQ 3634 1759 3634 1313 \nQ 3634 634 3220 271 \nQ 2806 -91 2034 -91 \nQ 1263 -91 848 271 \nQ 434 634 434 1313 \nQ 434 1759 690 2068 \nQ 947 2378 1403 2484 \nz\nM 1172 3481 \nQ 1172 3119 1398 2916 \nQ 1625 2713 2034 2713 \nQ 2441 2713 2670 2916 \nQ 2900 3119 2900 3481 \nQ 2900 3844 2670 4047 \nQ 2441 4250 2034 4250 \nQ 1625 4250 1398 4047 \nQ 1172 3844 1172 3481 \nz\n\" id=\"DejaVuSans-38\" transform=\"scale(0.015625)\"/>\n      </defs>\n      <use xlink:href=\"#DejaVuSans-34\"/>\n      <use x=\"63.623047\" xlink:href=\"#DejaVuSans-36\"/>\n      <use x=\"127.246094\" xlink:href=\"#DejaVuSans-38\"/>\n      <use x=\"190.869141\" xlink:href=\"#DejaVuSans-38\"/>\n     </g>\n    </g>\n   </g>\n   <g id=\"text_9\">\n    <g clip-path=\"url(#p302e800dda)\">\n     <!-- 1 -->\n     <g transform=\"translate(725.681683 194.806055)scale(0.15 -0.15)\">\n      <defs>\n       <path d=\"M 794 531 \nL 1825 531 \nL 1825 4091 \nL 703 3866 \nL 703 4441 \nL 1819 4666 \nL 2450 4666 \nL 2450 531 \nL 3481 531 \nL 3481 0 \nL 794 0 \nL 794 531 \nz\n\" id=\"DejaVuSans-31\" transform=\"scale(0.015625)\"/>\n      </defs>\n      <use xlink:href=\"#DejaVuSans-31\"/>\n     </g>\n    </g>\n   </g>\n   <g id=\"text_10\">\n    <g clip-path=\"url(#p302e800dda)\">\n     <!-- DeviceProcessEvents -->\n     <g transform=\"translate(596.339083 168.961051)scale(0.15 -0.15)\">\n      <defs>\n       <path d=\"M 1259 4147 \nL 1259 519 \nL 2022 519 \nQ 2988 519 3436 956 \nQ 3884 1394 3884 2338 \nQ 3884 3275 3436 3711 \nQ 2988 4147 2022 4147 \nL 1259 4147 \nz\nM 628 4666 \nL 1925 4666 \nQ 3281 4666 3915 4102 \nQ 4550 3538 4550 2338 \nQ 4550 1131 3912 565 \nQ 3275 0 1925 0 \nL 628 0 \nL 628 4666 \nz\n\" id=\"DejaVuSans-44\" transform=\"scale(0.015625)\"/>\n       <path d=\"M 191 3500 \nL 800 3500 \nL 1894 563 \nL 2988 3500 \nL 3597 3500 \nL 2284 0 \nL 1503 0 \nL 191 3500 \nz\n\" id=\"DejaVuSans-76\" transform=\"scale(0.015625)\"/>\n       <path d=\"M 1259 4147 \nL 1259 2394 \nL 2053 2394 \nQ 2494 2394 2734 2622 \nQ 2975 2850 2975 3272 \nQ 2975 3691 2734 3919 \nQ 2494 4147 2053 4147 \nL 1259 4147 \nz\nM 628 4666 \nL 2053 4666 \nQ 2838 4666 3239 4311 \nQ 3641 3956 3641 3272 \nQ 3641 2581 3239 2228 \nQ 2838 1875 2053 1875 \nL 1259 1875 \nL 1259 0 \nL 628 0 \nL 628 4666 \nz\n\" id=\"DejaVuSans-50\" transform=\"scale(0.015625)\"/>\n       <path d=\"M 628 4666 \nL 3578 4666 \nL 3578 4134 \nL 1259 4134 \nL 1259 2753 \nL 3481 2753 \nL 3481 2222 \nL 1259 2222 \nL 1259 531 \nL 3634 531 \nL 3634 0 \nL 628 0 \nL 628 4666 \nz\n\" id=\"DejaVuSans-45\" transform=\"scale(0.015625)\"/>\n      </defs>\n      <use xlink:href=\"#DejaVuSans-44\"/>\n      <use x=\"77.001953\" xlink:href=\"#DejaVuSans-65\"/>\n      <use x=\"138.525391\" xlink:href=\"#DejaVuSans-76\"/>\n      <use x=\"197.705078\" xlink:href=\"#DejaVuSans-69\"/>\n      <use x=\"225.488281\" xlink:href=\"#DejaVuSans-63\"/>\n      <use x=\"280.46875\" xlink:href=\"#DejaVuSans-65\"/>\n      <use x=\"341.992188\" xlink:href=\"#DejaVuSans-50\"/>\n      <use x=\"400.544922\" xlink:href=\"#DejaVuSans-72\"/>\n      <use x=\"439.408203\" xlink:href=\"#DejaVuSans-6f\"/>\n      <use x=\"500.589844\" xlink:href=\"#DejaVuSans-63\"/>\n      <use x=\"555.570312\" xlink:href=\"#DejaVuSans-65\"/>\n      <use x=\"617.09375\" xlink:href=\"#DejaVuSans-73\"/>\n      <use x=\"669.193359\" xlink:href=\"#DejaVuSans-73\"/>\n      <use x=\"721.292969\" xlink:href=\"#DejaVuSans-45\"/>\n      <use x=\"784.476562\" xlink:href=\"#DejaVuSans-76\"/>\n      <use x=\"843.65625\" xlink:href=\"#DejaVuSans-65\"/>\n      <use x=\"905.179688\" xlink:href=\"#DejaVuSans-6e\"/>\n      <use x=\"968.558594\" xlink:href=\"#DejaVuSans-74\"/>\n      <use x=\"1007.767578\" xlink:href=\"#DejaVuSans-73\"/>\n     </g>\n    </g>\n   </g>\n   <g id=\"text_11\">\n    <g clip-path=\"url(#p302e800dda)\">\n     <!-- 8 -->\n     <g transform=\"translate(620.250238 348.64403)scale(0.15 -0.15)\">\n      <use xlink:href=\"#DejaVuSans-38\"/>\n     </g>\n    </g>\n   </g>\n   <g id=\"text_12\">\n    <g clip-path=\"url(#p302e800dda)\">\n     <!-- 4656 -->\n     <g transform=\"translate(41.920743 407.977049)scale(0.15 -0.15)\">\n      <defs>\n       <path d=\"M 691 4666 \nL 3169 4666 \nL 3169 4134 \nL 1269 4134 \nL 1269 2991 \nQ 1406 3038 1543 3061 \nQ 1681 3084 1819 3084 \nQ 2600 3084 3056 2656 \nQ 3513 2228 3513 1497 \nQ 3513 744 3044 326 \nQ 2575 -91 1722 -91 \nQ 1428 -91 1123 -41 \nQ 819 9 494 109 \nL 494 744 \nQ 775 591 1075 516 \nQ 1375 441 1709 441 \nQ 2250 441 2565 725 \nQ 2881 1009 2881 1497 \nQ 2881 1984 2565 2268 \nQ 2250 2553 1709 2553 \nQ 1456 2553 1204 2497 \nQ 953 2441 691 2322 \nL 691 4666 \nz\n\" id=\"DejaVuSans-35\" transform=\"scale(0.015625)\"/>\n      </defs>\n      <use xlink:href=\"#DejaVuSans-34\"/>\n      <use x=\"63.623047\" xlink:href=\"#DejaVuSans-36\"/>\n      <use x=\"127.246094\" xlink:href=\"#DejaVuSans-35\"/>\n      <use x=\"190.869141\" xlink:href=\"#DejaVuSans-36\"/>\n     </g>\n    </g>\n   </g>\n   <g id=\"text_13\">\n    <g clip-path=\"url(#p302e800dda)\">\n     <!-- 10 -->\n     <g transform=\"translate(35.701705 301.484007)scale(0.15 -0.15)\">\n      <defs>\n       <path d=\"M 2034 4250 \nQ 1547 4250 1301 3770 \nQ 1056 3291 1056 2328 \nQ 1056 1369 1301 889 \nQ 1547 409 2034 409 \nQ 2525 409 2770 889 \nQ 3016 1369 3016 2328 \nQ 3016 3291 2770 3770 \nQ 2525 4250 2034 4250 \nz\nM 2034 4750 \nQ 2819 4750 3233 4129 \nQ 3647 3509 3647 2328 \nQ 3647 1150 3233 529 \nQ 2819 -91 2034 -91 \nQ 1250 -91 836 529 \nQ 422 1150 422 2328 \nQ 422 3509 836 4129 \nQ 1250 4750 2034 4750 \nz\n\" id=\"DejaVuSans-30\" transform=\"scale(0.015625)\"/>\n      </defs>\n      <use xlink:href=\"#DejaVuSans-31\"/>\n      <use x=\"63.623047\" xlink:href=\"#DejaVuSans-30\"/>\n     </g>\n    </g>\n   </g>\n   <g id=\"text_14\">\n    <g clip-path=\"url(#p302e800dda)\">\n     <!-- 4103 -->\n     <g transform=\"translate(787.067045 36.048153)scale(0.15 -0.15)\">\n      <defs>\n       <path d=\"M 2597 2516 \nQ 3050 2419 3304 2112 \nQ 3559 1806 3559 1356 \nQ 3559 666 3084 287 \nQ 2609 -91 1734 -91 \nQ 1441 -91 1130 -33 \nQ 819 25 488 141 \nL 488 750 \nQ 750 597 1062 519 \nQ 1375 441 1716 441 \nQ 2309 441 2620 675 \nQ 2931 909 2931 1356 \nQ 2931 1769 2642 2001 \nQ 2353 2234 1838 2234 \nL 1294 2234 \nL 1294 2753 \nL 1863 2753 \nQ 2328 2753 2575 2939 \nQ 2822 3125 2822 3475 \nQ 2822 3834 2567 4026 \nQ 2313 4219 1838 4219 \nQ 1578 4219 1281 4162 \nQ 984 4106 628 3988 \nL 628 4550 \nQ 988 4650 1302 4700 \nQ 1616 4750 1894 4750 \nQ 2613 4750 3031 4423 \nQ 3450 4097 3450 3541 \nQ 3450 3153 3228 2886 \nQ 3006 2619 2597 2516 \nz\n\" id=\"DejaVuSans-33\" transform=\"scale(0.015625)\"/>\n      </defs>\n      <use xlink:href=\"#DejaVuSans-34\"/>\n      <use x=\"63.623047\" xlink:href=\"#DejaVuSans-31\"/>\n      <use x=\"127.246094\" xlink:href=\"#DejaVuSans-30\"/>\n      <use x=\"190.869141\" xlink:href=\"#DejaVuSans-33\"/>\n     </g>\n    </g>\n   </g>\n   <g id=\"text_15\">\n    <g clip-path=\"url(#p302e800dda)\">\n     <!-- nan -->\n     <g transform=\"translate(598.650864 530.229972)scale(0.15 -0.15)\">\n      <use xlink:href=\"#DejaVuSans-6e\"/>\n      <use x=\"63.378906\" xlink:href=\"#DejaVuSans-61\"/>\n      <use x=\"124.658203\" xlink:href=\"#DejaVuSans-6e\"/>\n     </g>\n    </g>\n   </g>\n  </g>\n </g>\n <defs>\n  <clipPath id=\"p302e800dda\">\n   <rect height=\"543.6\" width=\"837\" x=\"7.2\" y=\"7.2\"/>\n  </clipPath>\n </defs>\n</svg>\n",
      "image/png": "[encoded data removed]"
     },
     "metadata": {}
    }
   ],
   "source": [
    "vis.attack_network_graph(mapping[(mapping['technique_id']=='T1003.001')])"
   ]
  },
  {
   "source": [
    "* Table"
   ],
   "cell_type": "markdown",
   "metadata": {}
  },
  {
   "cell_type": "code",
   "execution_count": 7,
   "metadata": {},
   "outputs": [
    {
     "output_type": "execute_result",
     "data": {
      "text/plain": [
       "     technique_id  x_mitre_is_subtechnique     technique               tactic  \\\n",
       "3448    T1003.001                     True  LSASS Memory  [credential-access]   \n",
       "3449    T1003.001                     True  LSASS Memory  [credential-access]   \n",
       "3450    T1003.001                     True  LSASS Memory  [credential-access]   \n",
       "3451    T1003.001                     True  LSASS Memory  [credential-access]   \n",
       "3452    T1003.001                     True  LSASS Memory  [credential-access]   \n",
       "3453    T1003.001                     True  LSASS Memory  [credential-access]   \n",
       "3454    T1003.001                     True  LSASS Memory  [credential-access]   \n",
       "3455    T1003.001                     True  LSASS Memory  [credential-access]   \n",
       "3456    T1003.001                     True  LSASS Memory  [credential-access]   \n",
       "3457    T1003.001                     True  LSASS Memory  [credential-access]   \n",
       "3458    T1003.001                     True  LSASS Memory  [credential-access]   \n",
       "3459    T1003.001                     True  LSASS Memory  [credential-access]   \n",
       "3460    T1003.001                     True  LSASS Memory  [credential-access]   \n",
       "3461    T1003.001                     True  LSASS Memory  [credential-access]   \n",
       "3462    T1003.001                     True  LSASS Memory  [credential-access]   \n",
       "3463    T1003.001                     True  LSASS Memory  [credential-access]   \n",
       "3464    T1003.001                     True  LSASS Memory  [credential-access]   \n",
       "3465    T1003.001                     True  LSASS Memory  [credential-access]   \n",
       "\n",
       "       platform data_source     data_component  \\\n",
       "3448  [Windows]     process   process creation   \n",
       "3449  [Windows]     process   process creation   \n",
       "3450  [Windows]     process   process creation   \n",
       "3451  [Windows]     process   process creation   \n",
       "3452  [Windows]     process   process creation   \n",
       "3453  [Windows]     process   process creation   \n",
       "3454  [Windows]     process   process creation   \n",
       "3455  [Windows]     process     process access   \n",
       "3456  [Windows]     process     process access   \n",
       "3457  [Windows]     command  command execution   \n",
       "3458  [Windows]     command  command execution   \n",
       "3459  [Windows]     command  command execution   \n",
       "3460  [Windows]     command  command execution   \n",
       "3461  [Windows]     command  command execution   \n",
       "3462  [Windows]     command  command execution   \n",
       "3463  [Windows]     command  command execution   \n",
       "3464  [Windows]     command  command execution   \n",
       "3465  [Windows]     process   os api execution   \n",
       "\n",
       "                                     name   source         relationship  \\\n",
       "3448                 User created Process     user              created   \n",
       "3449                 User created Process     user              created   \n",
       "3450                 User created Process     user              created   \n",
       "3451               Process created Thread  process              created   \n",
       "3452              Process created Process  process              created   \n",
       "3453              Process created Process  process              created   \n",
       "3454              Process created Process  process              created   \n",
       "3455  Process requested access to Process  process  requested access to   \n",
       "3456             Process accessed Process  process             accessed   \n",
       "3457                User executed Command     user             executed   \n",
       "3458                User executed Command     user             executed   \n",
       "3459                User executed Command     user             executed   \n",
       "3460                User executed Command     user             executed   \n",
       "3461             Process executed Command  process             executed   \n",
       "3462             Process executed Command  process             executed   \n",
       "3463             Process executed Command  process             executed   \n",
       "3464             Process executed Command  process             executed   \n",
       "3465                                  NaN      NaN                  NaN   \n",
       "\n",
       "       target             event_id                            event_name  \\\n",
       "3448  process                 4688       A new process has been created.   \n",
       "3449  process                    1                     Process Creation.   \n",
       "3450  process  DeviceProcessEvents                   DeviceProcessEvents   \n",
       "3451   thread                    8                   CreateRemoteThread.   \n",
       "3452  process                 4688       A new process has been created.   \n",
       "3453  process                    1                     Process Creation.   \n",
       "3454  process  DeviceProcessEvents                   DeviceProcessEvents   \n",
       "3455  process                 4656  A handle to an object was requested.   \n",
       "3456  process                   10                        ProcessAccess.   \n",
       "3457  command                 4688       A new process has been created.   \n",
       "3458  command                    1                     Process Creation.   \n",
       "3459  command                 4103                       Module logging.   \n",
       "3460  command  DeviceProcessEvents                   DeviceProcessEvents   \n",
       "3461  command                 4688       A new process has been created.   \n",
       "3462  command                    1                     Process Creation.   \n",
       "3463  command                 4103                       Module logging.   \n",
       "3464  command  DeviceProcessEvents                   DeviceProcessEvents   \n",
       "3465      NaN                  NaN                                   NaN   \n",
       "\n",
       "     event_platform      audit_category audit_sub_category  \\\n",
       "3448        Windows   Detailed Tracking   Process Creation   \n",
       "3449        Windows       ProcessCreate                NaN   \n",
       "3450        Windows                None                NaN   \n",
       "3451        Windows  CreateRemoteThread                NaN   \n",
       "3452        Windows   Detailed Tracking   Process Creation   \n",
       "3453        Windows       ProcessCreate                NaN   \n",
       "3454        Windows                None                NaN   \n",
       "3455        Windows       Object Access      Kernel Object   \n",
       "3456        Windows       ProcessAccess                NaN   \n",
       "3457        Windows   Detailed Tracking   Process Creation   \n",
       "3458        Windows       ProcessCreate                NaN   \n",
       "3459        Windows  Executing Pipeline                NaN   \n",
       "3460        Windows                None                NaN   \n",
       "3461        Windows   Detailed Tracking   Process Creation   \n",
       "3462        Windows       ProcessCreate                NaN   \n",
       "3463        Windows  Executing Pipeline                NaN   \n",
       "3464        Windows                None                NaN   \n",
       "3465            NaN                 NaN                NaN   \n",
       "\n",
       "                                   log_channel  \\\n",
       "3448                                  Security   \n",
       "3449      Microsoft-Windows-Sysmon/Operational   \n",
       "3450                                      None   \n",
       "3451      Microsoft-Windows-Sysmon/Operational   \n",
       "3452                                  Security   \n",
       "3453      Microsoft-Windows-Sysmon/Operational   \n",
       "3454                                      None   \n",
       "3455                                  Security   \n",
       "3456      Microsoft-Windows-Sysmon/Operational   \n",
       "3457                                  Security   \n",
       "3458      Microsoft-Windows-Sysmon/Operational   \n",
       "3459  Microsoft-Windows-PowerShell/Operational   \n",
       "3460                                      None   \n",
       "3461                                  Security   \n",
       "3462      Microsoft-Windows-Sysmon/Operational   \n",
       "3463  Microsoft-Windows-PowerShell/Operational   \n",
       "3464                                      None   \n",
       "3465                                       NaN   \n",
       "\n",
       "                                     log_provider  \n",
       "3448          Microsoft-Windows-Security-Auditing  \n",
       "3449                     Microsoft-Windows-Sysmon  \n",
       "3450  Windows Defender Advanced Threat Protection  \n",
       "3451                     Microsoft-Windows-Sysmon  \n",
       "3452          Microsoft-Windows-Security-Auditing  \n",
       "3453                     Microsoft-Windows-Sysmon  \n",
       "3454  Windows Defender Advanced Threat Protection  \n",
       "3455          Microsoft-Windows-Security-Auditing  \n",
       "3456                     Microsoft-Windows-Sysmon  \n",
       "3457          Microsoft-Windows-Security-Auditing  \n",
       "3458                     Microsoft-Windows-Sysmon  \n",
       "3459                 Microsoft-Windows-PowerShell  \n",
       "3460  Windows Defender Advanced Threat Protection  \n",
       "3461          Microsoft-Windows-Security-Auditing  \n",
       "3462                     Microsoft-Windows-Sysmon  \n",
       "3463                 Microsoft-Windows-PowerShell  \n",
       "3464  Windows Defender Advanced Threat Protection  \n",
       "3465                                          NaN  "
      ],
      "text/html": "<div>\n<style scoped>\n    .dataframe tbody tr th:only-of-type {\n        vertical-align: middle;\n    }\n\n    .dataframe tbody tr th {\n        vertical-align: top;\n    }\n\n    .dataframe thead th {\n        text-align: right;\n    }\n</style>\n<table border=\"1\" class=\"dataframe\">\n  <thead>\n    <tr style=\"text-align: right;\">\n      <th></th>\n      <th>technique_id</th>\n      <th>x_mitre_is_subtechnique</th>\n      <th>technique</th>\n      <th>tactic</th>\n      <th>platform</th>\n      <th>data_source</th>\n      <th>data_component</th>\n      <th>name</th>\n      <th>source</th>\n      <th>relationship</th>\n      <th>target</th>\n      <th>event_id</th>\n      <th>event_name</th>\n      <th>event_platform</th>\n      <th>audit_category</th>\n      <th>audit_sub_category</th>\n      <th>log_channel</th>\n      <th>log_provider</th>\n    </tr>\n  </thead>\n  <tbody>\n    <tr>\n      <th>3448</th>\n      <td>T1003.001</td>\n      <td>True</td>\n      <td>LSASS Memory</td>\n      <td>[credential-access]</td>\n      <td>[Windows]</td>\n      <td>process</td>\n      <td>process creation</td>\n      <td>User created Process</td>\n      <td>user</td>\n      <td>created</td>\n      <td>process</td>\n      <td>4688</td>\n      <td>A new process has been created.</td>\n      <td>Windows</td>\n      <td>Detailed Tracking</td>\n      <td>Process Creation</td>\n      <td>Security</td>\n      <td>Microsoft-Windows-Security-Auditing</td>\n    </tr>\n    <tr>\n      <th>3449</th>\n      <td>T1003.001</td>\n      <td>True</td>\n      <td>LSASS Memory</td>\n      <td>[credential-access]</td>\n      <td>[Windows]</td>\n      <td>process</td>\n      <td>process creation</td>\n      <td>User created Process</td>\n      <td>user</td>\n      <td>created</td>\n      <td>process</td>\n      <td>1</td>\n      <td>Process Creation.</td>\n      <td>Windows</td>\n      <td>ProcessCreate</td>\n      <td>NaN</td>\n      <td>Microsoft-Windows-Sysmon/Operational</td>\n      <td>Microsoft-Windows-Sysmon</td>\n    </tr>\n    <tr>\n      <th>3450</th>\n      <td>T1003.001</td>\n      <td>True</td>\n      <td>LSASS Memory</td>\n      <td>[credential-access]</td>\n      <td>[Windows]</td>\n      <td>process</td>\n      <td>process creation</td>\n      <td>User created Process</td>\n      <td>user</td>\n      <td>created</td>\n      <td>process</td>\n      <td>DeviceProcessEvents</td>\n      <td>DeviceProcessEvents</td>\n      <td>Windows</td>\n      <td>None</td>\n      <td>NaN</td>\n      <td>None</td>\n      <td>Windows Defender Advanced Threat Protection</td>\n    </tr>\n    <tr>\n      <th>3451</th>\n      <td>T1003.001</td>\n      <td>True</td>\n      <td>LSASS Memory</td>\n      <td>[credential-access]</td>\n      <td>[Windows]</td>\n      <td>process</td>\n      <td>process creation</td>\n      <td>Process created Thread</td>\n      <td>process</td>\n      <td>created</td>\n      <td>thread</td>\n      <td>8</td>\n      <td>CreateRemoteThread.</td>\n      <td>Windows</td>\n      <td>CreateRemoteThread</td>\n      <td>NaN</td>\n      <td>Microsoft-Windows-Sysmon/Operational</td>\n      <td>Microsoft-Windows-Sysmon</td>\n    </tr>\n    <tr>\n      <th>3452</th>\n      <td>T1003.001</td>\n      <td>True</td>\n      <td>LSASS Memory</td>\n      <td>[credential-access]</td>\n      <td>[Windows]</td>\n      <td>process</td>\n      <td>process creation</td>\n      <td>Process created Process</td>\n      <td>process</td>\n      <td>created</td>\n      <td>process</td>\n      <td>4688</td>\n      <td>A new process has been created.</td>\n      <td>Windows</td>\n      <td>Detailed Tracking</td>\n      <td>Process Creation</td>\n      <td>Security</td>\n      <td>Microsoft-Windows-Security-Auditing</td>\n    </tr>\n    <tr>\n      <th>3453</th>\n      <td>T1003.001</td>\n      <td>True</td>\n      <td>LSASS Memory</td>\n      <td>[credential-access]</td>\n      <td>[Windows]</td>\n      <td>process</td>\n      <td>process creation</td>\n      <td>Process created Process</td>\n      <td>process</td>\n      <td>created</td>\n      <td>process</td>\n      <td>1</td>\n      <td>Process Creation.</td>\n      <td>Windows</td>\n      <td>ProcessCreate</td>\n      <td>NaN</td>\n      <td>Microsoft-Windows-Sysmon/Operational</td>\n      <td>Microsoft-Windows-Sysmon</td>\n    </tr>\n    <tr>\n      <th>3454</th>\n      <td>T1003.001</td>\n      <td>True</td>\n      <td>LSASS Memory</td>\n      <td>[credential-access]</td>\n      <td>[Windows]</td>\n      <td>process</td>\n      <td>process creation</td>\n      <td>Process created Process</td>\n      <td>process</td>\n      <td>created</td>\n      <td>process</td>\n      <td>DeviceProcessEvents</td>\n      <td>DeviceProcessEvents</td>\n      <td>Windows</td>\n      <td>None</td>\n      <td>NaN</td>\n      <td>None</td>\n      <td>Windows Defender Advanced Threat Protection</td>\n    </tr>\n    <tr>\n      <th>3455</th>\n      <td>T1003.001</td>\n      <td>True</td>\n      <td>LSASS Memory</td>\n      <td>[credential-access]</td>\n      <td>[Windows]</td>\n      <td>process</td>\n      <td>process access</td>\n      <td>Process requested access to Process</td>\n      <td>process</td>\n      <td>requested access to</td>\n      <td>process</td>\n      <td>4656</td>\n      <td>A handle to an object was requested.</td>\n      <td>Windows</td>\n      <td>Object Access</td>\n      <td>Kernel Object</td>\n      <td>Security</td>\n      <td>Microsoft-Windows-Security-Auditing</td>\n    </tr>\n    <tr>\n      <th>3456</th>\n      <td>T1003.001</td>\n      <td>True</td>\n      <td>LSASS Memory</td>\n      <td>[credential-access]</td>\n      <td>[Windows]</td>\n      <td>process</td>\n      <td>process access</td>\n      <td>Process accessed Process</td>\n      <td>process</td>\n      <td>accessed</td>\n      <td>process</td>\n      <td>10</td>\n      <td>ProcessAccess.</td>\n      <td>Windows</td>\n      <td>ProcessAccess</td>\n      <td>NaN</td>\n      <td>Microsoft-Windows-Sysmon/Operational</td>\n      <td>Microsoft-Windows-Sysmon</td>\n    </tr>\n    <tr>\n      <th>3457</th>\n      <td>T1003.001</td>\n      <td>True</td>\n      <td>LSASS Memory</td>\n      <td>[credential-access]</td>\n      <td>[Windows]</td>\n      <td>command</td>\n      <td>command execution</td>\n      <td>User executed Command</td>\n      <td>user</td>\n      <td>executed</td>\n      <td>command</td>\n      <td>4688</td>\n      <td>A new process has been created.</td>\n      <td>Windows</td>\n      <td>Detailed Tracking</td>\n      <td>Process Creation</td>\n      <td>Security</td>\n      <td>Microsoft-Windows-Security-Auditing</td>\n    </tr>\n    <tr>\n      <th>3458</th>\n      <td>T1003.001</td>\n      <td>True</td>\n      <td>LSASS Memory</td>\n      <td>[credential-access]</td>\n      <td>[Windows]</td>\n      <td>command</td>\n      <td>command execution</td>\n      <td>User executed Command</td>\n      <td>user</td>\n      <td>executed</td>\n      <td>command</td>\n      <td>1</td>\n      <td>Process Creation.</td>\n      <td>Windows</td>\n      <td>ProcessCreate</td>\n      <td>NaN</td>\n      <td>Microsoft-Windows-Sysmon/Operational</td>\n      <td>Microsoft-Windows-Sysmon</td>\n    </tr>\n    <tr>\n      <th>3459</th>\n      <td>T1003.001</td>\n      <td>True</td>\n      <td>LSASS Memory</td>\n      <td>[credential-access]</td>\n      <td>[Windows]</td>\n      <td>command</td>\n      <td>command execution</td>\n      <td>User executed Command</td>\n      <td>user</td>\n      <td>executed</td>\n      <td>command</td>\n      <td>4103</td>\n      <td>Module logging.</td>\n      <td>Windows</td>\n      <td>Executing Pipeline</td>\n      <td>NaN</td>\n      <td>Microsoft-Windows-PowerShell/Operational</td>\n      <td>Microsoft-Windows-PowerShell</td>\n    </tr>\n    <tr>\n      <th>3460</th>\n      <td>T1003.001</td>\n      <td>True</td>\n      <td>LSASS Memory</td>\n      <td>[credential-access]</td>\n      <td>[Windows]</td>\n      <td>command</td>\n      <td>command execution</td>\n      <td>User executed Command</td>\n      <td>user</td>\n      <td>executed</td>\n      <td>command</td>\n      <td>DeviceProcessEvents</td>\n      <td>DeviceProcessEvents</td>\n      <td>Windows</td>\n      <td>None</td>\n      <td>NaN</td>\n      <td>None</td>\n      <td>Windows Defender Advanced Threat Protection</td>\n    </tr>\n    <tr>\n      <th>3461</th>\n      <td>T1003.001</td>\n      <td>True</td>\n      <td>LSASS Memory</td>\n      <td>[credential-access]</td>\n      <td>[Windows]</td>\n      <td>command</td>\n      <td>command execution</td>\n      <td>Process executed Command</td>\n      <td>process</td>\n      <td>executed</td>\n      <td>command</td>\n      <td>4688</td>\n      <td>A new process has been created.</td>\n      <td>Windows</td>\n      <td>Detailed Tracking</td>\n      <td>Process Creation</td>\n      <td>Security</td>\n      <td>Microsoft-Windows-Security-Auditing</td>\n    </tr>\n    <tr>\n      <th>3462</th>\n      <td>T1003.001</td>\n      <td>True</td>\n      <td>LSASS Memory</td>\n      <td>[credential-access]</td>\n      <td>[Windows]</td>\n      <td>command</td>\n      <td>command execution</td>\n      <td>Process executed Command</td>\n      <td>process</td>\n      <td>executed</td>\n      <td>command</td>\n      <td>1</td>\n      <td>Process Creation.</td>\n      <td>Windows</td>\n      <td>ProcessCreate</td>\n      <td>NaN</td>\n      <td>Microsoft-Windows-Sysmon/Operational</td>\n      <td>Microsoft-Windows-Sysmon</td>\n    </tr>\n    <tr>\n      <th>3463</th>\n      <td>T1003.001</td>\n      <td>True</td>\n      <td>LSASS Memory</td>\n      <td>[credential-access]</td>\n      <td>[Windows]</td>\n      <td>command</td>\n      <td>command execution</td>\n      <td>Process executed Command</td>\n      <td>process</td>\n      <td>executed</td>\n      <td>command</td>\n      <td>4103</td>\n      <td>Module logging.</td>\n      <td>Windows</td>\n      <td>Executing Pipeline</td>\n      <td>NaN</td>\n      <td>Microsoft-Windows-PowerShell/Operational</td>\n      <td>Microsoft-Windows-PowerShell</td>\n    </tr>\n    <tr>\n      <th>3464</th>\n      <td>T1003.001</td>\n      <td>True</td>\n      <td>LSASS Memory</td>\n      <td>[credential-access]</td>\n      <td>[Windows]</td>\n      <td>command</td>\n      <td>command execution</td>\n      <td>Process executed Command</td>\n      <td>process</td>\n      <td>executed</td>\n      <td>command</td>\n      <td>DeviceProcessEvents</td>\n      <td>DeviceProcessEvents</td>\n      <td>Windows</td>\n      <td>None</td>\n      <td>NaN</td>\n      <td>None</td>\n      <td>Windows Defender Advanced Threat Protection</td>\n    </tr>\n    <tr>\n      <th>3465</th>\n      <td>T1003.001</td>\n      <td>True</td>\n      <td>LSASS Memory</td>\n      <td>[credential-access]</td>\n      <td>[Windows]</td>\n      <td>process</td>\n      <td>os api execution</td>\n      <td>NaN</td>\n      <td>NaN</td>\n      <td>NaN</td>\n      <td>NaN</td>\n      <td>NaN</td>\n      <td>NaN</td>\n      <td>NaN</td>\n      <td>NaN</td>\n      <td>NaN</td>\n      <td>NaN</td>\n      <td>NaN</td>\n    </tr>\n  </tbody>\n</table>\n</div>"
     },
     "metadata": {},
     "execution_count": 7
    }
   ],
   "source": [
    "mapping[mapping['technique_id']=='T1003.001']"
   ]
  },
  {
   "cell_type": "markdown",
   "metadata": {},
   "source": [
    "## This is really cool!!! We have covered most of the recommended data sources/components, however we have not identified security events for one data component: Process / OS Api Execution :(\n",
    "    \n",
    "## What security event logs would you recommend for this data source/component? Contribute to the community through OSSEM :D\n",
    "\n",
    "## You can contribute and map more security events [here](https://github.com/OTRF/OSSEM-DM/tree/main/relationships)"
   ]
  }
 ],
 "metadata": {
  "file_extension": ".py",
  "kernelspec": {
   "name": "python3",
   "display_name": "Python 3"
  },
  "language_info": {
   "codemirror_mode": {
    "name": "ipython",
    "version": 3
   },
   "file_extension": ".py",
   "mimetype": "text/x-python",
   "name": "python",
   "nbconvert_exporter": "python",
   "pygments_lexer": "ipython3",
   "version": "3.9.2"
  },
  "mimetype": "text/x-python",
  "name": "python",
  "npconvert_exporter": "python",
  "pygments_lexer": "ipython3",
  "version": 3,
  "metadata": {
   "interpreter": {
    "hash": "01ff218a1150c63991e192507b67669b395017327636807f98fdac9b0b091f04"
   }
  }
 },
 "nbformat": 4,
 "nbformat_minor": 2
}
